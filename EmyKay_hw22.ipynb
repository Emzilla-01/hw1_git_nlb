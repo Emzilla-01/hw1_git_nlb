{
 "cells": [
  {
   "cell_type": "code",
   "execution_count": null,
   "metadata": {},
   "outputs": [],
   "source": [
    "# Hypothesis generation with respect to problem statement\n",
    "# a)\tItem weight might affect a sale of the product.\n",
    "# b)\tAre the items with more MRP have more item outlet sales?\n",
    "# c)\tAre the items contain low fat have more sales than the items contain regular fat?\n",
    "# d)\tSkewness in distribution of Item_Outlet_Sales for different Item Fat Contents. \n",
    "# e)\tMore Item_Visibility of a particular product may be costlier than other products.\n",
    "# f)\tDoes Item type could have an affect on the sales?\n",
    "# g)\tSize of the stores could have an affect on the item sales at a particular store.\n",
    "# h)\tWhich size stores have more item Outlet Sales?\n",
    "# i)\tAre the stores of different outlets types have same Outlet Sales? \n",
    "# j)\tDoes the Supermarket TYPE 1 type of stores have more outlet sales than other type of stores?\n",
    "# k)\tAre the stores located in different Outlet location affect the sales?\n",
    "# l)\tAre the stores which have established earlier have more sales?\n",
    "\n"
   ]
  },
  {
   "cell_type": "code",
   "execution_count": 1,
   "metadata": {},
   "outputs": [],
   "source": [
    "import pandas as pd\n",
    "import numpy as np\n",
    "import matplotlib.pyplot as plt\n",
    "\n",
    "data_path = r'C:\\Users\\emmam\\Documents\\nlb\\data\\BigMart_Sales.csv'\n"
   ]
  },
  {
   "cell_type": "code",
   "execution_count": 15,
   "metadata": {},
   "outputs": [
    {
     "name": "stdout",
     "output_type": "stream",
     "text": [
      "<class 'pandas.core.frame.DataFrame'>\n",
      "RangeIndex: 8523 entries, 0 to 8522\n",
      "Data columns (total 12 columns):\n",
      " #   Column                     Non-Null Count  Dtype  \n",
      "---  ------                     --------------  -----  \n",
      " 0   Item_Identifier            8523 non-null   object \n",
      " 1   Item_Weight                7060 non-null   float64\n",
      " 2   Item_Fat_Content           8523 non-null   object \n",
      " 3   Item_Visibility            8523 non-null   float64\n",
      " 4   Item_Type                  8523 non-null   object \n",
      " 5   Item_MRP                   8523 non-null   float64\n",
      " 6   Outlet_Identifier          8523 non-null   object \n",
      " 7   Outlet_Establishment_Year  8523 non-null   int64  \n",
      " 8   Outlet_Size                6113 non-null   object \n",
      " 9   Outlet_Location_Type       8523 non-null   object \n",
      " 10  Outlet_Type                8523 non-null   object \n",
      " 11  Item_Outlet_Sales          8523 non-null   float64\n",
      "dtypes: float64(4), int64(1), object(7)\n",
      "memory usage: 799.2+ KB\n"
     ]
    },
    {
     "data": {
      "text/html": [
       "<div>\n",
       "<style scoped>\n",
       "    .dataframe tbody tr th:only-of-type {\n",
       "        vertical-align: middle;\n",
       "    }\n",
       "\n",
       "    .dataframe tbody tr th {\n",
       "        vertical-align: top;\n",
       "    }\n",
       "\n",
       "    .dataframe thead th {\n",
       "        text-align: right;\n",
       "    }\n",
       "</style>\n",
       "<table border=\"1\" class=\"dataframe\">\n",
       "  <thead>\n",
       "    <tr style=\"text-align: right;\">\n",
       "      <th></th>\n",
       "      <th>Item_Identifier</th>\n",
       "      <th>Item_Weight</th>\n",
       "      <th>Item_Fat_Content</th>\n",
       "      <th>Item_Visibility</th>\n",
       "      <th>Item_Type</th>\n",
       "      <th>Item_MRP</th>\n",
       "      <th>Outlet_Identifier</th>\n",
       "      <th>Outlet_Establishment_Year</th>\n",
       "      <th>Outlet_Size</th>\n",
       "      <th>Outlet_Location_Type</th>\n",
       "      <th>Outlet_Type</th>\n",
       "      <th>Item_Outlet_Sales</th>\n",
       "    </tr>\n",
       "  </thead>\n",
       "  <tbody>\n",
       "    <tr>\n",
       "      <th>4471</th>\n",
       "      <td>FDV19</td>\n",
       "      <td>14.85</td>\n",
       "      <td>Regular</td>\n",
       "      <td>0.035228</td>\n",
       "      <td>Fruits and Vegetables</td>\n",
       "      <td>159.5578</td>\n",
       "      <td>OUT013</td>\n",
       "      <td>1987</td>\n",
       "      <td>High</td>\n",
       "      <td>Tier 3</td>\n",
       "      <td>Supermarket Type1</td>\n",
       "      <td>2085.9514</td>\n",
       "    </tr>\n",
       "    <tr>\n",
       "      <th>1669</th>\n",
       "      <td>FDH08</td>\n",
       "      <td>7.51</td>\n",
       "      <td>Low Fat</td>\n",
       "      <td>0.017429</td>\n",
       "      <td>Fruits and Vegetables</td>\n",
       "      <td>229.6010</td>\n",
       "      <td>OUT046</td>\n",
       "      <td>1997</td>\n",
       "      <td>Small</td>\n",
       "      <td>Tier 1</td>\n",
       "      <td>Supermarket Type1</td>\n",
       "      <td>6201.9270</td>\n",
       "    </tr>\n",
       "    <tr>\n",
       "      <th>8508</th>\n",
       "      <td>FDW31</td>\n",
       "      <td>11.35</td>\n",
       "      <td>Regular</td>\n",
       "      <td>0.043246</td>\n",
       "      <td>Fruits and Vegetables</td>\n",
       "      <td>199.4742</td>\n",
       "      <td>OUT045</td>\n",
       "      <td>2002</td>\n",
       "      <td>NaN</td>\n",
       "      <td>Tier 2</td>\n",
       "      <td>Supermarket Type1</td>\n",
       "      <td>2587.9646</td>\n",
       "    </tr>\n",
       "    <tr>\n",
       "      <th>3446</th>\n",
       "      <td>NCG54</td>\n",
       "      <td>12.10</td>\n",
       "      <td>Low Fat</td>\n",
       "      <td>0.079968</td>\n",
       "      <td>Household</td>\n",
       "      <td>170.8106</td>\n",
       "      <td>OUT045</td>\n",
       "      <td>2002</td>\n",
       "      <td>NaN</td>\n",
       "      <td>Tier 2</td>\n",
       "      <td>Supermarket Type1</td>\n",
       "      <td>4619.9862</td>\n",
       "    </tr>\n",
       "    <tr>\n",
       "      <th>6011</th>\n",
       "      <td>FDY13</td>\n",
       "      <td>12.10</td>\n",
       "      <td>LF</td>\n",
       "      <td>0.030174</td>\n",
       "      <td>Canned</td>\n",
       "      <td>76.6670</td>\n",
       "      <td>OUT049</td>\n",
       "      <td>1999</td>\n",
       "      <td>Medium</td>\n",
       "      <td>Tier 1</td>\n",
       "      <td>Supermarket Type1</td>\n",
       "      <td>1531.3400</td>\n",
       "    </tr>\n",
       "    <tr>\n",
       "      <th>7649</th>\n",
       "      <td>FDD08</td>\n",
       "      <td>8.30</td>\n",
       "      <td>Low Fat</td>\n",
       "      <td>0.035409</td>\n",
       "      <td>Fruits and Vegetables</td>\n",
       "      <td>36.2506</td>\n",
       "      <td>OUT049</td>\n",
       "      <td>1999</td>\n",
       "      <td>Medium</td>\n",
       "      <td>Tier 1</td>\n",
       "      <td>Supermarket Type1</td>\n",
       "      <td>834.9132</td>\n",
       "    </tr>\n",
       "    <tr>\n",
       "      <th>3602</th>\n",
       "      <td>FDY11</td>\n",
       "      <td>6.71</td>\n",
       "      <td>reg</td>\n",
       "      <td>0.029681</td>\n",
       "      <td>Baking Goods</td>\n",
       "      <td>65.0142</td>\n",
       "      <td>OUT018</td>\n",
       "      <td>2009</td>\n",
       "      <td>Medium</td>\n",
       "      <td>Tier 3</td>\n",
       "      <td>Supermarket Type2</td>\n",
       "      <td>856.8846</td>\n",
       "    </tr>\n",
       "    <tr>\n",
       "      <th>606</th>\n",
       "      <td>FDW49</td>\n",
       "      <td>19.50</td>\n",
       "      <td>Low Fat</td>\n",
       "      <td>0.082720</td>\n",
       "      <td>Canned</td>\n",
       "      <td>179.3002</td>\n",
       "      <td>OUT045</td>\n",
       "      <td>2002</td>\n",
       "      <td>NaN</td>\n",
       "      <td>Tier 2</td>\n",
       "      <td>Supermarket Type1</td>\n",
       "      <td>2865.6032</td>\n",
       "    </tr>\n",
       "    <tr>\n",
       "      <th>5558</th>\n",
       "      <td>NCS29</td>\n",
       "      <td>9.00</td>\n",
       "      <td>Low Fat</td>\n",
       "      <td>0.069532</td>\n",
       "      <td>Health and Hygiene</td>\n",
       "      <td>266.5884</td>\n",
       "      <td>OUT035</td>\n",
       "      <td>2004</td>\n",
       "      <td>Small</td>\n",
       "      <td>Tier 2</td>\n",
       "      <td>Supermarket Type1</td>\n",
       "      <td>6624.7100</td>\n",
       "    </tr>\n",
       "    <tr>\n",
       "      <th>8199</th>\n",
       "      <td>FDR34</td>\n",
       "      <td>17.00</td>\n",
       "      <td>Regular</td>\n",
       "      <td>0.016030</td>\n",
       "      <td>Snack Foods</td>\n",
       "      <td>228.0352</td>\n",
       "      <td>OUT018</td>\n",
       "      <td>2009</td>\n",
       "      <td>Medium</td>\n",
       "      <td>Tier 3</td>\n",
       "      <td>Supermarket Type2</td>\n",
       "      <td>2748.4224</td>\n",
       "    </tr>\n",
       "  </tbody>\n",
       "</table>\n",
       "</div>"
      ],
      "text/plain": [
       "     Item_Identifier  Item_Weight Item_Fat_Content  Item_Visibility  \\\n",
       "4471           FDV19        14.85          Regular         0.035228   \n",
       "1669           FDH08         7.51          Low Fat         0.017429   \n",
       "8508           FDW31        11.35          Regular         0.043246   \n",
       "3446           NCG54        12.10          Low Fat         0.079968   \n",
       "6011           FDY13        12.10               LF         0.030174   \n",
       "7649           FDD08         8.30          Low Fat         0.035409   \n",
       "3602           FDY11         6.71              reg         0.029681   \n",
       "606            FDW49        19.50          Low Fat         0.082720   \n",
       "5558           NCS29         9.00          Low Fat         0.069532   \n",
       "8199           FDR34        17.00          Regular         0.016030   \n",
       "\n",
       "                  Item_Type  Item_MRP Outlet_Identifier  \\\n",
       "4471  Fruits and Vegetables  159.5578            OUT013   \n",
       "1669  Fruits and Vegetables  229.6010            OUT046   \n",
       "8508  Fruits and Vegetables  199.4742            OUT045   \n",
       "3446              Household  170.8106            OUT045   \n",
       "6011                 Canned   76.6670            OUT049   \n",
       "7649  Fruits and Vegetables   36.2506            OUT049   \n",
       "3602           Baking Goods   65.0142            OUT018   \n",
       "606                  Canned  179.3002            OUT045   \n",
       "5558     Health and Hygiene  266.5884            OUT035   \n",
       "8199            Snack Foods  228.0352            OUT018   \n",
       "\n",
       "      Outlet_Establishment_Year Outlet_Size Outlet_Location_Type  \\\n",
       "4471                       1987        High               Tier 3   \n",
       "1669                       1997       Small               Tier 1   \n",
       "8508                       2002         NaN               Tier 2   \n",
       "3446                       2002         NaN               Tier 2   \n",
       "6011                       1999      Medium               Tier 1   \n",
       "7649                       1999      Medium               Tier 1   \n",
       "3602                       2009      Medium               Tier 3   \n",
       "606                        2002         NaN               Tier 2   \n",
       "5558                       2004       Small               Tier 2   \n",
       "8199                       2009      Medium               Tier 3   \n",
       "\n",
       "            Outlet_Type  Item_Outlet_Sales  \n",
       "4471  Supermarket Type1          2085.9514  \n",
       "1669  Supermarket Type1          6201.9270  \n",
       "8508  Supermarket Type1          2587.9646  \n",
       "3446  Supermarket Type1          4619.9862  \n",
       "6011  Supermarket Type1          1531.3400  \n",
       "7649  Supermarket Type1           834.9132  \n",
       "3602  Supermarket Type2           856.8846  \n",
       "606   Supermarket Type1          2865.6032  \n",
       "5558  Supermarket Type1          6624.7100  \n",
       "8199  Supermarket Type2          2748.4224  "
      ]
     },
     "metadata": {},
     "output_type": "display_data"
    },
    {
     "data": {
      "text/plain": [
       "None"
      ]
     },
     "metadata": {},
     "output_type": "display_data"
    }
   ],
   "source": [
    "df=pd.read_csv(data_path)\n",
    "display(\n",
    "    df.sample(10),\n",
    "    df.info(),\n",
    "       )"
   ]
  },
  {
   "cell_type": "code",
   "execution_count": 62,
   "metadata": {
    "scrolled": true
   },
   "outputs": [
    {
     "name": "stdout",
     "output_type": "stream",
     "text": [
      "\n",
      "    Generally speaking,\n",
      "    Item weight correlation to total units sold : -0.012194054718233193\n",
      "    Correlation is negative (which could suggest increased weight may decrease units sold)\n",
      "    but correlation is very minimal.\n",
      "    \n",
      "    \n"
     ]
    },
    {
     "data": {
      "text/plain": [
       "'strongest to weakest correlation to units sold by item type'"
      ]
     },
     "metadata": {},
     "output_type": "display_data"
    },
    {
     "data": {
      "text/plain": [
       "'(category,     corr,     abs(corr))'"
      ]
     },
     "metadata": {},
     "output_type": "display_data"
    },
    {
     "data": {
      "text/plain": [
       "[('Seafood', (0.2278721573563011, 0.2278721573563011)),\n",
       " ('Others', (-0.16671016944787834, 0.16671016944787834)),\n",
       " ('Baking Goods', (-0.10822289954257482, 0.10822289954257482)),\n",
       " ('Breakfast', (0.09447893815771802, 0.09447893815771802)),\n",
       " ('Hard Drinks', (0.07036971781853431, 0.07036971781853431)),\n",
       " ('Meat', (-0.06982543205929942, 0.06982543205929942)),\n",
       " ('Dairy', (-0.046261710906903473, 0.046261710906903473)),\n",
       " ('Breads', (-0.03419879118338706, 0.03419879118338706)),\n",
       " ('Fruits and Vegetables', (-0.026810804198690086, 0.026810804198690086)),\n",
       " ('Health and Hygiene', (0.02630908057999345, 0.02630908057999345)),\n",
       " ('Household', (0.024396482639563545, 0.024396482639563545)),\n",
       " ('Soft Drinks', (0.015784290399945812, 0.015784290399945812)),\n",
       " ('Canned', (0.015152228152742288, 0.015152228152742288)),\n",
       " ('Starchy Foods', (-0.013663480500294256, 0.013663480500294256)),\n",
       " ('Frozen Foods', (0.013508663737727883, 0.013508663737727883)),\n",
       " ('Snack Foods', (0.0019118583075576079, 0.0019118583075576079))]"
      ]
     },
     "metadata": {},
     "output_type": "display_data"
    },
    {
     "data": {
      "text/plain": [
       "'We can see that for seafood items, heavier items sold better.'"
      ]
     },
     "metadata": {},
     "output_type": "display_data"
    },
    {
     "data": {
      "text/plain": [
       "\"For 'Others' and 'Baking Goods', heavier items sold slightly worse. \""
      ]
     },
     "metadata": {},
     "output_type": "display_data"
    }
   ],
   "source": [
    "# a)\tItem weight might affect a sale of the product.\n",
    "\n",
    "def f_ttl_sold(df, markup):\n",
    "    return( \n",
    "        int(np.divide(df['Item_Outlet_Sales'], df['Item_MRP']*markup ))\n",
    "    )\n",
    "\n",
    "df['ttl_sold_guess'] = df.apply(f_ttl_sold, args=(1.5,), axis=1)\n",
    "\n",
    "print(\n",
    "    f\"\"\"\n",
    "    Generally speaking,\n",
    "    Item weight correlation to total units sold : {df.corr()['Item_Weight']['ttl_sold_guess']}\n",
    "    Correlation is negative (which could suggest increased weight may decrease units sold)\n",
    "    but correlation is very minimal.\n",
    "    \n",
    "    \"\"\")\n",
    "    \n",
    "dict_by_itemtype_corr_weight_sold = {i_t : (df[df['Item_Type']==i_t].corr()['Item_Weight']['ttl_sold_guess'], df[df['Item_Type']==i_t].corr().abs()['Item_Weight']['ttl_sold_guess'] ) for i_t in df['Item_Type'].unique()}\n",
    "    \n",
    "display(\n",
    "    \"strongest to weakest correlation to units sold by item type\",\n",
    "    \"(category,     corr,     abs(corr))\",\n",
    "    sorted(dict_by_itemtype_corr_weight_sold.items(), key=lambda i:i[1][1], reverse=True),\n",
    "    \"We can see that for seafood items, heavier items sold better.\",\n",
    "    \"For 'Others' and 'Baking Goods', heavier items sold slightly worse.\",\n",
    ")"
   ]
  },
  {
   "cell_type": "code",
   "execution_count": 69,
   "metadata": {},
   "outputs": [
    {
     "data": {
      "image/png": "[encoded data removed]",
      "text/plain": [
       "<Figure size 432x288 with 1 Axes>"
      ]
     },
     "metadata": {
      "needs_background": "light"
     },
     "output_type": "display_data"
    }
   ],
   "source": [
    "df[df['Item_Type']==\"Seafood\"].plot.scatter(x='Item_Weight', y='ttl_sold_guess', title='Seafood')\n",
    "plt.show()"
   ]
  },
  {
   "cell_type": "code",
   "execution_count": 68,
   "metadata": {},
   "outputs": [
    {
     "data": {
      "image/png": "[encoded data removed]",
      "text/plain": [
       "<Figure size 432x288 with 1 Axes>"
      ]
     },
     "metadata": {
      "needs_background": "light"
     },
     "output_type": "display_data"
    }
   ],
   "source": [
    "df[df['Item_Type']==\"Others\"].plot.scatter(x='Item_Weight', y='ttl_sold_guess', title='Others')\n",
    "plt.show()"
   ]
  },
  {
   "cell_type": "code",
   "execution_count": 76,
   "metadata": {},
   "outputs": [
    {
     "data": {
      "text/plain": [
       "'Item_MRP corr to total sold'"
      ]
     },
     "metadata": {},
     "output_type": "display_data"
    },
    {
     "data": {
      "text/plain": [
       "0.01150000772405833"
      ]
     },
     "metadata": {},
     "output_type": "display_data"
    },
    {
     "data": {
      "text/plain": [
       "'strongest to weakest correlation MRP to est units sold'"
      ]
     },
     "metadata": {},
     "output_type": "display_data"
    },
    {
     "data": {
      "text/plain": [
       "'(category,     corr,     abs(corr))'"
      ]
     },
     "metadata": {},
     "output_type": "display_data"
    },
    {
     "data": {
      "text/plain": [
       "[('Breakfast', (0.1558066519966166, 0.1558066519966166)),\n",
       " ('Frozen Foods', (0.06738755367319363, 0.06738755367319363)),\n",
       " ('Breads', (-0.04498206637803512, 0.04498206637803512)),\n",
       " ('Dairy', (0.04496057910971878, 0.04496057910971878)),\n",
       " ('Others', (-0.0442481956536594, 0.0442481956536594)),\n",
       " ('Fruits and Vegetables', (0.03560174678136085, 0.03560174678136085)),\n",
       " ('Soft Drinks', (-0.03384482954660516, 0.03384482954660516)),\n",
       " ('Health and Hygiene', (-0.026769109339632908, 0.026769109339632908)),\n",
       " ('Hard Drinks', (0.025742358780179067, 0.025742358780179067)),\n",
       " ('Baking Goods', (0.023848567951696667, 0.023848567951696667)),\n",
       " ('Household', (-0.02366127044313903, 0.02366127044313903)),\n",
       " ('Starchy Foods', (-0.006271361020550089, 0.006271361020550089)),\n",
       " ('Snack Foods', (-0.005115224499283061, 0.005115224499283061)),\n",
       " ('Canned', (-0.0039659982568724305, 0.0039659982568724305)),\n",
       " ('Seafood', (0.0031450779938842917, 0.0031450779938842917)),\n",
       " ('Meat', (0.001280562973047981, 0.001280562973047981))]"
      ]
     },
     "metadata": {},
     "output_type": "display_data"
    },
    {
     "data": {
      "text/plain": [
       "'We can see that more expensive Breakfast items sold better than cheaper breakfast items.'"
      ]
     },
     "metadata": {},
     "output_type": "display_data"
    },
    {
     "data": {
      "text/plain": [
       "<AxesSubplot:xlabel='Item_MRP', ylabel='ttl_sold_guess'>"
      ]
     },
     "execution_count": 76,
     "metadata": {},
     "output_type": "execute_result"
    },
    {
     "data": {
      "image/png": "[encoded data removed]",
      "text/plain": [
       "<Figure size 432x288 with 1 Axes>"
      ]
     },
     "metadata": {
      "needs_background": "light"
     },
     "output_type": "display_data"
    }
   ],
   "source": [
    "# b)\tAre the items with more MRP have more item outlet sales?\n",
    "\n",
    "display(\"Item_MRP corr to total sold\",\n",
    "    df.corr()['Item_MRP']['ttl_sold_guess']\n",
    ")\n",
    "\n",
    "dict_by_itemtype_corr_mrp_sold = {i_t : (df[df['Item_Type']==i_t].corr()['Item_MRP']['ttl_sold_guess'], df[df['Item_Type']==i_t].corr().abs()['Item_MRP']['ttl_sold_guess'] ) for i_t in df['Item_Type'].unique()}\n",
    "\n",
    "    \n",
    "display(\n",
    "    \"strongest to weakest correlation MRP to est units sold\",\n",
    "    \"(category,     corr,     abs(corr))\",\n",
    "    sorted(dict_by_itemtype_corr_mrp_sold.items(), key=lambda i:i[1][1], reverse=True),\n",
    "    \"We can see that more expensive Breakfast items sold better than cheaper breakfast items.\"\n",
    ")\n",
    "\n",
    "df[df['Item_Type']=='Breakfast'].plot.scatter(x='Item_MRP', y='ttl_sold_guess')"
   ]
  },
  {
   "cell_type": "code",
   "execution_count": null,
   "metadata": {},
   "outputs": [],
   "source": []
  }
 ],
 "metadata": {
  "kernelspec": {
   "display_name": "Python 3",
   "language": "python",
   "name": "python3"
  },
  "language_info": {
   "codemirror_mode": {
    "name": "ipython",
    "version": 3
   },
   "file_extension": ".py",
   "mimetype": "text/x-python",
   "name": "python",
   "nbconvert_exporter": "python",
   "pygments_lexer": "ipython3",
   "version": "3.8.5"
  }
 },
 "nbformat": 4,
 "nbformat_minor": 4
}
