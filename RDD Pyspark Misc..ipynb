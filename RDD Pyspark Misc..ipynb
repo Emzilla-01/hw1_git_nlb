{
 "cells": [
  {
   "cell_type": "code",
   "execution_count": 1,
   "id": "loved-spray",
   "metadata": {},
   "outputs": [],
   "source": [
    "try:\n",
    "    sc.stop()\n",
    "except:\n",
    "    print(\"no sc to stop\")\n",
    "\n",
    "from pyspark import SparkContext, SparkConf\n",
    "from pyspark.sql import SparkSession, HiveContext\n",
    "\n",
    "conf = SparkConf().setAppName('SparkRDDSession').setMaster('local[4]')\n",
    "sc = SparkContext.getOrCreate(conf = conf)\n"
   ]
  },
  {
   "cell_type": "code",
   "execution_count": 2,
   "id": "secure-issue",
   "metadata": {},
   "outputs": [
    {
     "data": {
      "text/html": [
       "\n",
       "        <div>\n",
       "            <p><b>SparkContext</b></p>\n",
       "\n",
       "            <p><a href=\"http://10.0.2.15:4041\">Spark UI</a></p>\n",
       "\n",
       "            <dl>\n",
       "              <dt>Version</dt>\n",
       "                <dd><code>v2.4.7</code></dd>\n",
       "              <dt>Master</dt>\n",
       "                <dd><code>local[4]</code></dd>\n",
       "              <dt>AppName</dt>\n",
       "                <dd><code>SparkRDDSession</code></dd>\n",
       "            </dl>\n",
       "        </div>\n",
       "        "
      ],
      "text/plain": [
       "<SparkContext master=local[4] appName=SparkRDDSession>"
      ]
     },
     "execution_count": 2,
     "metadata": {},
     "output_type": "execute_result"
    }
   ],
   "source": [
    "sc"
   ]
  },
  {
   "cell_type": "code",
   "execution_count": 5,
   "id": "compact-worse",
   "metadata": {},
   "outputs": [],
   "source": [
    "from pyspark.sql.types import StructField, StringType, IntegerType, StructType"
   ]
  },
  {
   "cell_type": "code",
   "execution_count": 6,
   "id": "complex-freeze",
   "metadata": {},
   "outputs": [],
   "source": [
    "# hive integration with spark session\n",
    "spark = (SparkSession.builder.appName('pysession'))"
   ]
  },
  {
   "cell_type": "code",
   "execution_count": 61,
   "id": "proud-addiction",
   "metadata": {},
   "outputs": [],
   "source": [
    "import numpy as np\n",
    "\n",
    "B = sc.parallelize(np.random.randint(0,10, size=1000))\n",
    "lst = B.collect()"
   ]
  },
  {
   "cell_type": "code",
   "execution_count": 8,
   "id": "successful-subject",
   "metadata": {},
   "outputs": [
    {
     "name": "stdout",
     "output_type": "stream",
     "text": [
      "6, 1, 6, 2, 8, 7, 2, 9, 9, 7, 8, 8, 7, 3, 1, 7, 7, 8, 5, 7, 6, 4, 2, 7, 3, 5, 1, 9, 8, 3, 3, 7, 8, 9, 1, 3, 0, 0, 7, 9, 2, 4, 4, 9, 2, 3, 5, 7, 7, 7, 9, 6, 3, 5, 9, 2, 1, 9, 7, 2, 2, 2, 7, 1, 1, 8, 7, 4, 7, 1, 0, 7, 6, 3, 1, 3, 9, 3, 7, 8, 9, 7, 9, 2, 4, 2, 1, 2, 3, 1, 1, 7, 9, 1, 5, 5, 8, 8, 8, 7, 7, 2, 3, 1, 9, 0, 4, 5, 3, 9, 7, 3, 6, 5, 3, 7, 6, 5, 7, 2, 3, 9, 3, 1, 8, 4, 8, 2, 9, 9, 0, 4, 8, 5, 2, 4, 9, 6, 8, 6, 6, 2, 2, 5, 3, 6, 2, 5, 9, 5, 2, 6, 7, 2, 4, 9, 6, 4, 9, 1, 6, 4, 2, 1, 5, 5, 2, 7, 6, 1, 9, 4, 4, 9, 8, 2, 4, 5, 8, 8, 4, 8, 0, 6, 5, 1, 6, 4, 1, 4, 5, 8, 5, 2, 3, 1, 1, 6, 7, 2, 8, 8, 8, 3, 1, 3, 0, 8, 1, 2, 2, 7, 5, 1, 3, 1, 0, 2, 2, 9, 2, 9, 8, 3, 6, 0, 6, 5, 0, 5, 8, 0, 5, 0, 8, 6, 9, 4, 5, 8, 6, 2, 5, 9, 8, 0, 5, 5, 9, 3, 3, 6, 1, 8, 0, 1, 4, 9, 2, 5, 1, 3, 5, 7, 5, 0, 1, 2, 4, 0, 3, 8, 9, 1, 7, 8, 0, 0, 3, 7, 1, 9, 1, 6, 5, 6, 8, 1, 4, 5, 8, 9, 2, 0, 1, 6, 1, 0, 0, 0, 3, 4, 7, 5, 2, 4, 1, 3, 6, 8, 8, 9, 4, 2, 5, 4, 9, 9, 8, 5, 7, 8, 6, 5, 8, 2, 4, 5, 7, 1, 7, 9, 8, 5, 9, 7, 7, 9, 8, 7, 4, 3, 0, 7, 0, 4, 5, 1, 5, 2, 5, 3, 0, 2, 4, 4, 3, 9, 2, 2, 0, 5, 6, 2, 2, 6, 0, 4, 3, 0, 2, 6, 1, 2, 8, 2, 3, 4, 2, 7, 5, 3, 9, 5, 3, 3, 3, 4, 0, 7, 3, 2, 4, 2, 2, 8, 2, 3, 8, 8, 6, 4, 4, 5, 0, 0, 9, 6, 7, 5, 7, 4, 3, 9, 1, 7, 1, 1, 6, 5, 0, 3, 9, 8, 3, 6, 0, 6, 3, 1, 9, 9, 3, 3, 6, 8, 8, 3, 3, 6, 3, 3, 4, 5, 0, 4, 2, 1, 4, 5, 1, 5, 2, 8, 9, 7, 8, 3, 5, 4, 7, 3, 9, 8, 8, 3, 2, 2, 6, 8, 1, 2, 1, 9, 0, 8, 9, 0, 6, 2, 3, 2, 6, 4, 5, 0, 7, 1, 3, 7, 3, 4, 4, 1, 5, 8, 3, 4, 0, 7, 8, 0, 6, 4, 7, 0, 7, 3, 6, 1, 4, 6, 2, 0, 8, 1, 4, 0, 4, 4, 5, 7, 8, 7, 8, 7, 8, 4, 9, 2, 9, 6, 7, 2, 3, 5, 0, 1, 2, 8, 3, 8, 6, 7, 0, 1, 9, 8, 3, 6, 5, 8, 5, 2, 1, 6, 2, 4, 9, 6, 6, 8, 7, 7, 2, 6, 1, 8, 3, 3, 4, 2, 7, 8, 6, 8, 1, 7, 9, 9, 2, 8, 1, 5, 7, 8, 1, 4, 0, 1, 5, 5, 3, 3, 0, 6, 4, 0, 0, 4, 2, 5, 3, 5, 3, 1, 7, 6, 1, 8, 6, 3, 1, 1, 0, 3, 8, 2, 3, 0, 4, 3, 8, 8, 9, 5, 1, 5, 9, 5, 1, 0, 8, 5, 4, 2, 9, 5, 4, 7, 3, 7, 4, 8, 8, 0, 0, 0, 9, 3, 7, 9, 1, 9, 5, 4, 5, 3, 1, 5, 8, 8, 5, 0, 6, 2, 6, 5, 1, 3, 2, 4, 5, 1, 9, 0, 8, 4, 9, 1, 1, 5, 1, 4, 1, 7, 1, 3, 0, 7, 0, 4, 0, 3, 2, 5, 8, 4, 7, 1, 5, 6, 5, 3, 3, 9, 8, 4, 5, 7, 2, 4, 2, 4, 4, 2, 2, 8, 0, 0, 5, 2, 8, 0, 9, 6, 5, 0, 5, 3, 3, 3, 1, 7, 9, 7, 1, 1, 4, 2, 4, 6, 2, 6, 0, 0, 9, 0, 8, 1, 8, 0, 8, 1, 3, 9, 8, 5, 1, 6, 7, 1, 5, 5, 9, 7, 6, 1, 8, 1, 3, 4, 3, 0, 1, 5, 3, 1, 7, 4, 0, 4, 0, 0, 9, 8, 7, 0, 2, 7, 0, 8, 9, 3, 0, 4, 7, 1, 5, 9, 3, 4, 6, 4, 5, 5, 2, 3, 8, 1, 4, 9, 3, 0, 0, 5, 0, 4, 8, 0, 8, 3, 0, 7, 1, 4, 3, 6, 4, 7, 6, 5, 6, 6, 2, 3, 8, 2, 0, 4, 7, 8, 6, 6, 6, 9, 2, 7, 6, 0, 9, 2, 4, 2, 4, 1, 6, 3, 5, 7, 8, 8, 1, 6, 7, 4, 1, 5, 5, 3, 2, 9, 7, 8, 5, 8, 6, 9, 0, 4, 0, 0, 2, 3, 2, 0, 1, 8, 0, 1, 2, 4, 0, 0, 5, 0, 9, 6, 4, 2, 5, 7, 5, 7, 4, 9, 5, 5, 6, 8, 2, 7, 5, 0, 8, 3, 4, 2, 3, 7, 3, 1, 0, 7, 5, 2, 8, 9, 5, 1, 9, 2, 5, 1, 2, 9, 0, 4, 1, 4, 8, 3, 4, 9, 7, 2, 3, 3, 1, 7, 9, 7, 2, 6, 9, 9, 4, 1, 3, 8, 7, 5, 7, 2, 3, 4, 8, 1, 3, 5, 5, 0, 3, 1, 4, 6, 2, 2, 0, 6, 5, 8, 0, 6, 9, 5, 9, 8, 3, 1, 5, 6, 8, 7, 6, 7, 9, 6, 8, 5, "
     ]
    }
   ],
   "source": [
    "for i in lst:\n",
    "    print(i, end=', ')"
   ]
  },
  {
   "cell_type": "code",
   "execution_count": 77,
   "id": "diagnostic-employee",
   "metadata": {},
   "outputs": [
    {
     "name": "stdout",
     "output_type": "stream",
     "text": [
      "CPU times: user 0 ns, sys: 12 ms, total: 12 ms\n",
      "Wall time: 254 ms\n"
     ]
    }
   ],
   "source": [
    "%%time\n",
    "squares = B.map(lambda x:x*x)\n",
    "summation = squares.reduce(lambda x,y:x+y)"
   ]
  },
  {
   "cell_type": "code",
   "execution_count": 63,
   "id": "sporting-charger",
   "metadata": {},
   "outputs": [
    {
     "data": {
      "text/plain": [
       "28432"
      ]
     },
     "execution_count": 63,
     "metadata": {},
     "output_type": "execute_result"
    }
   ],
   "source": [
    "summation"
   ]
  },
  {
   "cell_type": "code",
   "execution_count": 64,
   "id": "characteristic-bottle",
   "metadata": {},
   "outputs": [],
   "source": [
    "###### Merge both syntaxes - sequential chaining"
   ]
  },
  {
   "cell_type": "code",
   "execution_count": 79,
   "id": "decreased-float",
   "metadata": {},
   "outputs": [
    {
     "name": "stdout",
     "output_type": "stream",
     "text": [
      "CPU times: user 0 ns, sys: 12.1 ms, total: 12.1 ms\n",
      "Wall time: 195 ms\n"
     ]
    },
    {
     "data": {
      "text/plain": [
       "28432"
      ]
     },
     "execution_count": 79,
     "metadata": {},
     "output_type": "execute_result"
    }
   ],
   "source": [
    "%%time\n",
    "B.map(lambda x:x*x).reduce(lambda x,y:x+y)"
   ]
  },
  {
   "cell_type": "markdown",
   "id": "essential-budapest",
   "metadata": {},
   "source": [
    "#### pipelined execution\n",
    "* less memory required - intermediate results are not stored\n",
    "* faster at scale - only one pass through input RDD"
   ]
  },
  {
   "cell_type": "code",
   "execution_count": 80,
   "id": "atmospheric-academy",
   "metadata": {},
   "outputs": [],
   "source": [
    "# Reduce"
   ]
  },
  {
   "cell_type": "code",
   "execution_count": 81,
   "id": "realistic-mortality",
   "metadata": {},
   "outputs": [],
   "source": [
    "list_1 = np.random.randint(0,50,30)\n",
    "rdd_1 = sc.parallelize(list_1)"
   ]
  },
  {
   "cell_type": "code",
   "execution_count": 82,
   "id": "quarterly-converter",
   "metadata": {},
   "outputs": [],
   "source": [
    "rdd_1_distinct = rdd_1.distinct()"
   ]
  },
  {
   "cell_type": "code",
   "execution_count": 83,
   "id": "sweet-mandate",
   "metadata": {},
   "outputs": [
    {
     "data": {
      "text/plain": [
       "[48,\n",
       " 20,\n",
       " 24,\n",
       " 4,\n",
       " 44,\n",
       " 12,\n",
       " 36,\n",
       " 1,\n",
       " 37,\n",
       " 33,\n",
       " 18,\n",
       " 34,\n",
       " 6,\n",
       " 22,\n",
       " 10,\n",
       " 2,\n",
       " 30,\n",
       " 19,\n",
       " 35,\n",
       " 39,\n",
       " 47,\n",
       " 7,\n",
       " 15]"
      ]
     },
     "execution_count": 83,
     "metadata": {},
     "output_type": "execute_result"
    }
   ],
   "source": [
    "rdd_1_distinct.collect()"
   ]
  },
  {
   "cell_type": "code",
   "execution_count": 85,
   "id": "independent-supplement",
   "metadata": {},
   "outputs": [
    {
     "data": {
      "text/plain": [
       "543"
      ]
     },
     "execution_count": 85,
     "metadata": {},
     "output_type": "execute_result"
    }
   ],
   "source": [
    "rdd_1_distinct.reduce(lambda x,y: x+y)"
   ]
  },
  {
   "cell_type": "code",
   "execution_count": 87,
   "id": "appreciated-poker",
   "metadata": {},
   "outputs": [
    {
     "data": {
      "text/plain": [
       "48"
      ]
     },
     "execution_count": 87,
     "metadata": {},
     "output_type": "execute_result"
    }
   ],
   "source": [
    "rdd_1_distinct.reduce(lambda x,y: x if x>y else y)"
   ]
  },
  {
   "cell_type": "code",
   "execution_count": 88,
   "id": "absolute-survey",
   "metadata": {},
   "outputs": [],
   "source": [
    "# ReduceByKey\n"
   ]
  },
  {
   "cell_type": "code",
   "execution_count": 89,
   "id": "twelve-colonial",
   "metadata": {},
   "outputs": [],
   "source": [
    "data = [\n",
    "        ('project', 1),\n",
    "        ('alice', 1),\n",
    "        ('adventures', 1),\n",
    "        ('in', 1),\n",
    "        ('wonderland', 1),\n",
    "        ('alice', 1),\n",
    "        ('adventures', 1),\n",
    "        ('in', 1),\n",
    "        ('wonderland', 1),\n",
    "        ('wonderland', 1),\n",
    "       ]"
   ]
  },
  {
   "cell_type": "code",
   "execution_count": 90,
   "id": "central-audio",
   "metadata": {},
   "outputs": [],
   "source": [
    "rdd_2 = sc.parallelize(data)"
   ]
  },
  {
   "cell_type": "code",
   "execution_count": 91,
   "id": "bigger-advice",
   "metadata": {},
   "outputs": [],
   "source": [
    "# in case of map output (k,v)\n",
    "rdd_3 = rdd_2.reduceByKey(lambda a,b: a+b)"
   ]
  },
  {
   "cell_type": "code",
   "execution_count": 92,
   "id": "iraqi-budapest",
   "metadata": {},
   "outputs": [
    {
     "data": {
      "text/plain": [
       "[('wonderland', 3), ('in', 2), ('adventures', 2), ('project', 1), ('alice', 2)]"
      ]
     },
     "execution_count": 92,
     "metadata": {},
     "output_type": "execute_result"
    }
   ],
   "source": [
    "rdd_3.collect()"
   ]
  },
  {
   "cell_type": "code",
   "execution_count": null,
   "id": "quick-hayes",
   "metadata": {},
   "outputs": [],
   "source": []
  }
 ],
 "metadata": {
  "kernelspec": {
   "display_name": "Python 3",
   "language": "python",
   "name": "python3"
  },
  "language_info": {
   "codemirror_mode": {
    "name": "ipython",
    "version": 3
   },
   "file_extension": ".py",
   "mimetype": "text/x-python",
   "name": "python",
   "nbconvert_exporter": "python",
   "pygments_lexer": "ipython3",
   "version": "3.5.2"
  }
 },
 "nbformat": 4,
 "nbformat_minor": 5
}
