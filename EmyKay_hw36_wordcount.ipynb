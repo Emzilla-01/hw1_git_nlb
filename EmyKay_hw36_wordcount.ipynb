{
 "cells": [
  {
   "cell_type": "code",
   "execution_count": 1,
   "id": "liked-senegal",
   "metadata": {},
   "outputs": [
    {
     "data": {
      "text/html": [
       "\n",
       "        <div>\n",
       "            <p><b>SparkContext</b></p>\n",
       "\n",
       "            <p><a href=\"http://10.0.2.15:4042\">Spark UI</a></p>\n",
       "\n",
       "            <dl>\n",
       "              <dt>Version</dt>\n",
       "                <dd><code>v2.4.7</code></dd>\n",
       "              <dt>Master</dt>\n",
       "                <dd><code>local[4]</code></dd>\n",
       "              <dt>AppName</dt>\n",
       "                <dd><code>wordcount0</code></dd>\n",
       "            </dl>\n",
       "        </div>\n",
       "        "
      ],
      "text/plain": [
       "<SparkContext master=local[4] appName=wordcount0>"
      ]
     },
     "execution_count": 1,
     "metadata": {},
     "output_type": "execute_result"
    }
   ],
   "source": [
    "try:\n",
    "    sc.stop()\n",
    "except:\n",
    "    pass\n",
    "\n",
    "from pyspark import SparkContext, SparkConf\n",
    "conf = SparkConf().setAppName('wordcount0').setMaster('local[4]')\n",
    "sc = SparkContext.getOrCreate(conf = conf)\n",
    "\n",
    "from pyspark.sql import SparkSession \n",
    "from pyspark.sql.types import StructField, StringType, IntegerType, StructType\n",
    "\n",
    "spark = SparkSession.builder.appName('wordcount0').getOrCreate()\n",
    "sc\n"
   ]
  },
  {
   "cell_type": "code",
   "execution_count": 2,
   "id": "moral-configuration",
   "metadata": {},
   "outputs": [],
   "source": [
    "rdd = sc.textFile(\"file:///home/hadoop/data/TaintedLove.txt\", minPartitions=4)"
   ]
  },
  {
   "cell_type": "code",
   "execution_count": 3,
   "id": "cooperative-addiction",
   "metadata": {},
   "outputs": [
    {
     "data": {
      "text/plain": [
       "pyspark.rdd.RDD"
      ]
     },
     "execution_count": 3,
     "metadata": {},
     "output_type": "execute_result"
    }
   ],
   "source": [
    "type(rdd)"
   ]
  },
  {
   "cell_type": "code",
   "execution_count": 4,
   "id": "understanding-shanghai",
   "metadata": {
    "scrolled": true
   },
   "outputs": [
    {
     "data": {
      "text/plain": [
       "[\"Sometimes I feel I've got to\",\n",
       " \"Run away, I've got to\",\n",
       " 'Get away from the pain you drive into the heart of me',\n",
       " 'The love we share',\n",
       " 'Seems to go nowhere']"
      ]
     },
     "execution_count": 4,
     "metadata": {},
     "output_type": "execute_result"
    }
   ],
   "source": [
    "rdd.take(5)"
   ]
  },
  {
   "cell_type": "code",
   "execution_count": 5,
   "id": "pacific-system",
   "metadata": {},
   "outputs": [],
   "source": [
    "def wordcount_mapreduce(rdd, n_take=50):\n",
    "    # with spark_context_alias() as sc?\n",
    "    # \n",
    "    stopwords = [\"and\",\"the\",\"to\",\"my\",\"of\",\"i\",\"in\",\"that\",\"with\",\"for\",\"but\",\"a\",\"is\", 'not','so','as','be','me','which','all','when','it']\n",
    "    f_map = lambda st: [(y.lower().strip(),1) for y in st.split() if y.lower().strip() not in stopwords]\n",
    "    rdd=rdd.flatMap(f_map)\n",
    "    f_reduce = lambda a,b : (a+b)\n",
    "    rdd=rdd.reduceByKey(f_reduce)\n",
    "    result= rdd.takeOrdered(n_take, key=lambda w: -w[1])\n",
    "    return(result)\n",
    "    "
   ]
  },
  {
   "cell_type": "code",
   "execution_count": 6,
   "id": "first-triple",
   "metadata": {},
   "outputs": [
    {
     "data": {
      "text/plain": [
       "[('love', 19),\n",
       " ('you', 16),\n",
       " ('tainted', 16),\n",
       " ('(oh)', 8),\n",
       " (\"i've\", 5),\n",
       " ('now', 4),\n",
       " ('give', 4),\n",
       " ('got', 4),\n",
       " ('from', 4),\n",
       " ('run', 4),\n",
       " ('me,', 3),\n",
       " ('touch', 3),\n",
       " ('away,', 3),\n",
       " (\"don't\", 3),\n",
       " ('once', 2),\n",
       " ('go', 2),\n",
       " ('pray', 2),\n",
       " ('baby,', 2),\n",
       " ('nearly', 2),\n",
       " (\"that's\", 2),\n",
       " ('things', 2),\n",
       " ('ran', 2),\n",
       " (\"i'll\", 2),\n",
       " ('tears,', 2),\n",
       " ('ran)', 2),\n",
       " ('this', 2),\n",
       " ('way', 2),\n",
       " ('take', 2),\n",
       " ('boy', 2),\n",
       " ('get', 2),\n",
       " ('given', 2),\n",
       " ('could', 2),\n",
       " ('(i', 2),\n",
       " (\"you've\", 2),\n",
       " (\"i'm\", 2),\n",
       " ('sometimes', 1),\n",
       " ('cannot', 1),\n",
       " ('feel', 1),\n",
       " ('away', 1),\n",
       " ('right', 1),\n",
       " ('sorry,', 1),\n",
       " ('toss', 1),\n",
       " ('heart', 1),\n",
       " ('think', 1),\n",
       " ('lost', 1),\n",
       " ('really', 1),\n",
       " ('someone', 1),\n",
       " ('need', 1),\n",
       " ('turn,', 1),\n",
       " ('hold', 1)]"
      ]
     },
     "execution_count": 6,
     "metadata": {},
     "output_type": "execute_result"
    }
   ],
   "source": [
    "wordcount_mapreduce(rdd)"
   ]
  },
  {
   "cell_type": "code",
   "execution_count": 7,
   "id": "several-number",
   "metadata": {},
   "outputs": [],
   "source": [
    "del rdd"
   ]
  },
  {
   "cell_type": "code",
   "execution_count": 8,
   "id": "executive-colony",
   "metadata": {},
   "outputs": [],
   "source": [
    "rdd = sc.textFile(\"file:///home/hadoop/data/shakespeare.txt\", minPartitions=4)"
   ]
  },
  {
   "cell_type": "code",
   "execution_count": 9,
   "id": "worse-motor",
   "metadata": {},
   "outputs": [
    {
     "data": {
      "text/plain": [
       "[('thy', 287),\n",
       " ('thou', 230),\n",
       " ('love', 118),\n",
       " ('his', 105),\n",
       " ('thee', 100),\n",
       " ('your', 100),\n",
       " ('you', 93),\n",
       " ('this', 92),\n",
       " ('by', 91),\n",
       " ('doth', 88),\n",
       " ('do', 82),\n",
       " ('from', 81),\n",
       " ('on', 78),\n",
       " ('or', 78),\n",
       " ('have', 72),\n",
       " ('no', 71),\n",
       " ('then', 71),\n",
       " ('what', 70),\n",
       " ('self', 67),\n",
       " ('if', 67),\n",
       " ('are', 63),\n",
       " ('their', 63),\n",
       " ('shall', 59),\n",
       " ('more', 53),\n",
       " ('nor', 52),\n",
       " ('mine', 52),\n",
       " ('yet', 51),\n",
       " ('o', 50),\n",
       " ('they', 50),\n",
       " ('will', 50),\n",
       " ('than', 48),\n",
       " ('sweet', 48),\n",
       " ('beauty', 46),\n",
       " ('her', 45),\n",
       " ('thee,', 45),\n",
       " ('should', 44),\n",
       " ('can', 44),\n",
       " ('hath', 43),\n",
       " ('he', 42),\n",
       " ('make', 40),\n",
       " ('how', 39),\n",
       " ('where', 37),\n",
       " ('now', 37),\n",
       " ('art', 37),\n",
       " ('eyes', 36),\n",
       " ('time', 36),\n",
       " ('love,', 35),\n",
       " ('heart', 34),\n",
       " ('him', 34),\n",
       " ('thine', 34)]"
      ]
     },
     "execution_count": 9,
     "metadata": {},
     "output_type": "execute_result"
    }
   ],
   "source": [
    "wordcount_mapreduce(rdd)"
   ]
  },
  {
   "cell_type": "code",
   "execution_count": null,
   "id": "adequate-gnome",
   "metadata": {},
   "outputs": [],
   "source": []
  }
 ],
 "metadata": {
  "kernelspec": {
   "display_name": "Python 3",
   "language": "python",
   "name": "python3"
  },
  "language_info": {
   "codemirror_mode": {
    "name": "ipython",
    "version": 3
   },
   "file_extension": ".py",
   "mimetype": "text/x-python",
   "name": "python",
   "nbconvert_exporter": "python",
   "pygments_lexer": "ipython3",
   "version": "3.5.2"
  }
 },
 "nbformat": 4,
 "nbformat_minor": 5
}
