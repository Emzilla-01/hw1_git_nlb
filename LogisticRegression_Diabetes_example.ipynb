{
 "cells": [
  {
   "cell_type": "code",
   "execution_count": 1,
   "id": "clear-mailing",
   "metadata": {},
   "outputs": [],
   "source": [
    "try:\n",
    "    sc.stop()\n",
    "except:\n",
    "    print('no sc to stop')"
   ]
  },
  {
   "cell_type": "code",
   "execution_count": 2,
   "id": "furnished-inspiration",
   "metadata": {},
   "outputs": [],
   "source": [
    "from pyspark import SparkConf, SparkContext\n",
    "from pyspark.sql import SparkSession\n",
    "\n",
    "sc = SparkContext()\n",
    "\n",
    "spark = SparkSession(sparkContext= sc)\n",
    "\n"
   ]
  },
  {
   "cell_type": "code",
   "execution_count": 3,
   "id": "thrown-overview",
   "metadata": {},
   "outputs": [
    {
     "name": "stdout",
     "output_type": "stream",
     "text": [
      "+-----------+-------+-------------+-------------+-------+----+------------------------+---+-------+\n",
      "|Pregnancies|Glucose|BloodPressure|SkinThickness|Insulin| BMI|DiabetesPedigreeFunction|Age|Outcome|\n",
      "+-----------+-------+-------------+-------------+-------+----+------------------------+---+-------+\n",
      "|          6|    148|           72|           35|      0|33.6|                   0.627| 50|      1|\n",
      "|          1|     85|           66|           29|      0|26.6|                   0.351| 31|      0|\n",
      "|          8|    183|           64|            0|      0|23.3|                   0.672| 32|      1|\n",
      "|          1|     89|           66|           23|     94|28.1|                   0.167| 21|      0|\n",
      "|          0|    137|           40|           35|    168|43.1|                   2.288| 33|      1|\n",
      "+-----------+-------+-------------+-------------+-------+----+------------------------+---+-------+\n",
      "only showing top 5 rows\n",
      "\n"
     ]
    }
   ],
   "source": [
    "df = spark.read.csv('file:///home/hadoop/Downloads/diabetes.csv', sep = ',', header=True, inferSchema='true')\n",
    "\n",
    "df.show(5)\n"
   ]
  },
  {
   "cell_type": "code",
   "execution_count": 4,
   "id": "correct-jaguar",
   "metadata": {},
   "outputs": [
    {
     "name": "stdout",
     "output_type": "stream",
     "text": [
      "root\n",
      " |-- Pregnancies: integer (nullable = true)\n",
      " |-- Glucose: integer (nullable = true)\n",
      " |-- BloodPressure: integer (nullable = true)\n",
      " |-- SkinThickness: integer (nullable = true)\n",
      " |-- Insulin: integer (nullable = true)\n",
      " |-- BMI: double (nullable = true)\n",
      " |-- DiabetesPedigreeFunction: double (nullable = true)\n",
      " |-- Age: integer (nullable = true)\n",
      " |-- Outcome: integer (nullable = true)\n",
      "\n"
     ]
    }
   ],
   "source": [
    "df.printSchema()"
   ]
  },
  {
   "cell_type": "code",
   "execution_count": 5,
   "id": "corrected-siemens",
   "metadata": {},
   "outputs": [],
   "source": [
    "## Data manipulation"
   ]
  },
  {
   "cell_type": "code",
   "execution_count": 6,
   "id": "bronze-functionality",
   "metadata": {},
   "outputs": [
    {
     "data": {
      "text/html": [
       "<div>\n",
       "<style scoped>\n",
       "    .dataframe tbody tr th:only-of-type {\n",
       "        vertical-align: middle;\n",
       "    }\n",
       "\n",
       "    .dataframe tbody tr th {\n",
       "        vertical-align: top;\n",
       "    }\n",
       "\n",
       "    .dataframe thead th {\n",
       "        text-align: right;\n",
       "    }\n",
       "</style>\n",
       "<table border=\"1\" class=\"dataframe\">\n",
       "  <thead>\n",
       "    <tr style=\"text-align: right;\">\n",
       "      <th></th>\n",
       "      <th>0</th>\n",
       "      <th>1</th>\n",
       "      <th>2</th>\n",
       "      <th>3</th>\n",
       "      <th>4</th>\n",
       "    </tr>\n",
       "  </thead>\n",
       "  <tbody>\n",
       "    <tr>\n",
       "      <th>summary</th>\n",
       "      <td>count</td>\n",
       "      <td>mean</td>\n",
       "      <td>stddev</td>\n",
       "      <td>min</td>\n",
       "      <td>max</td>\n",
       "    </tr>\n",
       "    <tr>\n",
       "      <th>Pregnancies</th>\n",
       "      <td>768</td>\n",
       "      <td>3.8450520833333335</td>\n",
       "      <td>3.36957806269887</td>\n",
       "      <td>0</td>\n",
       "      <td>17</td>\n",
       "    </tr>\n",
       "    <tr>\n",
       "      <th>Glucose</th>\n",
       "      <td>768</td>\n",
       "      <td>120.89453125</td>\n",
       "      <td>31.97261819513622</td>\n",
       "      <td>0</td>\n",
       "      <td>199</td>\n",
       "    </tr>\n",
       "    <tr>\n",
       "      <th>BloodPressure</th>\n",
       "      <td>768</td>\n",
       "      <td>69.10546875</td>\n",
       "      <td>19.355807170644777</td>\n",
       "      <td>0</td>\n",
       "      <td>122</td>\n",
       "    </tr>\n",
       "    <tr>\n",
       "      <th>SkinThickness</th>\n",
       "      <td>768</td>\n",
       "      <td>20.536458333333332</td>\n",
       "      <td>15.952217567727642</td>\n",
       "      <td>0</td>\n",
       "      <td>99</td>\n",
       "    </tr>\n",
       "    <tr>\n",
       "      <th>Insulin</th>\n",
       "      <td>768</td>\n",
       "      <td>79.79947916666667</td>\n",
       "      <td>115.24400235133803</td>\n",
       "      <td>0</td>\n",
       "      <td>846</td>\n",
       "    </tr>\n",
       "    <tr>\n",
       "      <th>BMI</th>\n",
       "      <td>768</td>\n",
       "      <td>31.992578124999977</td>\n",
       "      <td>7.884160320375441</td>\n",
       "      <td>0.0</td>\n",
       "      <td>67.1</td>\n",
       "    </tr>\n",
       "    <tr>\n",
       "      <th>DiabetesPedigreeFunction</th>\n",
       "      <td>768</td>\n",
       "      <td>0.4718763020833327</td>\n",
       "      <td>0.331328595012775</td>\n",
       "      <td>0.078</td>\n",
       "      <td>2.42</td>\n",
       "    </tr>\n",
       "    <tr>\n",
       "      <th>Age</th>\n",
       "      <td>768</td>\n",
       "      <td>33.240885416666664</td>\n",
       "      <td>11.760231540678689</td>\n",
       "      <td>21</td>\n",
       "      <td>81</td>\n",
       "    </tr>\n",
       "    <tr>\n",
       "      <th>Outcome</th>\n",
       "      <td>768</td>\n",
       "      <td>0.3489583333333333</td>\n",
       "      <td>0.476951377242799</td>\n",
       "      <td>0</td>\n",
       "      <td>1</td>\n",
       "    </tr>\n",
       "  </tbody>\n",
       "</table>\n",
       "</div>"
      ],
      "text/plain": [
       "                              0                   1                   2  \\\n",
       "summary                   count                mean              stddev   \n",
       "Pregnancies                 768  3.8450520833333335    3.36957806269887   \n",
       "Glucose                     768        120.89453125   31.97261819513622   \n",
       "BloodPressure               768         69.10546875  19.355807170644777   \n",
       "SkinThickness               768  20.536458333333332  15.952217567727642   \n",
       "Insulin                     768   79.79947916666667  115.24400235133803   \n",
       "BMI                         768  31.992578124999977   7.884160320375441   \n",
       "DiabetesPedigreeFunction    768  0.4718763020833327   0.331328595012775   \n",
       "Age                         768  33.240885416666664  11.760231540678689   \n",
       "Outcome                     768  0.3489583333333333   0.476951377242799   \n",
       "\n",
       "                              3     4  \n",
       "summary                     min   max  \n",
       "Pregnancies                   0    17  \n",
       "Glucose                       0   199  \n",
       "BloodPressure                 0   122  \n",
       "SkinThickness                 0    99  \n",
       "Insulin                       0   846  \n",
       "BMI                         0.0  67.1  \n",
       "DiabetesPedigreeFunction  0.078  2.42  \n",
       "Age                          21    81  \n",
       "Outcome                       0     1  "
      ]
     },
     "execution_count": 6,
     "metadata": {},
     "output_type": "execute_result"
    }
   ],
   "source": [
    "df.describe().toPandas().transpose()"
   ]
  },
  {
   "cell_type": "code",
   "execution_count": 7,
   "id": "ordinary-companion",
   "metadata": {},
   "outputs": [
    {
     "name": "stdout",
     "output_type": "stream",
     "text": [
      "assigned nans for Glucose\n",
      "assigned nans for BloodPressure\n",
      "assigned nans for SkinThickness\n",
      "assigned nans for Insulin\n",
      "assigned nans for BMI\n"
     ]
    }
   ],
   "source": [
    "import numpy as np\n",
    "from pyspark.sql.functions import when\n",
    "\n",
    "for col_ in [\"Glucose\", \"BloodPressure\", \"SkinThickness\", \"Insulin\", \"BMI\",]:\n",
    "    df = df.withColumn(\"{}\".format(col_), when(df[\"{}\".format(col_)] == 0, np.nan).otherwise(df[\"{}\".format(col_)]))\n",
    "    #eval(\"df = df.withColumn({}, when(df.{} == 0, np.nan).otherwise(df.{}))\".format(col_,col_, col_))\n",
    "    ##df = df.withColumn(col_, when(df.col_ == 0, np.nan).otherwise(df.col_))    \n",
    "    print(\"assigned nans for {}\".format(col_) )"
   ]
  },
  {
   "cell_type": "code",
   "execution_count": 8,
   "id": "weird-tissue",
   "metadata": {},
   "outputs": [],
   "source": [
    "#df=df.withColumn(\"Glucose\", when(df.Glucose == 0, np.nan).otherwise(df.Glucose))\n",
    "#df=df.withColumn(\"BloodPressure\", when(df.BloodPressure == 0, np.nan).otherwise(df.BloodPressure))\n",
    "#df=df.withColumn(\"SkinThickness\", when(df.SkinThickness == 0, np.nan).otherwise(df.SkinThickness))\n",
    "#df=df.withColumn(\"Insulin\", when(df.Insulin == 0, np.nan).otherwise(df.Insulin))\n",
    "#df=df.withColumn(\"BMI\", when(df.BMI == 0, np.nan).otherwise(df.BMI))\n"
   ]
  },
  {
   "cell_type": "code",
   "execution_count": 9,
   "id": "interpreted-fitting",
   "metadata": {},
   "outputs": [
    {
     "name": "stdout",
     "output_type": "stream",
     "text": [
      "+-----------+-------+-------------+-------------+-------+---+------------------------+---+-------+\n",
      "|Pregnancies|Glucose|BloodPressure|SkinThickness|Insulin|BMI|DiabetesPedigreeFunction|Age|Outcome|\n",
      "+-----------+-------+-------------+-------------+-------+---+------------------------+---+-------+\n",
      "|          0|      5|           35|          227|    374| 11|                       0|  0|      0|\n",
      "+-----------+-------+-------------+-------------+-------+---+------------------------+---+-------+\n",
      "\n"
     ]
    },
    {
     "data": {
      "text/plain": [
       "186"
      ]
     },
     "execution_count": 9,
     "metadata": {},
     "output_type": "execute_result"
    }
   ],
   "source": [
    "from pyspark.sql.functions import *\n",
    "df.select([count(when(isnan(c), c)).alias(c) for c in df.columns]).show()\n",
    "\n",
    "# Display unique values from a column\n",
    "df.select('Insulin').distinct().count()\n"
   ]
  },
  {
   "cell_type": "code",
   "execution_count": 10,
   "id": "union-black",
   "metadata": {},
   "outputs": [],
   "source": [
    "# Handling missing values"
   ]
  },
  {
   "cell_type": "code",
   "execution_count": 11,
   "id": "massive-child",
   "metadata": {},
   "outputs": [],
   "source": [
    "from pyspark.ml.feature import Imputer\n",
    "input_cols= ['Glucose', 'BloodPressure', 'SkinThickness', 'BMI']\n",
    "output_cols = ['Glucose', 'BloodPressure', 'SkinThickness', 'BMI']\n",
    "\n",
    "imputer = Imputer(inputCols = input_cols, outputCols = output_cols, strategy = 'median')\n",
    "model = imputer.fit(df)\n",
    "df=model.transform(df)\n"
   ]
  },
  {
   "cell_type": "code",
   "execution_count": 12,
   "id": "extreme-occurrence",
   "metadata": {
    "scrolled": true
   },
   "outputs": [],
   "source": [
    "#imputer = Imputer(inputCols=['Insulin'], outputCols =['Insulin'], strategy = 'mean')\n",
    "#for col_ in input_cols:\n",
    "    #imputer = Imputer(inputCols=['{}'.format(col_)], outputCols =['{}'.format(col_)], strategy = 'median')\n",
    "    \n",
    "imputer = Imputer(inputCols=['Insulin'], outputCols =['Insulin'], strategy = 'mean')\n",
    "model = imputer.fit(df)\n",
    "df=model.transform(df)\n",
    "    "
   ]
  },
  {
   "cell_type": "code",
   "execution_count": 13,
   "id": "described-petite",
   "metadata": {},
   "outputs": [],
   "source": [
    "import pandas as pd\n",
    "from pyspark.mllib.stat import Statistics\n",
    "\n",
    "def compute_corr_matrix(df, method = 'pearson'):\n",
    "    df_rdd = df.rdd.map( lambda r: r[0:] )\n",
    "    corr_mat = Statistics.corr(df_rdd, method=method)\n",
    "    corr_mat_df = pd.DataFrame(corr_mat, columns=df.columns, index=df.columns)\n",
    "    return(corr_mat_df)"
   ]
  },
  {
   "cell_type": "code",
   "execution_count": 14,
   "id": "least-seventh",
   "metadata": {},
   "outputs": [
    {
     "data": {
      "text/plain": [
       "<matplotlib.axes._subplots.AxesSubplot at 0x7f4cbd1a0f60>"
      ]
     },
     "execution_count": 14,
     "metadata": {},
     "output_type": "execute_result"
    }
   ],
   "source": [
    "import seaborn as sns\n",
    "import matplotlib.pyplot as plt\n",
    "plt.figure()\n",
    "sns.heatmap(compute_corr_matrix(df), annot=True)"
   ]
  },
  {
   "cell_type": "code",
   "execution_count": 15,
   "id": "compound-freeze",
   "metadata": {},
   "outputs": [],
   "source": [
    "#### Creating feature vectors\n"
   ]
  },
  {
   "cell_type": "code",
   "execution_count": 16,
   "id": "about-patio",
   "metadata": {},
   "outputs": [],
   "source": [
    "f_cols=df.columns\n",
    "f_cols.remove('Outcome')"
   ]
  },
  {
   "cell_type": "code",
   "execution_count": 17,
   "id": "coordinated-letter",
   "metadata": {},
   "outputs": [
    {
     "name": "stdout",
     "output_type": "stream",
     "text": [
      "+-------------------------------------------------------+\n",
      "|features                                               |\n",
      "+-------------------------------------------------------+\n",
      "|[6.0,148.0,72.0,35.0,155.5482233502538,33.6,0.627,50.0]|\n",
      "|[1.0,85.0,66.0,29.0,155.5482233502538,26.6,0.351,31.0] |\n",
      "|[8.0,183.0,64.0,29.0,155.5482233502538,23.3,0.672,32.0]|\n",
      "|[1.0,89.0,66.0,23.0,94.0,28.1,0.167,21.0]              |\n",
      "|[0.0,137.0,40.0,35.0,168.0,43.1,2.288,33.0]            |\n",
      "+-------------------------------------------------------+\n",
      "only showing top 5 rows\n",
      "\n"
     ]
    }
   ],
   "source": [
    "from pyspark.ml.feature import VectorAssembler\n",
    "assembler = VectorAssembler(inputCols=f_cols, outputCol='features')\n",
    "\n",
    "# conver input cols into features\n",
    "df = assembler.transform(df)\n",
    "df.select('features').show(5, truncate=False)"
   ]
  },
  {
   "cell_type": "code",
   "execution_count": 18,
   "id": "soviet-causing",
   "metadata": {},
   "outputs": [
    {
     "data": {
      "text/plain": [
       "DataFrame[features: vector, scaled_features: vector]"
      ]
     },
     "execution_count": 18,
     "metadata": {},
     "output_type": "execute_result"
    }
   ],
   "source": [
    "# Data preprocessing - scaling\n",
    "\n",
    "# Never apply preprocessing to the target output\n",
    "\n",
    "from pyspark.ml.feature import StandardScaler\n",
    "\n",
    "standard_scaler = StandardScaler().setInputCol('features').setOutputCol('scaled_features')\n",
    "\n",
    "df = standard_scaler.fit(df).transform(df)\n",
    "\n",
    "df.select(\"features\", \"scaled_features\")"
   ]
  },
  {
   "cell_type": "code",
   "execution_count": 19,
   "id": "hollywood-framework",
   "metadata": {},
   "outputs": [
    {
     "name": "stdout",
     "output_type": "stream",
     "text": [
      "+--------------------+--------------------+\n",
      "|            features|     scaled_features|\n",
      "+--------------------+--------------------+\n",
      "|[6.0,148.0,72.0,3...|[1.78063837321943...|\n",
      "|[1.0,85.0,66.0,29...|[0.29677306220323...|\n",
      "|[8.0,183.0,64.0,2...|[2.37418449762590...|\n",
      "|[1.0,89.0,66.0,23...|[0.29677306220323...|\n",
      "|[0.0,137.0,40.0,3...|[0.0,4.5009104914...|\n",
      "+--------------------+--------------------+\n",
      "only showing top 5 rows\n",
      "\n"
     ]
    }
   ],
   "source": [
    "df.select(\"features\", \"scaled_features\").show(5)"
   ]
  },
  {
   "cell_type": "code",
   "execution_count": 20,
   "id": "necessary-investigation",
   "metadata": {},
   "outputs": [],
   "source": [
    "### Train & test split\n",
    "train, test = df.randomSplit([.8,.2],  seed=2)#seed=9991)"
   ]
  },
  {
   "cell_type": "code",
   "execution_count": 21,
   "id": "authorized-drunk",
   "metadata": {},
   "outputs": [
    {
     "data": {
      "text/plain": [
       "<seaborn.axisgrid.FacetGrid at 0x7f4cbb013fd0>"
      ]
     },
     "execution_count": 21,
     "metadata": {},
     "output_type": "execute_result"
    },
    {
     "data": {
      "image/png": "[encoded data removed]",
      "text/plain": [
       "<Figure size 360x360 with 1 Axes>"
      ]
     },
     "metadata": {
      "needs_background": "light"
     },
     "output_type": "display_data"
    }
   ],
   "source": [
    "sns.catplot(x='Outcome', kind='count',\n",
    "            data=df.toPandas(), palette='magma')"
   ]
  },
  {
   "cell_type": "code",
   "execution_count": 22,
   "id": "animated-mechanics",
   "metadata": {},
   "outputs": [
    {
     "name": "stdout",
     "output_type": "stream",
     "text": [
      "The number of ones are 210\n",
      "Percentage of ones 0.3387096774193548\n"
     ]
    }
   ],
   "source": [
    "# Weighting for unequal sample size\n",
    "\n",
    "dataset_size= float(train.select(\"Outcome\").count())\n",
    "num_positives= train.select(\"Outcome\").where(\"Outcome == 1\").count()\n",
    "per_one = (float(num_positives)/dataset_size)\n",
    "\n",
    "dataset_size, num_positives, per_one\n",
    "\n",
    "print(\"The number of ones are %s\" % num_positives)\n",
    "print(\"Percentage of ones %s\" % per_one)"
   ]
  },
  {
   "cell_type": "code",
   "execution_count": 23,
   "id": "compact-acrylic",
   "metadata": {},
   "outputs": [
    {
     "name": "stdout",
     "output_type": "stream",
     "text": [
      "balance_ration = 0.6612903225806451\n"
     ]
    }
   ],
   "source": [
    "num_negatives = dataset_size - num_positives\n",
    "balance_ratio = num_negatives / dataset_size\n",
    "\n",
    "print(\"balance_ration = %s\" % balance_ratio)"
   ]
  },
  {
   "cell_type": "code",
   "execution_count": 24,
   "id": "thrown-third",
   "metadata": {},
   "outputs": [
    {
     "name": "stdout",
     "output_type": "stream",
     "text": [
      "+-------------------+\n",
      "|       classWeights|\n",
      "+-------------------+\n",
      "|0.33870967741935487|\n",
      "|0.33870967741935487|\n",
      "|0.33870967741935487|\n",
      "|0.33870967741935487|\n",
      "|0.33870967741935487|\n",
      "|0.33870967741935487|\n",
      "|0.33870967741935487|\n",
      "|0.33870967741935487|\n",
      "|0.33870967741935487|\n",
      "|0.33870967741935487|\n",
      "|0.33870967741935487|\n",
      "|0.33870967741935487|\n",
      "|0.33870967741935487|\n",
      "|0.33870967741935487|\n",
      "|0.33870967741935487|\n",
      "| 0.6612903225806451|\n",
      "|0.33870967741935487|\n",
      "|0.33870967741935487|\n",
      "|0.33870967741935487|\n",
      "|0.33870967741935487|\n",
      "+-------------------+\n",
      "only showing top 20 rows\n",
      "\n"
     ]
    }
   ],
   "source": [
    "train = train.withColumn(\"classWeights\", when(train.Outcome == 1, balance_ratio).otherwise(1 - balance_ratio))\n",
    "train.select(\"classWeights\").show()"
   ]
  },
  {
   "cell_type": "code",
   "execution_count": 25,
   "id": "respective-priority",
   "metadata": {},
   "outputs": [],
   "source": [
    "#### Logistic regression\n",
    "\n"
   ]
  },
  {
   "cell_type": "code",
   "execution_count": 26,
   "id": "threaded-houston",
   "metadata": {},
   "outputs": [],
   "source": [
    "from pyspark.ml.classification import LogisticRegression\n",
    "\n",
    "#Weighted columns\n",
    "logit_model = LogisticRegression(labelCol='Outcome', featuresCol='features', weightCol='classWeights', maxIter=20)"
   ]
  },
  {
   "cell_type": "code",
   "execution_count": 27,
   "id": "valid-charge",
   "metadata": {},
   "outputs": [],
   "source": [
    "# when training the algorithm always use training samples, don't apply to entire dataset\n",
    "model = logit_model.fit(train)"
   ]
  },
  {
   "cell_type": "code",
   "execution_count": 28,
   "id": "happy-advice",
   "metadata": {},
   "outputs": [],
   "source": [
    "predict_train = model.transform(train)\n",
    "predict_test = model.transform(test)"
   ]
  },
  {
   "cell_type": "code",
   "execution_count": 29,
   "id": "detailed-mediterranean",
   "metadata": {},
   "outputs": [
    {
     "name": "stdout",
     "output_type": "stream",
     "text": [
      "+-------+----------+\n",
      "|Outcome|prediction|\n",
      "+-------+----------+\n",
      "|      0|       0.0|\n",
      "|      0|       0.0|\n",
      "|      0|       0.0|\n",
      "|      0|       0.0|\n",
      "|      0|       0.0|\n",
      "|      0|       0.0|\n",
      "|      0|       0.0|\n",
      "|      1|       0.0|\n",
      "|      0|       0.0|\n",
      "|      1|       0.0|\n",
      "|      0|       0.0|\n",
      "|      0|       0.0|\n",
      "|      0|       0.0|\n",
      "|      0|       1.0|\n",
      "|      0|       0.0|\n",
      "|      1|       1.0|\n",
      "|      1|       1.0|\n",
      "|      1|       1.0|\n",
      "|      0|       0.0|\n",
      "|      0|       0.0|\n",
      "+-------+----------+\n",
      "only showing top 20 rows\n",
      "\n"
     ]
    }
   ],
   "source": [
    "predict_test.select(\"Outcome\", \"prediction\").show()"
   ]
  },
  {
   "cell_type": "code",
   "execution_count": 30,
   "id": "threatened-sterling",
   "metadata": {},
   "outputs": [
    {
     "data": {
      "text/plain": [
       "(114, 34, 0.7702702702702703)"
      ]
     },
     "execution_count": 30,
     "metadata": {},
     "output_type": "execute_result"
    }
   ],
   "source": [
    "predict_test.where(\"Outcome == prediction\").count(),\\\n",
    "predict_test.where(\"Outcome != prediction\").count(),\\\n",
    "predict_test.where(\"Outcome == prediction\").count()/predict_test.count(),"
   ]
  },
  {
   "cell_type": "code",
   "execution_count": 31,
   "id": "portuguese-moment",
   "metadata": {},
   "outputs": [
    {
     "name": "stdout",
     "output_type": "stream",
     "text": [
      "Accuracy:  0.7702702702702703\n"
     ]
    }
   ],
   "source": [
    "from pyspark.ml.evaluation import MulticlassClassificationEvaluator\n",
    "\n",
    "evaluator = MulticlassClassificationEvaluator(labelCol=\"Outcome\", predictionCol=\"prediction\", \n",
    "                                             metricName=\"accuracy\")\n",
    "\n",
    "accuracy = evaluator.evaluate(predict_test)\n",
    "print(\"Accuracy: \", (accuracy))"
   ]
  },
  {
   "cell_type": "code",
   "execution_count": 32,
   "id": "sufficient-married",
   "metadata": {},
   "outputs": [],
   "source": [
    "# Classification report\n",
    "    # confusion matrix,\n",
    "    # ROC curve (receiver operating characteristic curve),\n",
    "    # F1-score"
   ]
  },
  {
   "cell_type": "code",
   "execution_count": 36,
   "id": "broad-typing",
   "metadata": {},
   "outputs": [
    {
     "name": "stdout",
     "output_type": "stream",
     "text": [
      "\u001b[33mDEPRECATION: Python 3.5 reached the end of its life on September 13th, 2020. Please upgrade your Python as Python 3.5 is no longer maintained. pip 21.0 will drop support for Python 3.5 in January 2021. pip 21.0 will remove support for this functionality.\u001b[0m\n",
      "Defaulting to user installation because normal site-packages is not writeable\n",
      "Requirement already satisfied: sklearn in ./.local/lib/python3.5/site-packages (0.0)\n",
      "Requirement already satisfied: scikit-learn in ./.local/lib/python3.5/site-packages (from sklearn) (0.22.2.post1)\n",
      "Requirement already satisfied: numpy>=1.11.0 in ./.local/lib/python3.5/site-packages (from scikit-learn->sklearn) (1.18.5)\n",
      "Requirement already satisfied: scipy>=0.17.0 in ./.local/lib/python3.5/site-packages (from scikit-learn->sklearn) (1.4.1)\n",
      "Requirement already satisfied: joblib>=0.11 in ./.local/lib/python3.5/site-packages (from scikit-learn->sklearn) (0.14.1)\n"
     ]
    }
   ],
   "source": [
    "! pip3 install sklearn"
   ]
  },
  {
   "cell_type": "code",
   "execution_count": 38,
   "id": "color-compiler",
   "metadata": {},
   "outputs": [
    {
     "data": {
      "text/plain": [
       "array([[70, 20],\n",
       "       [14, 44]])"
      ]
     },
     "execution_count": 38,
     "metadata": {},
     "output_type": "execute_result"
    }
   ],
   "source": [
    "from sklearn.metrics import confusion_matrix\n",
    "\n",
    "y_true = predict_test.select('Outcome').toPandas()\n",
    "#y_true = y_true.toPandas()\n",
    "\n",
    "y_pred = predict_test.select('prediction').toPandas()\n",
    "#y_pred = y_pred.toPandas\n",
    "\n",
    "confusion_mat = confusion_matrix(y_true, y_pred)\n",
    "confusion_mat"
   ]
  },
  {
   "cell_type": "code",
   "execution_count": 41,
   "id": "north-reggae",
   "metadata": {},
   "outputs": [
    {
     "data": {
      "text/plain": [
       "<matplotlib.axes._subplots.AxesSubplot at 0x7f4cb7f96470>"
      ]
     },
     "execution_count": 41,
     "metadata": {},
     "output_type": "execute_result"
    },
    {
     "data": {
      "image/png": "[encoded data removed]",
      "text/plain": [
       "<Figure size 432x288 with 2 Axes>"
      ]
     },
     "metadata": {
      "needs_background": "light"
     },
     "output_type": "display_data"
    }
   ],
   "source": [
    "sns.heatmap(confusion_mat, annot=True)\n",
    "\n",
    "\n"
   ]
  },
  {
   "cell_type": "code",
   "execution_count": null,
   "id": "radical-atmosphere",
   "metadata": {},
   "outputs": [],
   "source": [
    "\"\"\"\n",
    "           [actual]        [actual]\n",
    "[predicted]           \n",
    "           [true negative] [false negative]\n",
    "[predicted]\n",
    "           [false positive][true positive]\n",
    "\n",
    "\"\"\""
   ]
  }
 ],
 "metadata": {
  "kernelspec": {
   "display_name": "Python 3",
   "language": "python",
   "name": "python3"
  },
  "language_info": {
   "codemirror_mode": {
    "name": "ipython",
    "version": 3
   },
   "file_extension": ".py",
   "mimetype": "text/x-python",
   "name": "python",
   "nbconvert_exporter": "python",
   "pygments_lexer": "ipython3",
   "version": "3.5.2"
  },
  "widgets": {
   "application/vnd.jupyter.widget-state+json": {
    "state": {},
    "version_major": 2,
    "version_minor": 0
   }
  }
 },
 "nbformat": 4,
 "nbformat_minor": 5
}
