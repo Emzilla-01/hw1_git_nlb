{
 "cells": [
  {
   "cell_type": "code",
   "execution_count": 61,
   "metadata": {},
   "outputs": [
    {
     "name": "stdout",
     "output_type": "stream",
     "text": [
      "wrapper executed this before display\n",
      "('welt',), {}\n",
      "display function ran, welt\n",
      "wrapper executed this before call\n",
      "(<__main__.Ph0n3 object at 0x00000243AF539DC0>, 'nlb'), {}\n",
      "Phone can make calls\n",
      "dialing nlb\n"
     ]
    }
   ],
   "source": [
    "def my_decorator(original_function):\n",
    "    def wrapper_function(*args, **kwargs):\n",
    "        print(f'wrapper executed this before {original_function.__name__}')\n",
    "        print(f'{args}, {kwargs}')\n",
    "        return original_function(*args, **kwargs)\n",
    "    return wrapper_function\n",
    "    \n",
    "@my_decorator\n",
    "def display(hello):\n",
    "    print(f'display function ran, {hello}')\n",
    "    \n",
    "    #print(f\"inside {__name__}, {args} $$ my_func()\\n\")\n",
    "display('welt')\n",
    "\n",
    "from EmyKaydigi_pringles import IntermediatePhone as Phone\n",
    "\n",
    "ph = Phone('v', 'v', 'v')\n",
    "\n",
    "#########################################\n",
    "\n",
    "#print(dir(ph))\n",
    "\n",
    "#@my_decorator\n",
    "class Ph0n3(Phone):\n",
    "    def __init__(a,b,c):\n",
    "        super().__init__(a,b,c)\n",
    "    @my_decorator\n",
    "    def call(self, recipient):\n",
    "        super().call(recipient)\n",
    "\n",
    "myp = Ph0n3('1','2')\n",
    "myp.call('nlb')"
   ]
  },
  {
   "cell_type": "code",
   "execution_count": null,
   "metadata": {},
   "outputs": [],
   "source": []
  }
 ],
 "metadata": {
  "kernelspec": {
   "display_name": "Python 3",
   "language": "python",
   "name": "python3"
  },
  "language_info": {
   "codemirror_mode": {
    "name": "ipython",
    "version": 3
   },
   "file_extension": ".py",
   "mimetype": "text/x-python",
   "name": "python",
   "nbconvert_exporter": "python",
   "pygments_lexer": "ipython3",
   "version": "3.8.5"
  }
 },
 "nbformat": 4,
 "nbformat_minor": 4
}
