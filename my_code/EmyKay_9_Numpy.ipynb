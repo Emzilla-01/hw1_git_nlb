{
 "cells": [
  {
   "cell_type": "markdown",
   "metadata": {},
   "source": [
    "### Assignment 9 - Numpy - Em Kay"
   ]
  },
  {
   "cell_type": "code",
   "execution_count": 1,
   "metadata": {},
   "outputs": [],
   "source": [
    "import numpy as np\n",
    "import pandas as pd"
   ]
  },
  {
   "cell_type": "markdown",
   "metadata": {},
   "source": [
    "#### 1.\tHow to concatenate two numpy arrays column-wise and row-wise?"
   ]
  },
  {
   "cell_type": "code",
   "execution_count": 2,
   "metadata": {},
   "outputs": [],
   "source": [
    "x,y = np.array(([1,2,3],[7,8,9])), np.array(([4,5,6],[10,11,12]))\n",
    "col_wise = np.concatenate((x,y), axis=0) #axis=0 is column-wise\n",
    "row_wise = np.concatenate((x,y), axis=1) ##axis=1 is row-wise"
   ]
  },
  {
   "cell_type": "code",
   "execution_count": 3,
   "metadata": {},
   "outputs": [
    {
     "data": {
      "text/plain": [
       "'x'"
      ]
     },
     "metadata": {},
     "output_type": "display_data"
    },
    {
     "data": {
      "text/plain": [
       "array([[1, 2, 3],\n",
       "       [7, 8, 9]])"
      ]
     },
     "metadata": {},
     "output_type": "display_data"
    },
    {
     "data": {
      "text/plain": [
       "'y'"
      ]
     },
     "metadata": {},
     "output_type": "display_data"
    },
    {
     "data": {
      "text/plain": [
       "array([[ 4,  5,  6],\n",
       "       [10, 11, 12]])"
      ]
     },
     "metadata": {},
     "output_type": "display_data"
    },
    {
     "data": {
      "text/plain": [
       "'col_wise'"
      ]
     },
     "metadata": {},
     "output_type": "display_data"
    },
    {
     "data": {
      "text/plain": [
       "array([[ 1,  2,  3],\n",
       "       [ 7,  8,  9],\n",
       "       [ 4,  5,  6],\n",
       "       [10, 11, 12]])"
      ]
     },
     "metadata": {},
     "output_type": "display_data"
    },
    {
     "data": {
      "text/plain": [
       "'row_wise'"
      ]
     },
     "metadata": {},
     "output_type": "display_data"
    },
    {
     "data": {
      "text/plain": [
       "array([[ 1,  2,  3,  4,  5,  6],\n",
       "       [ 7,  8,  9, 10, 11, 12]])"
      ]
     },
     "metadata": {},
     "output_type": "display_data"
    }
   ],
   "source": [
    "display(\"x\", x)\n",
    "display(\"y\", y)\n",
    "display(\"col_wise\", col_wise)\n",
    "display(\"row_wise\", row_wise)"
   ]
  },
  {
   "cell_type": "markdown",
   "metadata": {},
   "source": [
    "#### 2.\tConsider the random number generation functions in NumPy generate a set of random numbers using the function rand."
   ]
  },
  {
   "cell_type": "code",
   "execution_count": 4,
   "metadata": {},
   "outputs": [
    {
     "data": {
      "text/plain": [
       "{0.10750792640667672,\n",
       " 0.23070921566878166,\n",
       " 0.24807476000489426,\n",
       " 0.4469912908718384,\n",
       " 0.5000645156536581}"
      ]
     },
     "metadata": {},
     "output_type": "display_data"
    }
   ],
   "source": [
    "two={i for i in np.random.rand(1,5)[0]}\n",
    "display(two)"
   ]
  },
  {
   "cell_type": "markdown",
   "metadata": {},
   "source": [
    "#### 3.\tCreate a 3D array of shape 5x3x2 to contain random decimal numbers between 5 and 10."
   ]
  },
  {
   "cell_type": "code",
   "execution_count": 5,
   "metadata": {},
   "outputs": [
    {
     "data": {
      "text/plain": [
       "'three'"
      ]
     },
     "metadata": {},
     "output_type": "display_data"
    },
    {
     "data": {
      "text/plain": [
       "array([[[5.54526971, 5.33883659],\n",
       "        [6.63103452, 8.20266931],\n",
       "        [8.25020962, 8.81232963]],\n",
       "\n",
       "       [[9.58403131, 9.23670187],\n",
       "        [8.43966432, 7.44782152],\n",
       "        [7.44588549, 5.47631752]],\n",
       "\n",
       "       [[6.57456884, 7.81912076],\n",
       "        [8.59651915, 9.88296927],\n",
       "        [8.48962986, 9.25064417]],\n",
       "\n",
       "       [[6.07326961, 5.81869665],\n",
       "        [6.40860536, 9.49262727],\n",
       "        [5.91051051, 7.9575605 ]],\n",
       "\n",
       "       [[5.17493336, 6.64242882],\n",
       "        [9.90836393, 6.62864318],\n",
       "        [7.10213034, 7.33016326]]])"
      ]
     },
     "metadata": {},
     "output_type": "display_data"
    }
   ],
   "source": [
    "three = np.random.uniform(low=5, high=10, size=(5,3,2))\n",
    "display(\"three\", three)\n"
   ]
  },
  {
   "cell_type": "markdown",
   "metadata": {},
   "source": [
    "#### 4.\tCreate a utility function to generate random arrays using def random_array() takes number of elements as one of the argument, and np.randint()"
   ]
  },
  {
   "cell_type": "code",
   "execution_count": 6,
   "metadata": {},
   "outputs": [
    {
     "data": {
      "text/plain": [
       "array([3, 2, 6])"
      ]
     },
     "metadata": {},
     "output_type": "display_data"
    }
   ],
   "source": [
    "#help(np.random.randint)\n",
    "def random_array(no_elements):\n",
    "    x=np.random.randint(1,10, size=no_elements)\n",
    "    return(x)\n",
    "\n",
    "display(random_array(random_array(5)[-1]))"
   ]
  },
  {
   "cell_type": "markdown",
   "metadata": {},
   "source": [
    "####5.\tCreate and Compute median using both Naive method and Numpy function np.median()"
   ]
  },
  {
   "cell_type": "code",
   "execution_count": 7,
   "metadata": {},
   "outputs": [
    {
     "name": "stdout",
     "output_type": "stream",
     "text": [
      "case: [1 2 3 4 5]\n",
      "naive_median(case):3\n",
      "np.median(case):3.0\n",
      "\n",
      "\n",
      "case: [2 4 6 8]\n",
      "naive_median(case):5.0\n",
      "np.median(case):5.0\n",
      "\n",
      "\n",
      "case: [[8.6108754 ]\n",
      " [6.14175853]\n",
      " [6.36007086]\n",
      " [7.02804877]\n",
      " [5.99837375]]\n",
      "naive_median(case):[6.36007086]\n",
      "np.median(case):6.360070864922476\n",
      "\n",
      "\n"
     ]
    }
   ],
   "source": [
    "case1=np.array([1,2,3,4,5])\n",
    "case2=np.array([2,4,6,8])\n",
    "case3=np.random.uniform(low=5, high=10, size=(5,1))\n",
    "cases=[case1,case2,case3]\n",
    "\n",
    "def naive_median(array):\n",
    "    array = sorted(array)\n",
    "    #print(array)\n",
    "    a_len = len(array)\n",
    "    if a_len % 2 == 1:\n",
    "        return(array[round(a_len/2)])\n",
    "    bounds_indxs=(int(a_len/2 -1), int(a_len/2))\n",
    "    #print(f\"bounds_indxs:{bounds_indxs}\")\n",
    "    #print(f\"vals:{array[bounds_indxs[0]], array[bounds_indxs[1]]}\")\n",
    "    return(array[bounds_indxs[0]] + array[bounds_indxs[1]])/2\n",
    "           \n",
    "for c in cases:\n",
    "    print(f\"case: {c}\\nnaive_median(case):{naive_median(c)}\\nnp.median(case):{np.median(c)}\\n\\n\")\n",
    "    assert(naive_median(c) == np.median(c))"
   ]
  },
  {
   "cell_type": "markdown",
   "metadata": {},
   "source": [
    "#### 6.\tCreate naive function to compute variance function using python."
   ]
  },
  {
   "cell_type": "code",
   "execution_count": 8,
   "metadata": {},
   "outputs": [
    {
     "data": {
      "text/plain": [
       "'dog height example per mathisfun.com link'"
      ]
     },
     "metadata": {},
     "output_type": "display_data"
    },
    {
     "data": {
      "text/plain": [
       "21704.0"
      ]
     },
     "metadata": {},
     "output_type": "display_data"
    }
   ],
   "source": [
    "#https://en.wikipedia.org/wiki/Variance#Definition\n",
    "#https://www.mathsisfun.com/data/standard-deviation.html\n",
    "\n",
    "def naive_variance(array):\n",
    "    def mean(a):\n",
    "        return(np.sum(a)/len(a))\n",
    "    _m = mean(array)\n",
    "    n_a = [(i - _m)**2 for i in array]\n",
    "    _v = mean(n_a)\n",
    "    return(_v)\n",
    "    \n",
    "#naive_variance([5,10,15])\n",
    "#naive_variance([5,10,15,20])\n",
    "display(\"dog height example per mathisfun.com link\", naive_variance([600, 470, 170, 430, 300]))"
   ]
  },
  {
   "cell_type": "markdown",
   "metadata": {},
   "source": [
    "#### 7.\tConvert a 1D array to a 2D array with 2 rows.\n",
    "\n",
    "e.g. \n",
    "Input Array: ([ 0, 1, 2, 3, 4, 5, 6, 7, 8, 9])\n",
    "\n",
    "Output: [[0, 1, 2, 3, 4],\n",
    " [5, 6, 7, 8, 9]]\n"
   ]
  },
  {
   "cell_type": "code",
   "execution_count": 9,
   "metadata": {},
   "outputs": [
    {
     "data": {
      "text/plain": [
       "array([[0, 1, 2, 3, 4],\n",
       "       [5, 6, 7, 8, 9]])"
      ]
     },
     "metadata": {},
     "output_type": "display_data"
    }
   ],
   "source": [
    "a = np.array([ 0, 1, 2, 3, 4, 5, 6, 7, 8, 9])\n",
    "display(a.reshape(2,5))"
   ]
  },
  {
   "cell_type": "markdown",
   "metadata": {},
   "source": [
    "#### 8.\tHow to stack two arrays vertically? Stack arrays A and B vertically?"
   ]
  },
  {
   "cell_type": "code",
   "execution_count": 10,
   "metadata": {},
   "outputs": [
    {
     "data": {
      "text/plain": [
       "array([[ 0,  1,  2,  3,  4,  5,  6,  7,  8,  9],\n",
       "       [ 0,  2,  4,  6,  8, 10, 12, 14, 16, 18]])"
      ]
     },
     "metadata": {},
     "output_type": "display_data"
    }
   ],
   "source": [
    "a = np.array([ 0, 1, 2, 3, 4, 5, 6, 7, 8, 9])\n",
    "b = a+a\n",
    "\n",
    "display(np.vstack((a,b)))"
   ]
  },
  {
   "cell_type": "markdown",
   "metadata": {},
   "source": [
    "#### 9.\tCreate a function using numpy to get the common items between two python numpy arrays?"
   ]
  },
  {
   "cell_type": "code",
   "execution_count": 11,
   "metadata": {},
   "outputs": [
    {
     "data": {
      "text/plain": [
       "'my_intersect(a,b)'"
      ]
     },
     "metadata": {},
     "output_type": "display_data"
    },
    {
     "data": {
      "text/plain": [
       "array([0, 2, 4, 6, 8])"
      ]
     },
     "metadata": {},
     "output_type": "display_data"
    },
    {
     "data": {
      "text/plain": [
       "'np.intersect1d(a,b)'"
      ]
     },
     "metadata": {},
     "output_type": "display_data"
    },
    {
     "data": {
      "text/plain": [
       "array([0, 2, 4, 6, 8])"
      ]
     },
     "metadata": {},
     "output_type": "display_data"
    },
    {
     "data": {
      "text/plain": [
       "'my_intersect([1,2,3,4,4],[4,4,1,8,8])'"
      ]
     },
     "metadata": {},
     "output_type": "display_data"
    },
    {
     "data": {
      "text/plain": [
       "array([1, 4])"
      ]
     },
     "metadata": {},
     "output_type": "display_data"
    },
    {
     "data": {
      "text/plain": [
       "'np.intersect1d([1,2,3,4,4],[4,4,1,8,8])'"
      ]
     },
     "metadata": {},
     "output_type": "display_data"
    },
    {
     "data": {
      "text/plain": [
       "array([1, 4])"
      ]
     },
     "metadata": {},
     "output_type": "display_data"
    }
   ],
   "source": [
    "def my_intersect(a0,b0):\n",
    "    a_set = set(a0)\n",
    "    b_set = set(b0)\n",
    "    c0 = a_set.intersection(b_set)\n",
    "    c0 = np.array(list(c0))\n",
    "    return(c0)\n",
    "\n",
    "display(\"my_intersect(a,b)\", my_intersect(a,b))\n",
    "display(\"np.intersect1d(a,b)\", np.intersect1d(a,b))\n",
    "\n",
    "display(\"my_intersect([1,2,3,4,4],[4,4,1,8,8])\", my_intersect([1,2,3,4,4],[4,4,1,8,8]))\n",
    "display(\"np.intersect1d([1,2,3,4,4],[4,4,1,8,8])\",np.intersect1d([1,2,3,4,4],[4,4,1,8,8]))"
   ]
  },
  {
   "cell_type": "markdown",
   "metadata": {},
   "source": [
    "#### 10.\tCreate a python function to get the positions where elements of two arrays match using Numpy function?"
   ]
  },
  {
   "cell_type": "code",
   "execution_count": 12,
   "metadata": {},
   "outputs": [
    {
     "data": {
      "text/plain": [
       "'match_indxs(a,b)'"
      ]
     },
     "metadata": {},
     "output_type": "display_data"
    },
    {
     "data": {
      "text/plain": [
       "[1, 4]"
      ]
     },
     "metadata": {},
     "output_type": "display_data"
    }
   ],
   "source": [
    "a,b = np.array([1,2,3,4,4]), np.array([6,2,0,8,4])\n",
    "\n",
    "def match_indxs(a0,b0):\n",
    "    assert len(a0) >= len(b0)\n",
    "    matches=list()\n",
    "    i=0\n",
    "    while i < len(a0):\n",
    "        if a0[i]==b0[i]:\n",
    "            matches.append(i)\n",
    "        i+=1\n",
    "    return(matches)\n",
    "\n",
    "display(\"match_indxs(a,b)\", match_indxs(a,b))"
   ]
  },
  {
   "cell_type": "markdown",
   "metadata": {},
   "source": [
    "#### 11.\tHow to create a 2D array containing random floats between 5 and 10?"
   ]
  },
  {
   "cell_type": "code",
   "execution_count": 13,
   "metadata": {},
   "outputs": [
    {
     "data": {
      "text/plain": [
       "array([[7.04103693, 6.72563521],\n",
       "       [7.23630274, 9.25168605],\n",
       "       [6.22149936, 6.88878093]])"
      ]
     },
     "metadata": {},
     "output_type": "display_data"
    }
   ],
   "source": [
    "display(np.random.uniform(low=5, high=10, size=(3,2)))"
   ]
  },
  {
   "cell_type": "markdown",
   "metadata": {},
   "source": [
    "#### 12.\tExtract the text column species from the 1D iris imported using following url:\n",
    "https://raw.githubusercontent.com/ammishra08/MachineLearning/master/Datasets/iris.csv\n"
   ]
  },
  {
   "cell_type": "code",
   "execution_count": 14,
   "metadata": {
    "scrolled": true
   },
   "outputs": [
    {
     "data": {
      "text/plain": [
       "array(['setosa', 'setosa', 'setosa', 'setosa', 'setosa', 'setosa',\n",
       "       'setosa', 'setosa', 'setosa', 'setosa', 'setosa', 'setosa',\n",
       "       'setosa', 'setosa', 'setosa', 'setosa', 'setosa', 'setosa',\n",
       "       'setosa', 'setosa', 'setosa', 'setosa', 'setosa', 'setosa',\n",
       "       'setosa', 'setosa', 'setosa', 'setosa', 'setosa', 'setosa',\n",
       "       'setosa', 'setosa', 'setosa', 'setosa', 'setosa', 'setosa',\n",
       "       'setosa', 'setosa', 'setosa', 'setosa', 'setosa', 'setosa',\n",
       "       'setosa', 'setosa', 'setosa', 'setosa', 'setosa', 'setosa',\n",
       "       'setosa', 'setosa', 'versicolor', 'versicolor', 'versicolor',\n",
       "       'versicolor', 'versicolor', 'versicolor', 'versicolor',\n",
       "       'versicolor', 'versicolor', 'versicolor', 'versicolor',\n",
       "       'versicolor', 'versicolor', 'versicolor', 'versicolor',\n",
       "       'versicolor', 'versicolor', 'versicolor', 'versicolor',\n",
       "       'versicolor', 'versicolor', 'versicolor', 'versicolor',\n",
       "       'versicolor', 'versicolor', 'versicolor', 'versicolor',\n",
       "       'versicolor', 'versicolor', 'versicolor', 'versicolor',\n",
       "       'versicolor', 'versicolor', 'versicolor', 'versicolor',\n",
       "       'versicolor', 'versicolor', 'versicolor', 'versicolor',\n",
       "       'versicolor', 'versicolor', 'versicolor', 'versicolor',\n",
       "       'versicolor', 'versicolor', 'versicolor', 'versicolor',\n",
       "       'versicolor', 'versicolor', 'versicolor', 'virginica', 'virginica',\n",
       "       'virginica', 'virginica', 'virginica', 'virginica', 'virginica',\n",
       "       'virginica', 'virginica', 'virginica', 'virginica', 'virginica',\n",
       "       'virginica', 'virginica', 'virginica', 'virginica', 'virginica',\n",
       "       'virginica', 'virginica', 'virginica', 'virginica', 'virginica',\n",
       "       'virginica', 'virginica', 'virginica', 'virginica', 'virginica',\n",
       "       'virginica', 'virginica', 'virginica', 'virginica', 'virginica',\n",
       "       'virginica', 'virginica', 'virginica', 'virginica', 'virginica',\n",
       "       'virginica', 'virginica', 'virginica', 'virginica', 'virginica',\n",
       "       'virginica', 'virginica', 'virginica', 'virginica', 'virginica',\n",
       "       'virginica', 'virginica', 'virginica'], dtype='<U10')"
      ]
     },
     "metadata": {},
     "output_type": "display_data"
    }
   ],
   "source": [
    "iris_data = np.genfromtxt(r\"https://raw.githubusercontent.com/ammishra08/MachineLearning/master/Datasets/iris.csv\", delimiter=',', \n",
    "                          dtype=np.dtype('str'), encoding='utf-8', usecols=[-1])\n",
    "\n",
    "iris_data=np.delete(iris_data, 0, 0)\n",
    "display(iris_data)"
   ]
  },
  {
   "cell_type": "markdown",
   "metadata": {},
   "source": [
    "#### 13.\tHow to Convert the 1D iris to 2D array iris_2d by omitting the species column and dropping first row?"
   ]
  },
  {
   "cell_type": "code",
   "execution_count": 15,
   "metadata": {},
   "outputs": [
    {
     "data": {
      "text/plain": [
       "array([[5.1, 3.5, 1.4, 0.2],\n",
       "       [4.9, 3. , 1.4, 0.2],\n",
       "       [4.7, 3.2, 1.3, 0.2],\n",
       "       [4.6, 3.1, 1.5, 0.2],\n",
       "       [5. , 3.6, 1.4, 0.2],\n",
       "       [5.4, 3.9, 1.7, 0.4],\n",
       "       [4.6, 3.4, 1.4, 0.3],\n",
       "       [5. , 3.4, 1.5, 0.2],\n",
       "       [4.4, 2.9, 1.4, 0.2],\n",
       "       [4.9, 3.1, 1.5, 0.1],\n",
       "       [5.4, 3.7, 1.5, 0.2],\n",
       "       [4.8, 3.4, 1.6, 0.2],\n",
       "       [4.8, 3. , 1.4, 0.1],\n",
       "       [4.3, 3. , 1.1, 0.1],\n",
       "       [5.8, 4. , 1.2, 0.2],\n",
       "       [5.7, 4.4, 1.5, 0.4],\n",
       "       [5.4, 3.9, 1.3, 0.4],\n",
       "       [5.1, 3.5, 1.4, 0.3],\n",
       "       [5.7, 3.8, 1.7, 0.3],\n",
       "       [5.1, 3.8, 1.5, 0.3],\n",
       "       [5.4, 3.4, 1.7, 0.2],\n",
       "       [5.1, 3.7, 1.5, 0.4],\n",
       "       [4.6, 3.6, 1. , 0.2],\n",
       "       [5.1, 3.3, 1.7, 0.5],\n",
       "       [4.8, 3.4, 1.9, 0.2],\n",
       "       [5. , 3. , 1.6, 0.2],\n",
       "       [5. , 3.4, 1.6, 0.4],\n",
       "       [5.2, 3.5, 1.5, 0.2],\n",
       "       [5.2, 3.4, 1.4, 0.2],\n",
       "       [4.7, 3.2, 1.6, 0.2],\n",
       "       [4.8, 3.1, 1.6, 0.2],\n",
       "       [5.4, 3.4, 1.5, 0.4],\n",
       "       [5.2, 4.1, 1.5, 0.1],\n",
       "       [5.5, 4.2, 1.4, 0.2],\n",
       "       [4.9, 3.1, 1.5, 0.2],\n",
       "       [5. , 3.2, 1.2, 0.2],\n",
       "       [5.5, 3.5, 1.3, 0.2],\n",
       "       [4.9, 3.6, 1.4, 0.1],\n",
       "       [4.4, 3. , 1.3, 0.2],\n",
       "       [5.1, 3.4, 1.5, 0.2],\n",
       "       [5. , 3.5, 1.3, 0.3],\n",
       "       [4.5, 2.3, 1.3, 0.3],\n",
       "       [4.4, 3.2, 1.3, 0.2],\n",
       "       [5. , 3.5, 1.6, 0.6],\n",
       "       [5.1, 3.8, 1.9, 0.4],\n",
       "       [4.8, 3. , 1.4, 0.3],\n",
       "       [5.1, 3.8, 1.6, 0.2],\n",
       "       [4.6, 3.2, 1.4, 0.2],\n",
       "       [5.3, 3.7, 1.5, 0.2],\n",
       "       [5. , 3.3, 1.4, 0.2],\n",
       "       [7. , 3.2, 4.7, 1.4],\n",
       "       [6.4, 3.2, 4.5, 1.5],\n",
       "       [6.9, 3.1, 4.9, 1.5],\n",
       "       [5.5, 2.3, 4. , 1.3],\n",
       "       [6.5, 2.8, 4.6, 1.5],\n",
       "       [5.7, 2.8, 4.5, 1.3],\n",
       "       [6.3, 3.3, 4.7, 1.6],\n",
       "       [4.9, 2.4, 3.3, 1. ],\n",
       "       [6.6, 2.9, 4.6, 1.3],\n",
       "       [5.2, 2.7, 3.9, 1.4],\n",
       "       [5. , 2. , 3.5, 1. ],\n",
       "       [5.9, 3. , 4.2, 1.5],\n",
       "       [6. , 2.2, 4. , 1. ],\n",
       "       [6.1, 2.9, 4.7, 1.4],\n",
       "       [5.6, 2.9, 3.6, 1.3],\n",
       "       [6.7, 3.1, 4.4, 1.4],\n",
       "       [5.6, 3. , 4.5, 1.5],\n",
       "       [5.8, 2.7, 4.1, 1. ],\n",
       "       [6.2, 2.2, 4.5, 1.5],\n",
       "       [5.6, 2.5, 3.9, 1.1],\n",
       "       [5.9, 3.2, 4.8, 1.8],\n",
       "       [6.1, 2.8, 4. , 1.3],\n",
       "       [6.3, 2.5, 4.9, 1.5],\n",
       "       [6.1, 2.8, 4.7, 1.2],\n",
       "       [6.4, 2.9, 4.3, 1.3],\n",
       "       [6.6, 3. , 4.4, 1.4],\n",
       "       [6.8, 2.8, 4.8, 1.4],\n",
       "       [6.7, 3. , 5. , 1.7],\n",
       "       [6. , 2.9, 4.5, 1.5],\n",
       "       [5.7, 2.6, 3.5, 1. ],\n",
       "       [5.5, 2.4, 3.8, 1.1],\n",
       "       [5.5, 2.4, 3.7, 1. ],\n",
       "       [5.8, 2.7, 3.9, 1.2],\n",
       "       [6. , 2.7, 5.1, 1.6],\n",
       "       [5.4, 3. , 4.5, 1.5],\n",
       "       [6. , 3.4, 4.5, 1.6],\n",
       "       [6.7, 3.1, 4.7, 1.5],\n",
       "       [6.3, 2.3, 4.4, 1.3],\n",
       "       [5.6, 3. , 4.1, 1.3],\n",
       "       [5.5, 2.5, 4. , 1.3],\n",
       "       [5.5, 2.6, 4.4, 1.2],\n",
       "       [6.1, 3. , 4.6, 1.4],\n",
       "       [5.8, 2.6, 4. , 1.2],\n",
       "       [5. , 2.3, 3.3, 1. ],\n",
       "       [5.6, 2.7, 4.2, 1.3],\n",
       "       [5.7, 3. , 4.2, 1.2],\n",
       "       [5.7, 2.9, 4.2, 1.3],\n",
       "       [6.2, 2.9, 4.3, 1.3],\n",
       "       [5.1, 2.5, 3. , 1.1],\n",
       "       [5.7, 2.8, 4.1, 1.3],\n",
       "       [6.3, 3.3, 6. , 2.5],\n",
       "       [5.8, 2.7, 5.1, 1.9],\n",
       "       [7.1, 3. , 5.9, 2.1],\n",
       "       [6.3, 2.9, 5.6, 1.8],\n",
       "       [6.5, 3. , 5.8, 2.2],\n",
       "       [7.6, 3. , 6.6, 2.1],\n",
       "       [4.9, 2.5, 4.5, 1.7],\n",
       "       [7.3, 2.9, 6.3, 1.8],\n",
       "       [6.7, 2.5, 5.8, 1.8],\n",
       "       [7.2, 3.6, 6.1, 2.5],\n",
       "       [6.5, 3.2, 5.1, 2. ],\n",
       "       [6.4, 2.7, 5.3, 1.9],\n",
       "       [6.8, 3. , 5.5, 2.1],\n",
       "       [5.7, 2.5, 5. , 2. ],\n",
       "       [5.8, 2.8, 5.1, 2.4],\n",
       "       [6.4, 3.2, 5.3, 2.3],\n",
       "       [6.5, 3. , 5.5, 1.8],\n",
       "       [7.7, 3.8, 6.7, 2.2],\n",
       "       [7.7, 2.6, 6.9, 2.3],\n",
       "       [6. , 2.2, 5. , 1.5],\n",
       "       [6.9, 3.2, 5.7, 2.3],\n",
       "       [5.6, 2.8, 4.9, 2. ],\n",
       "       [7.7, 2.8, 6.7, 2. ],\n",
       "       [6.3, 2.7, 4.9, 1.8],\n",
       "       [6.7, 3.3, 5.7, 2.1],\n",
       "       [7.2, 3.2, 6. , 1.8],\n",
       "       [6.2, 2.8, 4.8, 1.8],\n",
       "       [6.1, 3. , 4.9, 1.8],\n",
       "       [6.4, 2.8, 5.6, 2.1],\n",
       "       [7.2, 3. , 5.8, 1.6],\n",
       "       [7.4, 2.8, 6.1, 1.9],\n",
       "       [7.9, 3.8, 6.4, 2. ],\n",
       "       [6.4, 2.8, 5.6, 2.2],\n",
       "       [6.3, 2.8, 5.1, 1.5],\n",
       "       [6.1, 2.6, 5.6, 1.4],\n",
       "       [7.7, 3. , 6.1, 2.3],\n",
       "       [6.3, 3.4, 5.6, 2.4],\n",
       "       [6.4, 3.1, 5.5, 1.8],\n",
       "       [6. , 3. , 4.8, 1.8],\n",
       "       [6.9, 3.1, 5.4, 2.1],\n",
       "       [6.7, 3.1, 5.6, 2.4],\n",
       "       [6.9, 3.1, 5.1, 2.3],\n",
       "       [5.8, 2.7, 5.1, 1.9],\n",
       "       [6.8, 3.2, 5.9, 2.3],\n",
       "       [6.7, 3.3, 5.7, 2.5],\n",
       "       [6.7, 3. , 5.2, 2.3],\n",
       "       [6.3, 2.5, 5. , 1.9],\n",
       "       [6.5, 3. , 5.2, 2. ],\n",
       "       [6.2, 3.4, 5.4, 2.3],\n",
       "       [5.9, 3. , 5.1, 1.8]])"
      ]
     },
     "metadata": {},
     "output_type": "display_data"
    }
   ],
   "source": [
    "iris_data = np.genfromtxt(r\"https://raw.githubusercontent.com/ammishra08/MachineLearning/master/Datasets/iris.csv\", delimiter=',', \n",
    "                          dtype=float, encoding='utf-8', usecols=[0,1,2,3], skip_header=1)\n",
    "display(iris_data)\n"
   ]
  },
  {
   "cell_type": "markdown",
   "metadata": {},
   "source": [
    "#### 14.\tHow to compute the mean, median, standard deviation of a numpy array on the same iris dataset?"
   ]
  },
  {
   "cell_type": "code",
   "execution_count": 16,
   "metadata": {},
   "outputs": [
    {
     "name": "stdout",
     "output_type": "stream",
     "text": [
      "col:0,\n",
      "mean:5.843333333333334,\n",
      "median:5.8,\n",
      "stdv:0.8253012917851409,\n",
      "\n",
      "\n",
      "col:1,\n",
      "mean:3.0573333333333337,\n",
      "median:3.0,\n",
      "stdv:0.4344109677354946,\n",
      "\n",
      "\n",
      "col:2,\n",
      "mean:3.7580000000000005,\n",
      "median:4.35,\n",
      "stdv:1.759404065775303,\n",
      "\n",
      "\n",
      "col:3,\n",
      "mean:1.1993333333333336,\n",
      "median:1.3,\n",
      "stdv:0.7596926279021594,\n",
      "\n",
      "\n"
     ]
    },
    {
     "data": {
      "text/plain": [
       "'col:0,\\nmean:5.843333333333334,\\nmedian:5.8,\\nstdv:0.8253012917851409,\\n\\ncol:1,\\nmean:3.0573333333333337,\\nmedian:3.0,\\nstdv:0.4344109677354946,\\n\\ncol:2,\\nmean:3.7580000000000005,\\nmedian:4.35,\\nstdv:1.759404065775303,\\n\\ncol:3,\\nmean:1.1993333333333336,\\nmedian:1.3,\\nstdv:0.7596926279021594,\\n\\n'"
      ]
     },
     "metadata": {},
     "output_type": "display_data"
    }
   ],
   "source": [
    "#iris_data\n",
    "#display(iris_data[:, 0])#column\n",
    "#display(iris_data[0 , :]) #row\n",
    "\n",
    "def naive_stdv(a):\n",
    "    return(np.sqrt(naive_variance(a)))\n",
    "\n",
    "def getcols(a):\n",
    "    return(len(a[0,:]))\n",
    "\n",
    "def colwise_funccall(a, func, col):\n",
    "    return(func(a[:,col]))\n",
    "\n",
    "s0=''\n",
    "for col in range(getcols(iris_data)):\n",
    "    mean=colwise_funccall(iris_data, np.mean, col)\n",
    "    median=colwise_funccall(iris_data, naive_median, col)\n",
    "    stdv=colwise_funccall(iris_data, naive_stdv, col)\n",
    "    s1=f\"col:{col},\\nmean:{mean},\\nmedian:{median},\\nstdv:{stdv},\\n\\n\"\n",
    "    print(s1)\n",
    "    s0+=s1\n",
    "    \n",
    "display(s0)"
   ]
  },
  {
   "cell_type": "markdown",
   "metadata": {},
   "source": [
    "#### 15.\tHow to scale an array so the values range exactly between 0 and 1 using Admission.csv?\n",
    "https://raw.githubusercontent.com/ammishra08/MachineLearning/master/Datasets/Admission.csv\n",
    "Change all the values in the range of 0-1.\n"
   ]
  },
  {
   "cell_type": "code",
   "execution_count": 17,
   "metadata": {},
   "outputs": [
    {
     "data": {
      "text/plain": [
       "array([[0.002     , 0.99117647, 0.98333333, ..., 0.97278226, 1.        ,\n",
       "        0.94845361],\n",
       "       [0.004     , 0.95294118, 0.89166667, ..., 0.89415323, 1.        ,\n",
       "        0.78350515],\n",
       "       [0.006     , 0.92941176, 0.86666667, ..., 0.80645161, 1.        ,\n",
       "        0.74226804],\n",
       "       ...,\n",
       "       [0.996     , 0.97058824, 1.        , ..., 0.96370968, 1.        ,\n",
       "        0.95876289],\n",
       "       [0.998     , 0.91764706, 0.85833333, ..., 0.84979839, 0.        ,\n",
       "        0.75257732],\n",
       "       [1.        , 0.96176471, 0.94166667, ..., 0.91129032, 0.        ,\n",
       "        0.86597938]])"
      ]
     },
     "metadata": {},
     "output_type": "display_data"
    }
   ],
   "source": [
    "data_a = np.genfromtxt(r\"https://raw.githubusercontent.com/ammishra08/MachineLearning/master/Datasets/Admission.csv\", delimiter=',', \n",
    "                           encoding='utf-8', skip_header=1)\n",
    "\n",
    "#data_a = np.array([[.1, 1, 10, 100],\n",
    "#                  [.5, 5, 50, 500],\n",
    "#                  [1, 10, 100, 1000],])\n",
    "\n",
    "\n",
    "for col in range(getcols(data_a)):\n",
    "    col_max=colwise_funccall(data_a, max, col)\n",
    "    data_a[:,col] = data_a[:,col]/col_max\n",
    "       \n",
    "display(data_a)\n"
   ]
  },
  {
   "cell_type": "markdown",
   "metadata": {},
   "source": [
    "#### 16.\tCompute and Find the number and position of missing values in iris data’s sepal length column. (And few missing values)."
   ]
  },
  {
   "cell_type": "code",
   "execution_count": 18,
   "metadata": {},
   "outputs": [
    {
     "data": {
      "text/plain": [
       "(150, 4)"
      ]
     },
     "metadata": {},
     "output_type": "display_data"
    },
    {
     "ename": "IndexError",
     "evalue": "too many indices for array: array is 1-dimensional, but 2 were indexed",
     "output_type": "error",
     "traceback": [
      "\u001b[1;31m---------------------------------------------------------------------------\u001b[0m",
      "\u001b[1;31mIndexError\u001b[0m                                Traceback (most recent call last)",
      "\u001b[1;32m<ipython-input-18-6a9992090687>\u001b[0m in \u001b[0;36m<module>\u001b[1;34m\u001b[0m\n\u001b[0;32m      6\u001b[0m \u001b[1;33m\u001b[0m\u001b[0m\n\u001b[0;32m      7\u001b[0m \u001b[1;31m#iris_data_16 = iris_data_16[np.random.randint(len(iris_data_16[:,1]), size=20), np.random.randint(4, size=20)] = np.nan\u001b[0m\u001b[1;33m\u001b[0m\u001b[1;33m\u001b[0m\u001b[1;33m\u001b[0m\u001b[0m\n\u001b[1;32m----> 8\u001b[1;33m \u001b[0miris_data_16\u001b[0m\u001b[1;33m[\u001b[0m\u001b[0mnp\u001b[0m\u001b[1;33m.\u001b[0m\u001b[0mrandom\u001b[0m\u001b[1;33m.\u001b[0m\u001b[0mrandint\u001b[0m\u001b[1;33m(\u001b[0m\u001b[1;36m150\u001b[0m\u001b[1;33m,\u001b[0m \u001b[0msize\u001b[0m\u001b[1;33m=\u001b[0m\u001b[1;36m20\u001b[0m\u001b[1;33m)\u001b[0m\u001b[1;33m,\u001b[0m \u001b[0mnp\u001b[0m\u001b[1;33m.\u001b[0m\u001b[0mrandom\u001b[0m\u001b[1;33m.\u001b[0m\u001b[0mrandint\u001b[0m\u001b[1;33m(\u001b[0m\u001b[1;36m4\u001b[0m\u001b[1;33m,\u001b[0m \u001b[0msize\u001b[0m\u001b[1;33m=\u001b[0m\u001b[1;36m20\u001b[0m\u001b[1;33m)\u001b[0m\u001b[1;33m]\u001b[0m \u001b[1;33m=\u001b[0m \u001b[0mnp\u001b[0m\u001b[1;33m.\u001b[0m\u001b[0mnan\u001b[0m\u001b[1;33m\u001b[0m\u001b[1;33m\u001b[0m\u001b[0m\n\u001b[0m\u001b[0;32m      9\u001b[0m \u001b[1;33m\u001b[0m\u001b[0m\n\u001b[0;32m     10\u001b[0m \u001b[1;31m#iris_data_16 = np.ma.masked_array(iris_data_16, mask=np.isnan(iris_data_16))\u001b[0m\u001b[1;33m\u001b[0m\u001b[1;33m\u001b[0m\u001b[1;33m\u001b[0m\u001b[0m\n",
      "\u001b[1;31mIndexError\u001b[0m: too many indices for array: array is 1-dimensional, but 2 were indexed"
     ]
    }
   ],
   "source": [
    "any_nan_row = lambda a: np.array([~np.any(np.isnan(row)) for row in a])# True for not nan, False for nan\n",
    "\n",
    "iris_data_16 = np.genfromtxt(r\"https://raw.githubusercontent.com/ammishra08/MachineLearning/master/Datasets/iris.csv\", delimiter=',',\n",
    "                             dtype=float, encoding='utf-8', skip_header=1, usecols=[0],)\n",
    "display(iris_data.shape)\n",
    "\n",
    "#iris_data_16 = iris_data_16[np.random.randint(len(iris_data_16[:,1]), size=20), np.random.randint(4, size=20)] = np.nan\n",
    "iris_data_16[np.random.randint(150, size=20), np.random.randint(4, size=20)] = np.nan\n",
    "\n",
    "#iris_data_16 = np.ma.masked_array(iris_data_16, mask=np.isnan(iris_data_16))\n",
    "\n",
    "#display(dir(iris_data_16.mask))\n",
    "\n",
    "#i=0\n",
    "#for row in any_nan_row(iris_data):  \n",
    "#np.isnan(iris_data)\n"
   ]
  },
  {
   "cell_type": "markdown",
   "metadata": {},
   "source": [
    "#### 1) Combine four series to form and create a Dataframe with name series_data. Use the Dataframe and perform following operations."
   ]
  },
  {
   "cell_type": "code",
   "execution_count": null,
   "metadata": {},
   "outputs": [],
   "source": [
    "base=['a','b','c','d','e']\n",
    "s1= pd.Series(base)\n",
    "s2= pd.Series([c*2 for c in base])"
   ]
  },
  {
   "cell_type": "code",
   "execution_count": null,
   "metadata": {},
   "outputs": [],
   "source": []
  }
 ],
 "metadata": {
  "kernelspec": {
   "display_name": "Python 3",
   "language": "python",
   "name": "python3"
  },
  "language_info": {
   "codemirror_mode": {
    "name": "ipython",
    "version": 3
   },
   "file_extension": ".py",
   "mimetype": "text/x-python",
   "name": "python",
   "nbconvert_exporter": "python",
   "pygments_lexer": "ipython3",
   "version": "3.8.5"
  }
 },
 "nbformat": 4,
 "nbformat_minor": 4
}
