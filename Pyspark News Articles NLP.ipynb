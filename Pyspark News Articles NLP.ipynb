{
 "cells": [
  {
   "cell_type": "code",
   "execution_count": null,
   "id": "classical-python",
   "metadata": {},
   "outputs": [],
   "source": [
    "#text_data_path = \"file://\"+'/home/hadoop/data/Case_News_Articles.csv'\n",
    "text_data_path = 'data/Case_News_Articles.csv'"
   ]
  },
  {
   "cell_type": "code",
   "execution_count": null,
   "id": "hispanic-university",
   "metadata": {},
   "outputs": [],
   "source": [
    "try:\n",
    "    sc.stop()\n",
    "except:\n",
    "    print(\"no sc to stop\")\n"
   ]
  },
  {
   "cell_type": "code",
   "execution_count": null,
   "id": "regular-factory",
   "metadata": {},
   "outputs": [],
   "source": [
    "from pyspark.sql import SparkSession\n",
    "spark = SparkSession.builder.appName('PysparkNLP')\\\n",
    "    .getOrCreate()"
   ]
  },
  {
   "cell_type": "code",
   "execution_count": null,
   "id": "varying-thesis",
   "metadata": {},
   "outputs": [],
   "source": [
    "from pyspark.ml import Pipeline\n",
    "from pyspark.ml.feature import Tokenizer, RegexTokenizer, StopWordsRemover, CountVectorizer, StringIndexer\n",
    "from pyspark.sql.functions import col, udf, regexp_replace, isnull\n",
    "from pyspark.sql.types import IntegerType, StringType\n",
    "\n",
    "# NaiveBayes model\n",
    "from pyspark.ml.classification import NaiveBayes\n",
    "from pyspark.ml.evaluation import MulticlassClassificationEvaluator\n"
   ]
  },
  {
   "cell_type": "code",
   "execution_count": null,
   "id": "handmade-amateur",
   "metadata": {},
   "outputs": [],
   "source": [
    "df = spark.read.csv(text_data_path, header=True, inferSchema=True)"
   ]
  },
  {
   "cell_type": "code",
   "execution_count": null,
   "id": "humanitarian-bangladesh",
   "metadata": {},
   "outputs": [],
   "source": [
    "# df.show()"
   ]
  },
  {
   "cell_type": "code",
   "execution_count": 8,
   "id": "realistic-staff",
   "metadata": {},
   "outputs": [
    {
     "name": "stdout",
     "output_type": "stream",
     "text": [
      "root\n",
      " |-- ID: string (nullable = true)\n",
      " |-- TITLE: string (nullable = true)\n",
      " |-- URL: string (nullable = true)\n",
      " |-- PUBLISHER: string (nullable = true)\n",
      " |-- CATEGORY: string (nullable = true)\n",
      " |-- STORY: string (nullable = true)\n",
      " |-- HOSTNAME: string (nullable = true)\n",
      " |-- TIMESTAMP: string (nullable = true)\n",
      "\n"
     ]
    }
   ],
   "source": [
    "df.printSchema()"
   ]
  },
  {
   "cell_type": "code",
   "execution_count": 9,
   "id": "everyday-childhood",
   "metadata": {},
   "outputs": [
    {
     "name": "stdout",
     "output_type": "stream",
     "text": [
      "+-----------------------------+----------------------------+---------------------------------------------------------------------------+\n",
      "|STORY                        |PUBLISHER                   |TITLE                                                                      |\n",
      "+-----------------------------+----------------------------+---------------------------------------------------------------------------+\n",
      "|ddUyU0VZz0BRneMioxUPQVP6sIxvM|Los Angeles Times           |Fed official says weak data caused by weather, should not slow taper       |\n",
      "|ddUyU0VZz0BRneMioxUPQVP6sIxvM|Livemint                    |Fed's Charles Plosser sees high bar for change in pace of tapering         |\n",
      "|ddUyU0VZz0BRneMioxUPQVP6sIxvM|IFA Magazine                |US open: Stocks fall after Fed official hints at accelerated tapering      |\n",
      "|ddUyU0VZz0BRneMioxUPQVP6sIxvM|IFA Magazine                |Fed risks falling 'behind the curve', Charles Plosser says                 |\n",
      "|ddUyU0VZz0BRneMioxUPQVP6sIxvM|Moneynews                   |Fed's Plosser: Nasty Weather Has Curbed Job Growth                         |\n",
      "|ddUyU0VZz0BRneMioxUPQVP6sIxvM|NASDAQ                      |Plosser: Fed May Have to Accelerate Tapering Pace                          |\n",
      "|ddUyU0VZz0BRneMioxUPQVP6sIxvM|MarketWatch                 |Fed's Plosser: Taper pace may be too slow                                  |\n",
      "|ddUyU0VZz0BRneMioxUPQVP6sIxvM|FXstreet.com                |Fed's Plosser expects US unemployment to fall to 6.2% by the end of 2014   |\n",
      "|ddUyU0VZz0BRneMioxUPQVP6sIxvM|Economic Times              |US jobs growth last month hit by weather:Fed President Charles Plosser     |\n",
      "|dPhGU51DcrolUIMxbRm0InaHGA2XM|Interactive Investor        |ECB unlikely to end sterilisation of SMP purchases - traders               |\n",
      "|dPhGU51DcrolUIMxbRm0InaHGA2XM|Reuters India               |ECB unlikely to end sterilization of SMP purchases: traders                |\n",
      "|dPhGU51DcrolUIMxbRm0InaHGA2XM|Reuters UK \\(blog\\)         |EU's half-baked bank union could work                                      |\n",
      "|dPhGU51DcrolUIMxbRm0InaHGA2XM|Reuters                     |Europe reaches crunch point on banking union                               |\n",
      "|dPhGU51DcrolUIMxbRm0InaHGA2XM|Reuters                     |ECB FOCUS-Stronger euro drowns out ECB's message to keep rates low for  ...|\n",
      "|dPhGU51DcrolUIMxbRm0InaHGA2XM|Oman Daily Observer         |EU aims for deal on tackling failing banks                                 |\n",
      "|dPhGU51DcrolUIMxbRm0InaHGA2XM|NASDAQ                      |Forex - Pound drops to one-month lows against euro                         |\n",
      "|dPhGU51DcrolUIMxbRm0InaHGA2XM|San Francisco Chronicle     |Noyer Says Strong Euro Creates Unwarranted Economic Pressure               |\n",
      "|dPhGU51DcrolUIMxbRm0InaHGA2XM|Wall Street Journal \\(blog\\)|EU Week Ahead March 10-14: Bank Resolution, Transparency, Ukraine          |\n",
      "|dPhGU51DcrolUIMxbRm0InaHGA2XM|IFA Magazine                |ECB member Noyer is 'very open to all kinds of tools'                      |\n",
      "|dPhGU51DcrolUIMxbRm0InaHGA2XM|Businessweek                |Euro Anxieties Wane as Bunds Top Treasuries, Spain Debt Rallies            |\n",
      "+-----------------------------+----------------------------+---------------------------------------------------------------------------+\n",
      "only showing top 20 rows\n",
      "\n"
     ]
    }
   ],
   "source": [
    "df.select(\"STORY\", \"PUBLISHER\", \"TITLE\").limit(25).show(truncate=False)"
   ]
  },
  {
   "cell_type": "code",
   "execution_count": 10,
   "id": "fourth-refrigerator",
   "metadata": {
    "scrolled": true
   },
   "outputs": [
    {
     "data": {
      "text/plain": [
       "422937"
      ]
     },
     "execution_count": 10,
     "metadata": {},
     "output_type": "execute_result"
    }
   ],
   "source": [
    "df.count()"
   ]
  },
  {
   "cell_type": "code",
   "execution_count": 11,
   "id": "numeric-absence",
   "metadata": {},
   "outputs": [
    {
     "name": "stdout",
     "output_type": "stream",
     "text": [
      "+------------------------------------------------------------------------------------------------------------------------------------+\n",
      "|CATEGORY                                                                                                                            |\n",
      "+------------------------------------------------------------------------------------------------------------------------------------+\n",
      "|http://www.startribune.com/entertainment/tv/259584711.html                                                                          |\n",
      "|Akron Beacon Journal \\(blog\\)                                                                                                       |\n",
      "|GSMArena.com                                                                                                                        |\n",
      "|MovieViral                                                                                                                          |\n",
      "|Pitchfork Media                                                                                                                     |\n",
      "|KIII TV3                                                                                                                            |\n",
      "|Papermag                                                                                                                            |\n",
      "|http://grist.org/climate-energy/neil-degrasse-tyson-on-cosmos-how-science-got-cool-and-why-he-doesnt-debate-deniers/                |\n",
      "|FasterLouder                                                                                                                        |\n",
      "|http://www.movieswithbutter.com/blogs/china-box-office-1-my-old-classmate-35m-2-great-hypnotist-22m-3-iceman-3d-11m-4-amazing-spider|\n",
      "|Tulsa World \\(blog\\)                                                                                                                |\n",
      "|Exclaim\\!                                                                                                                           |\n",
      "|Greenfield Daily Reporter                                                                                                           |\n",
      "|WXYZ                                                                                                                                |\n",
      "|The Westside Story                                                                                                                  |\n",
      "|dVcLyu7MZ2lvOuM8psiqi0ay7A2GM                                                                                                       |\n",
      "|Fast Company                                                                                                                        |\n",
      "|The Escapist                                                                                                                        |\n",
      "|tuaw.com                                                                                                                            |\n",
      "|abc7news.com                                                                                                                        |\n",
      "+------------------------------------------------------------------------------------------------------------------------------------+\n",
      "only showing top 20 rows\n",
      "\n"
     ]
    }
   ],
   "source": [
    "df.select('CATEGORY').distinct().show(truncate=False)"
   ]
  },
  {
   "cell_type": "code",
   "execution_count": 12,
   "id": "supported-hayes",
   "metadata": {},
   "outputs": [
    {
     "name": "stdout",
     "output_type": "stream",
     "text": [
      "+--------------------+--------+\n",
      "|               TITLE|CATEGORY|\n",
      "+--------------------+--------+\n",
      "|Fed official says...|       b|\n",
      "|Fed's Charles Plo...|       b|\n",
      "|US open: Stocks f...|       b|\n",
      "|Fed risks falling...|       b|\n",
      "|Fed's Plosser: Na...|       b|\n",
      "|Plosser: Fed May ...|       b|\n",
      "|Fed's Plosser: Ta...|       b|\n",
      "|Fed's Plosser exp...|       b|\n",
      "|US jobs growth la...|       b|\n",
      "|ECB unlikely to e...|       b|\n",
      "|ECB unlikely to e...|       b|\n",
      "|EU's half-baked b...|       b|\n",
      "|Europe reaches cr...|       b|\n",
      "|ECB FOCUS-Stronge...|       b|\n",
      "|EU aims for deal ...|       b|\n",
      "|Forex - Pound dro...|       b|\n",
      "|Noyer Says Strong...|       b|\n",
      "|EU Week Ahead Mar...|       b|\n",
      "|ECB member Noyer ...|       b|\n",
      "|Euro Anxieties Wa...|       b|\n",
      "+--------------------+--------+\n",
      "only showing top 20 rows\n",
      "\n"
     ]
    }
   ],
   "source": [
    "title_category = df.select(\"TITLE\", \"CATEGORY\")\n",
    "title_category.show()"
   ]
  },
  {
   "cell_type": "code",
   "execution_count": 13,
   "id": "earned-growing",
   "metadata": {},
   "outputs": [
    {
     "name": "stdout",
     "output_type": "stream",
     "text": [
      "+-----+--------+\n",
      "|TITLE|CATEGORY|\n",
      "+-----+--------+\n",
      "|  389|     516|\n",
      "+-----+--------+\n",
      "\n"
     ]
    }
   ],
   "source": [
    "from pyspark.sql.functions import *\n",
    "\n",
    "title_category.select([count(when(isnull(c), c)).alias(c) for c in title_category.columns]).show()\n",
    "\n"
   ]
  },
  {
   "cell_type": "code",
   "execution_count": 14,
   "id": "ranking-illustration",
   "metadata": {},
   "outputs": [],
   "source": [
    "title_category = title_category.dropna()"
   ]
  },
  {
   "cell_type": "code",
   "execution_count": 15,
   "id": "executed-microphone",
   "metadata": {},
   "outputs": [
    {
     "data": {
      "text/plain": [
       "265"
      ]
     },
     "execution_count": 15,
     "metadata": {},
     "output_type": "execute_result"
    }
   ],
   "source": [
    "title_category.select(\"Category\").distinct().count()"
   ]
  },
  {
   "cell_type": "code",
   "execution_count": 16,
   "id": "intended-columbia",
   "metadata": {
    "scrolled": true
   },
   "outputs": [
    {
     "name": "stdout",
     "output_type": "stream",
     "text": [
      "+--------------------+------+\n",
      "|Category            |count |\n",
      "+--------------------+------+\n",
      "|e                   |152127|\n",
      "|b                   |115935|\n",
      "|t                   |108237|\n",
      "|m                   |45616 |\n",
      "|Us Magazine         |31    |\n",
      "|GossipCop           |20    |\n",
      "|Contactmusic.com    |20    |\n",
      "|CBS News            |12    |\n",
      "|Complex.com         |12    |\n",
      "|HipHopDX            |11    |\n",
      "|The Hollywood Gossip|11    |\n",
      "|HeadlinePlanet.com  |10    |\n",
      "|We Got This Covered |10    |\n",
      "|Gamepur             |8     |\n",
      "|WorstPreviews.com   |7     |\n",
      "|Consequence of Sound|7     |\n",
      "|Wetpaint            |7     |\n",
      "|TooFab.com          |7     |\n",
      "|The Escapist        |6     |\n",
      "|Reality TV World    |5     |\n",
      "+--------------------+------+\n",
      "only showing top 20 rows\n",
      "\n"
     ]
    }
   ],
   "source": [
    "title_category.groupby('Category').count().orderBy(col('count').desc()).show(truncate=False)"
   ]
  },
  {
   "cell_type": "code",
   "execution_count": 34,
   "id": "asian-reservation",
   "metadata": {},
   "outputs": [
    {
     "data": {
      "text/plain": [
       "0"
      ]
     },
     "execution_count": 34,
     "metadata": {},
     "output_type": "execute_result"
    }
   ],
   "source": [
    "cat_conditions = [(title_category['Category'] == \"e\"),\n",
    "                 (title_category['Category'] == \"b\"),\n",
    "                 (title_category['Category'] == \"t\"),\n",
    "                 (title_category['Category'] == \"m\")]\n",
    "\n",
    "\n",
    "title_category.filter((title_category['Category'] == \"e\") | (title_category['Category'] == \"b\")\\\n",
    "| (title_category['Category'] == \"t\") | (title_category['Category'] == \"m\")\\\n",
    "                     ).count()\n",
    "# cat_conditions\n",
    "#title_category.where(title_category['Category'] in [\"e\",\"b\",\"t\",\"m\"])\n",
    "#title_category.filter(cat_conditions)"
   ]
  },
  {
   "cell_type": "code",
   "execution_count": 20,
   "id": "associate-charter",
   "metadata": {},
   "outputs": [
    {
     "name": "stdout",
     "output_type": "stream",
     "text": [
      "+--------+-----+\n",
      "|Category|count|\n",
      "+--------+-----+\n",
      "+--------+-----+\n",
      "\n"
     ]
    }
   ],
   "source": [
    "title_category.groupby('Category').count().orderBy(col('count').desc()).show(truncate=False)"
   ]
  },
  {
   "cell_type": "code",
   "execution_count": 17,
   "id": "indoor-effectiveness",
   "metadata": {},
   "outputs": [
    {
     "name": "stdout",
     "output_type": "stream",
     "text": [
      "+----------------------------------------------------------------------------------+-----+\n",
      "|Title                                                                             |count|\n",
      "+----------------------------------------------------------------------------------+-----+\n",
      "|The article requested cannot be found! Please refresh your browser or go back  ...|145  |\n",
      "|Business Highlights                                                               |59   |\n",
      "|Posted by Parvez Jabri                                                            |59   |\n",
      "|Posted by Imaduddin                                                               |53   |\n",
      "|Posted by Shoaib-ur-Rehman Siddiqui                                               |52   |\n",
      "|(click the phrases to see a list)                                                 |51   |\n",
      "|Business Wire                                                                     |41   |\n",
      "|PR Newswire                                                                       |38   |\n",
      "|Posted by Muhammad Iqbal                                                          |35   |\n",
      "|Change text size for the story                                                    |34   |\n",
      "|Get the Most Popular Beauty World News Stories in a Weekly Newsletter             |34   |\n",
      "|International markets roundup                                                     |33   |\n",
      "|Business briefs                                                                   |33   |\n",
      "|India Morning Call-Global Markets                                                 |27   |\n",
      "|10 Things to Know for Today                                                       |22   |\n",
      "|Breaking news                                                                     |21   |\n",
      "|Perez Recommends                                                                  |19   |\n",
      "|Texas Weekly Gas Price Update and Outlook                                         |18   |\n",
      "|From ColumbusAlive.com                                                            |18   |\n",
      "|The Daily Dish                                                                    |17   |\n",
      "+----------------------------------------------------------------------------------+-----+\n",
      "only showing top 20 rows\n",
      "\n"
     ]
    }
   ],
   "source": [
    "title_category.groupby('Title').count().orderBy(col('count').desc()).show(truncate=False)"
   ]
  },
  {
   "cell_type": "code",
   "execution_count": 18,
   "id": "iraqi-silly",
   "metadata": {},
   "outputs": [
    {
     "name": "stdout",
     "output_type": "stream",
     "text": [
      "+---------------------------------------------------------------------------+---------------------------------------------------------------------------+\n",
      "|TITLE                                                                      |title_str                                                                  |\n",
      "+---------------------------------------------------------------------------+---------------------------------------------------------------------------+\n",
      "|Fed official says weak data caused by weather, should not slow taper       |Fed official says weak data caused by weather, should not slow taper       |\n",
      "|Fed's Charles Plosser sees high bar for change in pace of tapering         |Fed's Charles Plosser sees high bar for change in pace of tapering         |\n",
      "|US open: Stocks fall after Fed official hints at accelerated tapering      |US open: Stocks fall after Fed official hints at accelerated tapering      |\n",
      "|Fed risks falling 'behind the curve', Charles Plosser says                 |Fed risks falling 'behind the curve', Charles Plosser says                 |\n",
      "|Fed's Plosser: Nasty Weather Has Curbed Job Growth                         |Fed's Plosser: Nasty Weather Has Curbed Job Growth                         |\n",
      "|Plosser: Fed May Have to Accelerate Tapering Pace                          |Plosser: Fed May Have to Accelerate Tapering Pace                          |\n",
      "|Fed's Plosser: Taper pace may be too slow                                  |Fed's Plosser: Taper pace may be too slow                                  |\n",
      "|Fed's Plosser expects US unemployment to fall to 6.2% by the end of 2014   |Fed's Plosser expects US unemployment to fall to .% by the end of          |\n",
      "|US jobs growth last month hit by weather:Fed President Charles Plosser     |US jobs growth last month hit by weather:Fed President Charles Plosser     |\n",
      "|ECB unlikely to end sterilisation of SMP purchases - traders               |ECB unlikely to end sterilisation of SMP purchases - traders               |\n",
      "|ECB unlikely to end sterilization of SMP purchases: traders                |ECB unlikely to end sterilization of SMP purchases: traders                |\n",
      "|EU's half-baked bank union could work                                      |EU's half-baked bank union could work                                      |\n",
      "|Europe reaches crunch point on banking union                               |Europe reaches crunch point on banking union                               |\n",
      "|ECB FOCUS-Stronger euro drowns out ECB's message to keep rates low for  ...|ECB FOCUS-Stronger euro drowns out ECB's message to keep rates low for  ...|\n",
      "|EU aims for deal on tackling failing banks                                 |EU aims for deal on tackling failing banks                                 |\n",
      "|Forex - Pound drops to one-month lows against euro                         |Forex - Pound drops to one-month lows against euro                         |\n",
      "|Noyer Says Strong Euro Creates Unwarranted Economic Pressure               |Noyer Says Strong Euro Creates Unwarranted Economic Pressure               |\n",
      "|EU Week Ahead March 10-14: Bank Resolution, Transparency, Ukraine          |EU Week Ahead March -: Bank Resolution, Transparency, Ukraine              |\n",
      "|ECB member Noyer is 'very open to all kinds of tools'                      |ECB member Noyer is 'very open to all kinds of tools'                      |\n",
      "|Euro Anxieties Wane as Bunds Top Treasuries, Spain Debt Rallies            |Euro Anxieties Wane as Bunds Top Treasuries, Spain Debt Rallies            |\n",
      "+---------------------------------------------------------------------------+---------------------------------------------------------------------------+\n",
      "only showing top 20 rows\n",
      "\n"
     ]
    }
   ],
   "source": [
    "title_category = title_category.withColumn(\"title_str\", regexp_replace(col('TITLE'), '\\d+', ''))\n",
    "\n",
    "title_category.select(\"TITLE\", \"title_str\").show(truncate= False)"
   ]
  },
  {
   "cell_type": "code",
   "execution_count": 19,
   "id": "expensive-internet",
   "metadata": {},
   "outputs": [
    {
     "name": "stdout",
     "output_type": "stream",
     "text": [
      "+--------------------+--------+--------------------+--------------------+\n",
      "|               TITLE|CATEGORY|           title_str|               words|\n",
      "+--------------------+--------+--------------------+--------------------+\n",
      "|Fed official says...|       b|Fed official says...|[fed, official, s...|\n",
      "|Fed's Charles Plo...|       b|Fed's Charles Plo...|[fed, s, charles,...|\n",
      "|US open: Stocks f...|       b|US open: Stocks f...|[us, open, stocks...|\n",
      "|Fed risks falling...|       b|Fed risks falling...|[fed, risks, fall...|\n",
      "|Fed's Plosser: Na...|       b|Fed's Plosser: Na...|[fed, s, plosser,...|\n",
      "|Plosser: Fed May ...|       b|Plosser: Fed May ...|[plosser, fed, ma...|\n",
      "|Fed's Plosser: Ta...|       b|Fed's Plosser: Ta...|[fed, s, plosser,...|\n",
      "|Fed's Plosser exp...|       b|Fed's Plosser exp...|[fed, s, plosser,...|\n",
      "|US jobs growth la...|       b|US jobs growth la...|[us, jobs, growth...|\n",
      "|ECB unlikely to e...|       b|ECB unlikely to e...|[ecb, unlikely, t...|\n",
      "|ECB unlikely to e...|       b|ECB unlikely to e...|[ecb, unlikely, t...|\n",
      "|EU's half-baked b...|       b|EU's half-baked b...|[eu, s, half, bak...|\n",
      "|Europe reaches cr...|       b|Europe reaches cr...|[europe, reaches,...|\n",
      "|ECB FOCUS-Stronge...|       b|ECB FOCUS-Stronge...|[ecb, focus, stro...|\n",
      "|EU aims for deal ...|       b|EU aims for deal ...|[eu, aims, for, d...|\n",
      "|Forex - Pound dro...|       b|Forex - Pound dro...|[forex, pound, dr...|\n",
      "|Noyer Says Strong...|       b|Noyer Says Strong...|[noyer, says, str...|\n",
      "|EU Week Ahead Mar...|       b|EU Week Ahead Mar...|[eu, week, ahead,...|\n",
      "|ECB member Noyer ...|       b|ECB member Noyer ...|[ecb, member, noy...|\n",
      "|Euro Anxieties Wa...|       b|Euro Anxieties Wa...|[euro, anxieties,...|\n",
      "+--------------------+--------+--------------------+--------------------+\n",
      "only showing top 20 rows\n",
      "\n"
     ]
    }
   ],
   "source": [
    "regex_tokenizer = RegexTokenizer(inputCol=\"title_str\", outputCol=\"words\", pattern=\"\\\\W\")\n",
    "raw_words = regex_tokenizer.transform(title_category)\n",
    "\n",
    "raw_words.show()"
   ]
  },
  {
   "cell_type": "code",
   "execution_count": 20,
   "id": "bizarre-verse",
   "metadata": {},
   "outputs": [
    {
     "name": "stdout",
     "output_type": "stream",
     "text": [
      "+--------------------+--------------------+\n",
      "|               words|      filtered_words|\n",
      "+--------------------+--------------------+\n",
      "|[fed, official, s...|[fed, official, s...|\n",
      "|[fed, s, charles,...|[fed, charles, pl...|\n",
      "|[us, open, stocks...|[us, open, stocks...|\n",
      "|[fed, risks, fall...|[fed, risks, fall...|\n",
      "|[fed, s, plosser,...|[fed, plosser, na...|\n",
      "|[plosser, fed, ma...|[plosser, fed, ma...|\n",
      "|[fed, s, plosser,...|[fed, plosser, ta...|\n",
      "|[fed, s, plosser,...|[fed, plosser, ex...|\n",
      "|[us, jobs, growth...|[us, jobs, growth...|\n",
      "|[ecb, unlikely, t...|[ecb, unlikely, e...|\n",
      "|[ecb, unlikely, t...|[ecb, unlikely, e...|\n",
      "|[eu, s, half, bak...|[eu, half, baked,...|\n",
      "|[europe, reaches,...|[europe, reaches,...|\n",
      "|[ecb, focus, stro...|[ecb, focus, stro...|\n",
      "|[eu, aims, for, d...|[eu, aims, deal, ...|\n",
      "|[forex, pound, dr...|[forex, pound, dr...|\n",
      "|[noyer, says, str...|[noyer, says, str...|\n",
      "|[eu, week, ahead,...|[eu, week, ahead,...|\n",
      "|[ecb, member, noy...|[ecb, member, noy...|\n",
      "|[euro, anxieties,...|[euro, anxieties,...|\n",
      "+--------------------+--------------------+\n",
      "only showing top 20 rows\n",
      "\n"
     ]
    }
   ],
   "source": [
    "remover = StopWordsRemover(inputCol=\"words\", outputCol=\"filtered_words\")\n",
    "words_df = remover.transform(raw_words)\n",
    "\n",
    "words_df.select(\"words\", \"filtered_words\").show()"
   ]
  },
  {
   "cell_type": "code",
   "execution_count": 21,
   "id": "diagnostic-volume",
   "metadata": {
    "scrolled": true
   },
   "outputs": [
    {
     "name": "stdout",
     "output_type": "stream",
     "text": [
      "+--------------------+--------+--------------------+--------------------+--------------------+--------------------+\n",
      "|               TITLE|CATEGORY|           title_str|               words|      filtered_words|            features|\n",
      "+--------------------+--------+--------------------+--------------------+--------------------+--------------------+\n",
      "|Fed official says...|       b|Fed official says...|[fed, official, s...|[fed, official, s...|(49043,[5,42,112,...|\n",
      "|Fed's Charles Plo...|       b|Fed's Charles Plo...|[fed, s, charles,...|[fed, charles, pl...|(49043,[58,84,112...|\n",
      "|US open: Stocks f...|       b|US open: Stocks f...|[us, open, stocks...|[us, open, stocks...|(49043,[1,27,112,...|\n",
      "|Fed risks falling...|       b|Fed risks falling...|[fed, risks, fall...|[fed, risks, fall...|(49043,[5,112,579...|\n",
      "|Fed's Plosser: Na...|       b|Fed's Plosser: Na...|[fed, s, plosser,...|[fed, plosser, na...|(49043,[112,121,5...|\n",
      "|Plosser: Fed May ...|       b|Plosser: Fed May ...|[plosser, fed, ma...|[plosser, fed, ma...|(49043,[8,112,223...|\n",
      "|Fed's Plosser: Ta...|       b|Fed's Plosser: Ta...|[fed, s, plosser,...|[fed, plosser, ta...|(49043,[8,112,123...|\n",
      "|Fed's Plosser exp...|       b|Fed's Plosser exp...|[fed, s, plosser,...|[fed, plosser, ex...|(49043,[1,112,135...|\n",
      "|US jobs growth la...|       b|US jobs growth la...|[us, jobs, growth...|[us, jobs, growth...|(49043,[1,112,121...|\n",
      "|ECB unlikely to e...|       b|ECB unlikely to e...|[ecb, unlikely, t...|[ecb, unlikely, e...|(49043,[135,200,2...|\n",
      "|ECB unlikely to e...|       b|ECB unlikely to e...|[ecb, unlikely, t...|[ecb, unlikely, e...|(49043,[135,200,2...|\n",
      "|EU's half-baked b...|       b|EU's half-baked b...|[eu, s, half, bak...|[eu, half, baked,...|(49043,[78,536,60...|\n",
      "|Europe reaches cr...|       b|Europe reaches cr...|[europe, reaches,...|[europe, reaches,...|(49043,[405,940,1...|\n",
      "|ECB FOCUS-Stronge...|       b|ECB FOCUS-Stronge...|[ecb, focus, stro...|[ecb, focus, stro...|(49043,[133,171,1...|\n",
      "|EU aims for deal ...|       b|EU aims for deal ...|[eu, aims, for, d...|[eu, aims, deal, ...|(49043,[29,593,64...|\n",
      "|Forex - Pound dro...|       b|Forex - Pound dro...|[forex, pound, dr...|[forex, pound, dr...|(49043,[10,171,17...|\n",
      "|Noyer Says Strong...|       b|Noyer Says Strong...|[noyer, says, str...|[noyer, says, str...|(49043,[5,171,438...|\n",
      "|EU Week Ahead Mar...|       b|EU Week Ahead Mar...|[eu, week, ahead,...|[eu, week, ahead,...|(49043,[56,78,168...|\n",
      "|ECB member Noyer ...|       b|ECB member Noyer ...|[ecb, member, noy...|[ecb, member, noy...|(49043,[200,240,3...|\n",
      "|Euro Anxieties Wa...|       b|Euro Anxieties Wa...|[euro, anxieties,...|[euro, anxieties,...|(49043,[47,171,10...|\n",
      "+--------------------+--------+--------------------+--------------------+--------------------+--------------------+\n",
      "only showing top 20 rows\n",
      "\n"
     ]
    }
   ],
   "source": [
    "cv = CountVectorizer(inputCol=\"filtered_words\", outputCol=\"features\")\n",
    "\n",
    "model = cv.fit(words_df)\n",
    "\n",
    "features_data = model.transform(words_df)\n",
    "\n",
    "features_data.show()\n"
   ]
  },
  {
   "cell_type": "code",
   "execution_count": 22,
   "id": "unlikely-range",
   "metadata": {},
   "outputs": [
    {
     "name": "stdout",
     "output_type": "stream",
     "text": [
      "root\n",
      " |-- TITLE: string (nullable = true)\n",
      " |-- CATEGORY: string (nullable = true)\n",
      " |-- title_str: string (nullable = true)\n",
      " |-- words: array (nullable = true)\n",
      " |    |-- element: string (containsNull = true)\n",
      " |-- filtered_words: array (nullable = true)\n",
      " |    |-- element: string (containsNull = true)\n",
      " |-- features: vector (nullable = true)\n",
      "\n"
     ]
    }
   ],
   "source": [
    "features_data.printSchema()"
   ]
  },
  {
   "cell_type": "code",
   "execution_count": 23,
   "id": "grave-vancouver",
   "metadata": {},
   "outputs": [],
   "source": [
    "#### Multi-label / multi-class classification\n",
    "\n",
    "# Label encoding by help of StringIndexer\n",
    "# {apple:1, bear:2, crow:3, dog:4 ....} "
   ]
  },
  {
   "cell_type": "code",
   "execution_count": 24,
   "id": "silver-belle",
   "metadata": {},
   "outputs": [],
   "source": [
    "\n",
    "indexer = StringIndexer(inputCol=\"CATEGORY\", outputCol=\"categoryIndex\")\n",
    "\n",
    "features_data = indexer.fit(features_data).transform(features_data)\n",
    "\n"
   ]
  },
  {
   "cell_type": "code",
   "execution_count": 25,
   "id": "periodic-praise",
   "metadata": {},
   "outputs": [
    {
     "name": "stdout",
     "output_type": "stream",
     "text": [
      "+--------------------+-------------+\n",
      "|            CATEGORY|CategoryIndex|\n",
      "+--------------------+-------------+\n",
      "|        The Next Web|        196.0|\n",
      "|dZzicVR_bvCJYFMk1...|        157.0|\n",
      "|                  MO|        124.0|\n",
      "| Boca Raton \\(blog\\)|        234.0|\n",
      "|http://www.movies...|        131.0|\n",
      "|        GSMArena.com|         73.0|\n",
      "|          MovieViral|        145.0|\n",
      "| Download & Mixta...|        247.0|\n",
      "|http://www.newnow...|        199.0|\n",
      "|          NewNowNext|         33.0|\n",
      "|http://www.startr...|        259.0|\n",
      "|         Boing Boing|         96.0|\n",
      "|Akron Beacon Jour...|        133.0|\n",
      "|           pen  ...\"|        237.0|\n",
      "|              Cambio|        225.0|\n",
      "|http://www.hitfix...|         99.0|\n",
      "|WindowsItPro \\(su...|        109.0|\n",
      "|        The Escapist|         18.0|\n",
      "|            TechOne3|        257.0|\n",
      "|Yahoo Singapore N...|        193.0|\n",
      "+--------------------+-------------+\n",
      "only showing top 20 rows\n",
      "\n"
     ]
    }
   ],
   "source": [
    "features_data.select(\"CATEGORY\", \"CategoryIndex\").distinct().show()"
   ]
  },
  {
   "cell_type": "code",
   "execution_count": 26,
   "id": "exciting-subscription",
   "metadata": {},
   "outputs": [
    {
     "name": "stdout",
     "output_type": "stream",
     "text": [
      "root\n",
      " |-- TITLE: string (nullable = true)\n",
      " |-- CATEGORY: string (nullable = true)\n",
      " |-- title_str: string (nullable = true)\n",
      " |-- words: array (nullable = true)\n",
      " |    |-- element: string (containsNull = true)\n",
      " |-- filtered_words: array (nullable = true)\n",
      " |    |-- element: string (containsNull = true)\n",
      " |-- features: vector (nullable = true)\n",
      " |-- categoryIndex: double (nullable = false)\n",
      "\n"
     ]
    }
   ],
   "source": [
    "features_data.printSchema()\n"
   ]
  },
  {
   "cell_type": "code",
   "execution_count": 27,
   "id": "composed-feeling",
   "metadata": {},
   "outputs": [],
   "source": [
    "#### Partitioning train & test data"
   ]
  },
  {
   "cell_type": "code",
   "execution_count": 28,
   "id": "sharp-protest",
   "metadata": {},
   "outputs": [],
   "source": [
    "train, test = features_data.randomSplit([.8,.2], seed = 999)"
   ]
  },
  {
   "cell_type": "code",
   "execution_count": 29,
   "id": "alpine-poverty",
   "metadata": {},
   "outputs": [],
   "source": [
    "#### Model training & evaluation"
   ]
  },
  {
   "cell_type": "code",
   "execution_count": 30,
   "id": "changing-palace",
   "metadata": {},
   "outputs": [
    {
     "name": "stdout",
     "output_type": "stream",
     "text": [
      "root\n",
      " |-- TITLE: string (nullable = true)\n",
      " |-- CATEGORY: string (nullable = true)\n",
      " |-- title_str: string (nullable = true)\n",
      " |-- words: array (nullable = true)\n",
      " |    |-- element: string (containsNull = true)\n",
      " |-- filtered_words: array (nullable = true)\n",
      " |    |-- element: string (containsNull = true)\n",
      " |-- features: vector (nullable = true)\n",
      " |-- categoryIndex: double (nullable = false)\n",
      "\n"
     ]
    }
   ],
   "source": [
    "# Naive Bayes\n",
    "train.printSchema()"
   ]
  },
  {
   "cell_type": "code",
   "execution_count": 35,
   "id": "accredited-third",
   "metadata": {},
   "outputs": [],
   "source": [
    "NB = NaiveBayes(modelType='multinomial', labelCol='categoryIndex', featuresCol='features')\n",
    "\n",
    "nb_model= NB.fit(train)\n",
    "nb_predictions= nb_model.transform(test)"
   ]
  },
  {
   "cell_type": "code",
   "execution_count": 32,
   "id": "wound-mitchell",
   "metadata": {},
   "outputs": [
    {
     "data": {
      "text/plain": [
       "DataFrame[prediction: double]"
      ]
     },
     "execution_count": 32,
     "metadata": {},
     "output_type": "execute_result"
    }
   ],
   "source": [
    "nb_predictions.select(\"prediction\")"
   ]
  },
  {
   "cell_type": "code",
   "execution_count": 33,
   "id": "correct-relative",
   "metadata": {},
   "outputs": [],
   "source": [
    "\n",
    "#train.select([count(when(isnull(c), c)).alias(c) for c in title_category.columns]).show()\n",
    "\n"
   ]
  },
  {
   "cell_type": "code",
   "execution_count": null,
   "id": "graphic-anxiety",
   "metadata": {},
   "outputs": [],
   "source": [
    "\n",
    "evaluator = MulticlassClassificationEvaluator(labelCol= \"categoryIndex\", predictionCol = \"prediction\", \n",
    "                                              metricName=\"accuracy\")\n",
    "\n",
    "nb_accuracy = evaluator.evaluate(nb_predictions)\n",
    "\n",
    "print(\"Accuracy : \", nb_accuracy)"
   ]
  },
  {
   "cell_type": "code",
   "execution_count": null,
   "id": "thousand-smooth",
   "metadata": {},
   "outputs": [],
   "source": []
  }
 ],
 "metadata": {
  "kernelspec": {
   "display_name": "Python 3",
   "language": "python",
   "name": "python3"
  },
  "language_info": {
   "codemirror_mode": {
    "name": "ipython",
    "version": 3
   },
   "file_extension": ".py",
   "mimetype": "text/x-python",
   "name": "python",
   "nbconvert_exporter": "python",
   "pygments_lexer": "ipython3",
   "version": "3.5.2"
  }
 },
 "nbformat": 4,
 "nbformat_minor": 5
}
