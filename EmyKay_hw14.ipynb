{
 "cells": [
  {
   "cell_type": "markdown",
   "metadata": {},
   "source": [
    "import pandas as pd\n",
    "import numpy as np\n",
    "from sklearn.impute import SimpleImputer\n",
    "from scipy.stats import mode, zscore\n",
    "from copy import copy\n",
    "from pprint import pprint\n",
    "\n",
    "flatten = lambda l : [item for sublist in l for item in sublist]\n"
   ]
  },
  {
   "cell_type": "code",
   "execution_count": 2,
   "metadata": {},
   "outputs": [],
   "source": [
    "# a. Load the Dataset using Pandas\n",
    "orig_t_df = pd.read_csv('https://raw.githubusercontent.com/ammishra08/MachineLearning/master/Datasets/Titanic_Data.csv')\n",
    "t_df = copy(orig_t_df)"
   ]
  },
  {
   "cell_type": "code",
   "execution_count": 3,
   "metadata": {},
   "outputs": [
    {
     "data": {
      "text/html": [
       "<div>\n",
       "<style scoped>\n",
       "    .dataframe tbody tr th:only-of-type {\n",
       "        vertical-align: middle;\n",
       "    }\n",
       "\n",
       "    .dataframe tbody tr th {\n",
       "        vertical-align: top;\n",
       "    }\n",
       "\n",
       "    .dataframe thead th {\n",
       "        text-align: right;\n",
       "    }\n",
       "</style>\n",
       "<table border=\"1\" class=\"dataframe\">\n",
       "  <thead>\n",
       "    <tr style=\"text-align: right;\">\n",
       "      <th></th>\n",
       "      <th>PassengerId</th>\n",
       "      <th>Survived</th>\n",
       "      <th>Pclass</th>\n",
       "      <th>Name</th>\n",
       "      <th>Sex</th>\n",
       "      <th>Age</th>\n",
       "      <th>SibSp</th>\n",
       "      <th>Parch</th>\n",
       "      <th>Ticket</th>\n",
       "      <th>Fare</th>\n",
       "      <th>Cabin</th>\n",
       "      <th>Embarked</th>\n",
       "    </tr>\n",
       "  </thead>\n",
       "  <tbody>\n",
       "    <tr>\n",
       "      <th>641</th>\n",
       "      <td>642</td>\n",
       "      <td>1</td>\n",
       "      <td>1</td>\n",
       "      <td>Sagesser, Mlle. Emma</td>\n",
       "      <td>female</td>\n",
       "      <td>24.0</td>\n",
       "      <td>0</td>\n",
       "      <td>0</td>\n",
       "      <td>PC 17477</td>\n",
       "      <td>69.3000</td>\n",
       "      <td>B35</td>\n",
       "      <td>C</td>\n",
       "    </tr>\n",
       "    <tr>\n",
       "      <th>164</th>\n",
       "      <td>165</td>\n",
       "      <td>0</td>\n",
       "      <td>3</td>\n",
       "      <td>Panula, Master. Eino Viljami</td>\n",
       "      <td>male</td>\n",
       "      <td>1.0</td>\n",
       "      <td>4</td>\n",
       "      <td>1</td>\n",
       "      <td>3101295</td>\n",
       "      <td>39.6875</td>\n",
       "      <td>NaN</td>\n",
       "      <td>S</td>\n",
       "    </tr>\n",
       "    <tr>\n",
       "      <th>412</th>\n",
       "      <td>413</td>\n",
       "      <td>1</td>\n",
       "      <td>1</td>\n",
       "      <td>Minahan, Miss. Daisy E</td>\n",
       "      <td>female</td>\n",
       "      <td>33.0</td>\n",
       "      <td>1</td>\n",
       "      <td>0</td>\n",
       "      <td>19928</td>\n",
       "      <td>90.0000</td>\n",
       "      <td>C78</td>\n",
       "      <td>Q</td>\n",
       "    </tr>\n",
       "    <tr>\n",
       "      <th>313</th>\n",
       "      <td>314</td>\n",
       "      <td>0</td>\n",
       "      <td>3</td>\n",
       "      <td>Hendekovic, Mr. Ignjac</td>\n",
       "      <td>male</td>\n",
       "      <td>28.0</td>\n",
       "      <td>0</td>\n",
       "      <td>0</td>\n",
       "      <td>349243</td>\n",
       "      <td>7.8958</td>\n",
       "      <td>NaN</td>\n",
       "      <td>S</td>\n",
       "    </tr>\n",
       "    <tr>\n",
       "      <th>829</th>\n",
       "      <td>830</td>\n",
       "      <td>1</td>\n",
       "      <td>1</td>\n",
       "      <td>Stone, Mrs. George Nelson (Martha Evelyn)</td>\n",
       "      <td>female</td>\n",
       "      <td>62.0</td>\n",
       "      <td>0</td>\n",
       "      <td>0</td>\n",
       "      <td>113572</td>\n",
       "      <td>80.0000</td>\n",
       "      <td>B28</td>\n",
       "      <td>NaN</td>\n",
       "    </tr>\n",
       "    <tr>\n",
       "      <th>493</th>\n",
       "      <td>494</td>\n",
       "      <td>0</td>\n",
       "      <td>1</td>\n",
       "      <td>Artagaveytia, Mr. Ramon</td>\n",
       "      <td>male</td>\n",
       "      <td>71.0</td>\n",
       "      <td>0</td>\n",
       "      <td>0</td>\n",
       "      <td>PC 17609</td>\n",
       "      <td>49.5042</td>\n",
       "      <td>NaN</td>\n",
       "      <td>C</td>\n",
       "    </tr>\n",
       "    <tr>\n",
       "      <th>434</th>\n",
       "      <td>435</td>\n",
       "      <td>0</td>\n",
       "      <td>1</td>\n",
       "      <td>Silvey, Mr. William Baird</td>\n",
       "      <td>male</td>\n",
       "      <td>50.0</td>\n",
       "      <td>1</td>\n",
       "      <td>0</td>\n",
       "      <td>13507</td>\n",
       "      <td>55.9000</td>\n",
       "      <td>E44</td>\n",
       "      <td>S</td>\n",
       "    </tr>\n",
       "    <tr>\n",
       "      <th>266</th>\n",
       "      <td>267</td>\n",
       "      <td>0</td>\n",
       "      <td>3</td>\n",
       "      <td>Panula, Mr. Ernesti Arvid</td>\n",
       "      <td>male</td>\n",
       "      <td>16.0</td>\n",
       "      <td>4</td>\n",
       "      <td>1</td>\n",
       "      <td>3101295</td>\n",
       "      <td>39.6875</td>\n",
       "      <td>NaN</td>\n",
       "      <td>S</td>\n",
       "    </tr>\n",
       "    <tr>\n",
       "      <th>592</th>\n",
       "      <td>593</td>\n",
       "      <td>0</td>\n",
       "      <td>3</td>\n",
       "      <td>Elsbury, Mr. William James</td>\n",
       "      <td>male</td>\n",
       "      <td>47.0</td>\n",
       "      <td>0</td>\n",
       "      <td>0</td>\n",
       "      <td>A/5 3902</td>\n",
       "      <td>7.2500</td>\n",
       "      <td>NaN</td>\n",
       "      <td>S</td>\n",
       "    </tr>\n",
       "    <tr>\n",
       "      <th>205</th>\n",
       "      <td>206</td>\n",
       "      <td>0</td>\n",
       "      <td>3</td>\n",
       "      <td>Strom, Miss. Telma Matilda</td>\n",
       "      <td>female</td>\n",
       "      <td>2.0</td>\n",
       "      <td>0</td>\n",
       "      <td>1</td>\n",
       "      <td>347054</td>\n",
       "      <td>10.4625</td>\n",
       "      <td>G6</td>\n",
       "      <td>S</td>\n",
       "    </tr>\n",
       "  </tbody>\n",
       "</table>\n",
       "</div>"
      ],
      "text/plain": [
       "     PassengerId  Survived  Pclass                                       Name  \\\n",
       "641          642         1       1                       Sagesser, Mlle. Emma   \n",
       "164          165         0       3               Panula, Master. Eino Viljami   \n",
       "412          413         1       1                     Minahan, Miss. Daisy E   \n",
       "313          314         0       3                     Hendekovic, Mr. Ignjac   \n",
       "829          830         1       1  Stone, Mrs. George Nelson (Martha Evelyn)   \n",
       "493          494         0       1                    Artagaveytia, Mr. Ramon   \n",
       "434          435         0       1                  Silvey, Mr. William Baird   \n",
       "266          267         0       3                  Panula, Mr. Ernesti Arvid   \n",
       "592          593         0       3                 Elsbury, Mr. William James   \n",
       "205          206         0       3                 Strom, Miss. Telma Matilda   \n",
       "\n",
       "        Sex   Age  SibSp  Parch    Ticket     Fare Cabin Embarked  \n",
       "641  female  24.0      0      0  PC 17477  69.3000   B35        C  \n",
       "164    male   1.0      4      1   3101295  39.6875   NaN        S  \n",
       "412  female  33.0      1      0     19928  90.0000   C78        Q  \n",
       "313    male  28.0      0      0    349243   7.8958   NaN        S  \n",
       "829  female  62.0      0      0    113572  80.0000   B28      NaN  \n",
       "493    male  71.0      0      0  PC 17609  49.5042   NaN        C  \n",
       "434    male  50.0      1      0     13507  55.9000   E44        S  \n",
       "266    male  16.0      4      1   3101295  39.6875   NaN        S  \n",
       "592    male  47.0      0      0  A/5 3902   7.2500   NaN        S  \n",
       "205  female   2.0      0      1    347054  10.4625    G6        S  "
      ]
     },
     "execution_count": 3,
     "metadata": {},
     "output_type": "execute_result"
    }
   ],
   "source": [
    "t_df.sample(10)"
   ]
  },
  {
   "cell_type": "code",
   "execution_count": 4,
   "metadata": {},
   "outputs": [
    {
     "name": "stdout",
     "output_type": "stream",
     "text": [
      "<class 'pandas.core.frame.DataFrame'>\n",
      "RangeIndex: 891 entries, 0 to 890\n",
      "Data columns (total 12 columns):\n",
      " #   Column       Non-Null Count  Dtype  \n",
      "---  ------       --------------  -----  \n",
      " 0   PassengerId  891 non-null    int64  \n",
      " 1   Survived     891 non-null    int64  \n",
      " 2   Pclass       891 non-null    int64  \n",
      " 3   Name         891 non-null    object \n",
      " 4   Sex          891 non-null    object \n",
      " 5   Age          714 non-null    float64\n",
      " 6   SibSp        891 non-null    int64  \n",
      " 7   Parch        891 non-null    int64  \n",
      " 8   Ticket       891 non-null    object \n",
      " 9   Fare         891 non-null    float64\n",
      " 10  Cabin        204 non-null    object \n",
      " 11  Embarked     889 non-null    object \n",
      "dtypes: float64(2), int64(5), object(5)\n",
      "memory usage: 83.7+ KB\n"
     ]
    }
   ],
   "source": [
    "t_df.info()"
   ]
  },
  {
   "cell_type": "code",
   "execution_count": 5,
   "metadata": {},
   "outputs": [
    {
     "name": "stdout",
     "output_type": "stream",
     "text": [
      "PassengerId, 0.0\n",
      "Survived, 0.0\n",
      "Pclass, 0.0\n",
      "Name, 0.0\n",
      "Sex, 0.0\n",
      "Age, 0.19865319865319866\n",
      "SibSp, 0.0\n",
      "Parch, 0.0\n",
      "Ticket, 0.0\n",
      "Fare, 0.0\n",
      "Cabin, 0.7710437710437711\n",
      "\n",
      "dropped Cabin\n",
      "\n",
      "Embarked, 0.002244668911335578\n"
     ]
    },
    {
     "data": {
      "text/plain": [
       "Index(['PassengerId', 'Survived', 'Pclass', 'Name', 'Sex', 'Age', 'SibSp',\n",
       "       'Parch', 'Ticket', 'Fare', 'Embarked'],\n",
       "      dtype='object')"
      ]
     },
     "execution_count": 5,
     "metadata": {},
     "output_type": "execute_result"
    }
   ],
   "source": [
    "# b. Remove the column with more than 50% missing values. (if there)\n",
    "for _c in t_df.columns:\n",
    "    prop_na=t_df[_c].isna().sum()/t_df[_c].__len__()\n",
    "    print(f\"{_c}, {prop_na}\")\n",
    "    if prop_na >.5:\n",
    "        t_df.drop(_c, axis=1, inplace=True)\n",
    "        print(f'\\ndropped {_c}\\n')\n",
    "t_df.columns"
   ]
  },
  {
   "cell_type": "code",
   "execution_count": 6,
   "metadata": {},
   "outputs": [],
   "source": [
    "# c. Create a function to detect outliers. Apply it to columns Age, SibSp, Parch, Fare using apply function.\n",
    "\n",
    "def find_outlier(df):\n",
    "    q1=df.quantile(.25)\n",
    "    q3=df.quantile(.75)\n",
    "    \n",
    "    iqr=q3-q1\n",
    "    min_range = q1 - 1.5*iqr\n",
    "    max_range = q3 + 1.5*iqr\n",
    "    outliers_ixs = list(df.index[ (df < min_range) | (df > max_range) ])\n",
    "    #outliers_ixs = list(df.loc[ (df < min_range) | (df > max_range) ])\n",
    "    outliers_vals = list(df[outliers_ixs])\n",
    "    \n",
    "    return outliers_ixs, outliers_vals\n",
    "\n"
   ]
  },
  {
   "cell_type": "code",
   "execution_count": 7,
   "metadata": {},
   "outputs": [
    {
     "data": {
      "text/html": [
       "<div>\n",
       "<style scoped>\n",
       "    .dataframe tbody tr th:only-of-type {\n",
       "        vertical-align: middle;\n",
       "    }\n",
       "\n",
       "    .dataframe tbody tr th {\n",
       "        vertical-align: top;\n",
       "    }\n",
       "\n",
       "    .dataframe thead th {\n",
       "        text-align: right;\n",
       "    }\n",
       "</style>\n",
       "<table border=\"1\" class=\"dataframe\">\n",
       "  <thead>\n",
       "    <tr style=\"text-align: right;\">\n",
       "      <th></th>\n",
       "      <th>ixs</th>\n",
       "      <th>vals</th>\n",
       "    </tr>\n",
       "  </thead>\n",
       "  <tbody>\n",
       "    <tr>\n",
       "      <th>Age</th>\n",
       "      <td>[33, 54, 96, 116, 280, 456, 493, 630, 672, 745...</td>\n",
       "      <td>[66.0, 65.0, 71.0, 70.5, 65.0, 65.0, 71.0, 80....</td>\n",
       "    </tr>\n",
       "    <tr>\n",
       "      <th>SibSp</th>\n",
       "      <td>[7, 16, 24, 27, 50, 59, 63, 68, 71, 85, 88, 11...</td>\n",
       "      <td>[3, 4, 3, 3, 4, 5, 3, 4, 5, 3, 3, 4, 8, 4, 4, ...</td>\n",
       "    </tr>\n",
       "    <tr>\n",
       "      <th>Parch</th>\n",
       "      <td>[7, 8, 10, 13, 16, 24, 25, 27, 43, 50, 54, 58,...</td>\n",
       "      <td>[1, 2, 1, 5, 1, 1, 5, 2, 2, 1, 1, 2, 2, 2, 1, ...</td>\n",
       "    </tr>\n",
       "    <tr>\n",
       "      <th>Fare</th>\n",
       "      <td>[1, 27, 31, 34, 52, 61, 62, 72, 88, 102, 118, ...</td>\n",
       "      <td>[71.2833, 263.0, 146.5208, 82.1708, 76.7292, 8...</td>\n",
       "    </tr>\n",
       "  </tbody>\n",
       "</table>\n",
       "</div>"
      ],
      "text/plain": [
       "                                                     ixs  \\\n",
       "Age    [33, 54, 96, 116, 280, 456, 493, 630, 672, 745...   \n",
       "SibSp  [7, 16, 24, 27, 50, 59, 63, 68, 71, 85, 88, 11...   \n",
       "Parch  [7, 8, 10, 13, 16, 24, 25, 27, 43, 50, 54, 58,...   \n",
       "Fare   [1, 27, 31, 34, 52, 61, 62, 72, 88, 102, 118, ...   \n",
       "\n",
       "                                                    vals  \n",
       "Age    [66.0, 65.0, 71.0, 70.5, 65.0, 65.0, 71.0, 80....  \n",
       "SibSp  [3, 4, 3, 3, 4, 5, 3, 4, 5, 3, 3, 4, 8, 4, 4, ...  \n",
       "Parch  [1, 2, 1, 5, 1, 1, 5, 2, 2, 1, 1, 2, 2, 2, 1, ...  \n",
       "Fare   [71.2833, 263.0, 146.5208, 82.1708, 76.7292, 8...  "
      ]
     },
     "execution_count": 7,
     "metadata": {},
     "output_type": "execute_result"
    }
   ],
   "source": [
    "outliers = t_df[['Age', 'SibSp', 'Parch', 'Fare']].apply(find_outlier, axis=0)\n",
    "outliers= outliers.transpose()\n",
    "outliers.columns=['ixs', 'vals']\n",
    "# outliers= outliers.transpose()\n",
    "outliers"
   ]
  },
  {
   "cell_type": "code",
   "execution_count": 8,
   "metadata": {},
   "outputs": [
    {
     "name": "stdout",
     "output_type": "stream",
     "text": [
      "len(t_df) before drop outliers: 891\n",
      "len(t_df) after drop outliers: 598\n"
     ]
    }
   ],
   "source": [
    "\n",
    "\n",
    "print(f'len(t_df) before drop outliers: {len(t_df)}')\n",
    "\n",
    "t_df.drop(flatten(outliers['ixs']), axis=0, inplace=True)\n",
    "\n",
    "print(f'len(t_df) after drop outliers: {len(t_df)}')"
   ]
  },
  {
   "cell_type": "code",
   "execution_count": 9,
   "metadata": {},
   "outputs": [
    {
     "data": {
      "text/plain": [
       "'***from Slack***\\nDongli Wu  2:17 PM\\nPlease skip this one. Its something not covered yet\\n2:17\\nHi team, please skip problem 1.d.  Thanks\\n\\n'"
      ]
     },
     "execution_count": 9,
     "metadata": {},
     "output_type": "execute_result"
    }
   ],
   "source": [
    "# d. Find correlation between all features.\n",
    "# from sklearn import linear_model\n",
    "\n",
    "\"\"\"***from Slack***\n",
    "Dongli Wu  2:17 PM\n",
    "Please skip this one. Its something not covered yet\n",
    "2:17\n",
    "Hi team, please skip problem 1.d.  Thanks\n",
    "\n",
    "\"\"\""
   ]
  },
  {
   "cell_type": "code",
   "execution_count": null,
   "metadata": {},
   "outputs": [],
   "source": []
  },
  {
   "cell_type": "code",
   "execution_count": 10,
   "metadata": {},
   "outputs": [
    {
     "name": "stdout",
     "output_type": "stream",
     "text": [
      "s.isna().sum :\n",
      "\n",
      "PassengerId : 0\n",
      "Survived : 0\n",
      "Pclass : 0\n",
      "Name : 0\n",
      "Sex : 0\n",
      "Age : 149\n",
      "SibSp : 0\n",
      "Parch : 0\n",
      "Ticket : 0\n",
      "Fare : 0\n",
      "Embarked : 0\n"
     ]
    }
   ],
   "source": [
    "# e. Replace missing values using strategies – dropna, fillna or impute by mean or median.\n",
    "\n",
    "\n",
    "fillna_by_mean = lambda s0: s0.fillna(np.mean(s0))\n",
    "fillna_by_median = lambda s1: s1.fillna(np.median(s1))\n",
    "fillna_by_mode = lambda s2: s2.fillna(mode(s2))\n",
    "\n",
    "# np.nan in fillna_by_median(t_df['Age']) # seeing NaN in outputs for this!!!\n",
    "\n",
    "\n",
    "imputer_mean = SimpleImputer(strategy = 'mean')\n",
    "imputer_median = SimpleImputer(strategy = 'median')\n",
    "imputer_mode = SimpleImputer(strategy = 'mode')\n",
    "\n",
    "\n",
    "t_df['Age'] = t_df['Age'].transform(fillna_by_median)\n",
    "\n",
    "print(\"s.isna().sum :\\n\")\n",
    "for _c in t_df.columns:\n",
    "    print(f\"{_c} : {t_df[_c].isna().sum()}\")\n",
    "         \n"
   ]
  },
  {
   "cell_type": "code",
   "execution_count": 11,
   "metadata": {},
   "outputs": [
    {
     "name": "stdout",
     "output_type": "stream",
     "text": [
      "'Age .isna().sum() before imputing' : 149\n"
     ]
    },
    {
     "data": {
      "text/plain": [
       "count    449.000000\n",
       "mean      31.121381\n",
       "std       11.473877\n",
       "min        5.000000\n",
       "25%       22.000000\n",
       "50%       29.000000\n",
       "75%       37.000000\n",
       "max       64.000000\n",
       "Name: Age, dtype: float64"
      ]
     },
     "metadata": {},
     "output_type": "display_data"
    },
    {
     "name": "stdout",
     "output_type": "stream",
     "text": [
      "Age .isna().sum() after imputing : 0\n"
     ]
    },
    {
     "data": {
      "text/plain": [
       "count    598.000000\n",
       "mean      30.781991\n",
       "std       10.268239\n",
       "min        5.000000\n",
       "25%       25.000000\n",
       "50%       27.330769\n",
       "75%       36.000000\n",
       "max       64.000000\n",
       "Name: Age, dtype: float64"
      ]
     },
     "metadata": {},
     "output_type": "display_data"
    }
   ],
   "source": [
    "# f. Create an impute function orig_t_df and replace all age missing values associated with its Pclass.\n",
    "    # Use apply () function to apply the user declared function and make changes.\n",
    "t_df['Age'] = copy(orig_t_df['Age'])\n",
    "    \n",
    "print(f\"'Age .isna().sum() before imputing' : {t_df['Age'].isna().sum()}\")    \n",
    "display(t_df['Age'].describe())\n",
    "    \n",
    "    \n",
    "\n",
    "\n",
    "t_df['Age'] = t_df.groupby('Pclass')['Age'].transform(lambda grp:grp.fillna(np.mean(grp)))\n",
    "\n",
    "\n",
    "print(f\"Age .isna().sum() after imputing : {t_df['Age'].isna().sum()}\")\n",
    "display(t_df['Age'].describe())\n"
   ]
  },
  {
   "cell_type": "code",
   "execution_count": 12,
   "metadata": {},
   "outputs": [
    {
     "name": "stdout",
     "output_type": "stream",
     "text": [
      "Sex\n",
      "['male' 'female']\n",
      "\n",
      "\n",
      "Embarked\n",
      "['S' 'Q' 'C']\n",
      "\n",
      "\n",
      "Pclass\n",
      "[3 1 2]\n",
      "\n",
      "\n"
     ]
    },
    {
     "data": {
      "text/html": [
       "<div>\n",
       "<style scoped>\n",
       "    .dataframe tbody tr th:only-of-type {\n",
       "        vertical-align: middle;\n",
       "    }\n",
       "\n",
       "    .dataframe tbody tr th {\n",
       "        vertical-align: top;\n",
       "    }\n",
       "\n",
       "    .dataframe thead th {\n",
       "        text-align: right;\n",
       "    }\n",
       "</style>\n",
       "<table border=\"1\" class=\"dataframe\">\n",
       "  <thead>\n",
       "    <tr style=\"text-align: right;\">\n",
       "      <th></th>\n",
       "      <th>PassengerId</th>\n",
       "      <th>Survived</th>\n",
       "      <th>Pclass</th>\n",
       "      <th>Name</th>\n",
       "      <th>Sex</th>\n",
       "      <th>Age</th>\n",
       "      <th>SibSp</th>\n",
       "      <th>Parch</th>\n",
       "      <th>Ticket</th>\n",
       "      <th>Fare</th>\n",
       "      <th>Embarked</th>\n",
       "      <th>Pclass_str</th>\n",
       "      <th>Sex_female</th>\n",
       "      <th>Sex_male</th>\n",
       "      <th>Pclass_str_1</th>\n",
       "      <th>Pclass_str_2</th>\n",
       "      <th>Pclass_str_3</th>\n",
       "      <th>Embarked_C</th>\n",
       "      <th>Embarked_Q</th>\n",
       "      <th>Embarked_S</th>\n",
       "    </tr>\n",
       "  </thead>\n",
       "  <tbody>\n",
       "    <tr>\n",
       "      <th>0</th>\n",
       "      <td>1</td>\n",
       "      <td>0</td>\n",
       "      <td>3</td>\n",
       "      <td>Braund, Mr. Owen Harris</td>\n",
       "      <td>male</td>\n",
       "      <td>22.000000</td>\n",
       "      <td>1</td>\n",
       "      <td>0</td>\n",
       "      <td>A/5 21171</td>\n",
       "      <td>7.2500</td>\n",
       "      <td>S</td>\n",
       "      <td>3</td>\n",
       "      <td>0</td>\n",
       "      <td>1</td>\n",
       "      <td>0</td>\n",
       "      <td>0</td>\n",
       "      <td>1</td>\n",
       "      <td>0</td>\n",
       "      <td>0</td>\n",
       "      <td>1</td>\n",
       "    </tr>\n",
       "    <tr>\n",
       "      <th>2</th>\n",
       "      <td>3</td>\n",
       "      <td>1</td>\n",
       "      <td>3</td>\n",
       "      <td>Heikkinen, Miss. Laina</td>\n",
       "      <td>female</td>\n",
       "      <td>26.000000</td>\n",
       "      <td>0</td>\n",
       "      <td>0</td>\n",
       "      <td>STON/O2. 3101282</td>\n",
       "      <td>7.9250</td>\n",
       "      <td>S</td>\n",
       "      <td>3</td>\n",
       "      <td>1</td>\n",
       "      <td>0</td>\n",
       "      <td>0</td>\n",
       "      <td>0</td>\n",
       "      <td>1</td>\n",
       "      <td>0</td>\n",
       "      <td>0</td>\n",
       "      <td>1</td>\n",
       "    </tr>\n",
       "    <tr>\n",
       "      <th>3</th>\n",
       "      <td>4</td>\n",
       "      <td>1</td>\n",
       "      <td>1</td>\n",
       "      <td>Futrelle, Mrs. Jacques Heath (Lily May Peel)</td>\n",
       "      <td>female</td>\n",
       "      <td>35.000000</td>\n",
       "      <td>1</td>\n",
       "      <td>0</td>\n",
       "      <td>113803</td>\n",
       "      <td>53.1000</td>\n",
       "      <td>S</td>\n",
       "      <td>1</td>\n",
       "      <td>1</td>\n",
       "      <td>0</td>\n",
       "      <td>1</td>\n",
       "      <td>0</td>\n",
       "      <td>0</td>\n",
       "      <td>0</td>\n",
       "      <td>0</td>\n",
       "      <td>1</td>\n",
       "    </tr>\n",
       "    <tr>\n",
       "      <th>4</th>\n",
       "      <td>5</td>\n",
       "      <td>0</td>\n",
       "      <td>3</td>\n",
       "      <td>Allen, Mr. William Henry</td>\n",
       "      <td>male</td>\n",
       "      <td>35.000000</td>\n",
       "      <td>0</td>\n",
       "      <td>0</td>\n",
       "      <td>373450</td>\n",
       "      <td>8.0500</td>\n",
       "      <td>S</td>\n",
       "      <td>3</td>\n",
       "      <td>0</td>\n",
       "      <td>1</td>\n",
       "      <td>0</td>\n",
       "      <td>0</td>\n",
       "      <td>1</td>\n",
       "      <td>0</td>\n",
       "      <td>0</td>\n",
       "      <td>1</td>\n",
       "    </tr>\n",
       "    <tr>\n",
       "      <th>5</th>\n",
       "      <td>6</td>\n",
       "      <td>0</td>\n",
       "      <td>3</td>\n",
       "      <td>Moran, Mr. James</td>\n",
       "      <td>male</td>\n",
       "      <td>27.330769</td>\n",
       "      <td>0</td>\n",
       "      <td>0</td>\n",
       "      <td>330877</td>\n",
       "      <td>8.4583</td>\n",
       "      <td>Q</td>\n",
       "      <td>3</td>\n",
       "      <td>0</td>\n",
       "      <td>1</td>\n",
       "      <td>0</td>\n",
       "      <td>0</td>\n",
       "      <td>1</td>\n",
       "      <td>0</td>\n",
       "      <td>1</td>\n",
       "      <td>0</td>\n",
       "    </tr>\n",
       "    <tr>\n",
       "      <th>...</th>\n",
       "      <td>...</td>\n",
       "      <td>...</td>\n",
       "      <td>...</td>\n",
       "      <td>...</td>\n",
       "      <td>...</td>\n",
       "      <td>...</td>\n",
       "      <td>...</td>\n",
       "      <td>...</td>\n",
       "      <td>...</td>\n",
       "      <td>...</td>\n",
       "      <td>...</td>\n",
       "      <td>...</td>\n",
       "      <td>...</td>\n",
       "      <td>...</td>\n",
       "      <td>...</td>\n",
       "      <td>...</td>\n",
       "      <td>...</td>\n",
       "      <td>...</td>\n",
       "      <td>...</td>\n",
       "      <td>...</td>\n",
       "    </tr>\n",
       "    <tr>\n",
       "      <th>884</th>\n",
       "      <td>885</td>\n",
       "      <td>0</td>\n",
       "      <td>3</td>\n",
       "      <td>Sutehall, Mr. Henry Jr</td>\n",
       "      <td>male</td>\n",
       "      <td>25.000000</td>\n",
       "      <td>0</td>\n",
       "      <td>0</td>\n",
       "      <td>SOTON/OQ 392076</td>\n",
       "      <td>7.0500</td>\n",
       "      <td>S</td>\n",
       "      <td>3</td>\n",
       "      <td>0</td>\n",
       "      <td>1</td>\n",
       "      <td>0</td>\n",
       "      <td>0</td>\n",
       "      <td>1</td>\n",
       "      <td>0</td>\n",
       "      <td>0</td>\n",
       "      <td>1</td>\n",
       "    </tr>\n",
       "    <tr>\n",
       "      <th>886</th>\n",
       "      <td>887</td>\n",
       "      <td>0</td>\n",
       "      <td>2</td>\n",
       "      <td>Montvila, Rev. Juozas</td>\n",
       "      <td>male</td>\n",
       "      <td>27.000000</td>\n",
       "      <td>0</td>\n",
       "      <td>0</td>\n",
       "      <td>211536</td>\n",
       "      <td>13.0000</td>\n",
       "      <td>S</td>\n",
       "      <td>2</td>\n",
       "      <td>0</td>\n",
       "      <td>1</td>\n",
       "      <td>0</td>\n",
       "      <td>1</td>\n",
       "      <td>0</td>\n",
       "      <td>0</td>\n",
       "      <td>0</td>\n",
       "      <td>1</td>\n",
       "    </tr>\n",
       "    <tr>\n",
       "      <th>887</th>\n",
       "      <td>888</td>\n",
       "      <td>1</td>\n",
       "      <td>1</td>\n",
       "      <td>Graham, Miss. Margaret Edith</td>\n",
       "      <td>female</td>\n",
       "      <td>19.000000</td>\n",
       "      <td>0</td>\n",
       "      <td>0</td>\n",
       "      <td>112053</td>\n",
       "      <td>30.0000</td>\n",
       "      <td>S</td>\n",
       "      <td>1</td>\n",
       "      <td>1</td>\n",
       "      <td>0</td>\n",
       "      <td>1</td>\n",
       "      <td>0</td>\n",
       "      <td>0</td>\n",
       "      <td>0</td>\n",
       "      <td>0</td>\n",
       "      <td>1</td>\n",
       "    </tr>\n",
       "    <tr>\n",
       "      <th>889</th>\n",
       "      <td>890</td>\n",
       "      <td>1</td>\n",
       "      <td>1</td>\n",
       "      <td>Behr, Mr. Karl Howell</td>\n",
       "      <td>male</td>\n",
       "      <td>26.000000</td>\n",
       "      <td>0</td>\n",
       "      <td>0</td>\n",
       "      <td>111369</td>\n",
       "      <td>30.0000</td>\n",
       "      <td>C</td>\n",
       "      <td>1</td>\n",
       "      <td>0</td>\n",
       "      <td>1</td>\n",
       "      <td>1</td>\n",
       "      <td>0</td>\n",
       "      <td>0</td>\n",
       "      <td>1</td>\n",
       "      <td>0</td>\n",
       "      <td>0</td>\n",
       "    </tr>\n",
       "    <tr>\n",
       "      <th>890</th>\n",
       "      <td>891</td>\n",
       "      <td>0</td>\n",
       "      <td>3</td>\n",
       "      <td>Dooley, Mr. Patrick</td>\n",
       "      <td>male</td>\n",
       "      <td>32.000000</td>\n",
       "      <td>0</td>\n",
       "      <td>0</td>\n",
       "      <td>370376</td>\n",
       "      <td>7.7500</td>\n",
       "      <td>Q</td>\n",
       "      <td>3</td>\n",
       "      <td>0</td>\n",
       "      <td>1</td>\n",
       "      <td>0</td>\n",
       "      <td>0</td>\n",
       "      <td>1</td>\n",
       "      <td>0</td>\n",
       "      <td>1</td>\n",
       "      <td>0</td>\n",
       "    </tr>\n",
       "  </tbody>\n",
       "</table>\n",
       "<p>598 rows × 20 columns</p>\n",
       "</div>"
      ],
      "text/plain": [
       "     PassengerId  Survived  Pclass  \\\n",
       "0              1         0       3   \n",
       "2              3         1       3   \n",
       "3              4         1       1   \n",
       "4              5         0       3   \n",
       "5              6         0       3   \n",
       "..           ...       ...     ...   \n",
       "884          885         0       3   \n",
       "886          887         0       2   \n",
       "887          888         1       1   \n",
       "889          890         1       1   \n",
       "890          891         0       3   \n",
       "\n",
       "                                             Name     Sex        Age  SibSp  \\\n",
       "0                         Braund, Mr. Owen Harris    male  22.000000      1   \n",
       "2                          Heikkinen, Miss. Laina  female  26.000000      0   \n",
       "3    Futrelle, Mrs. Jacques Heath (Lily May Peel)  female  35.000000      1   \n",
       "4                        Allen, Mr. William Henry    male  35.000000      0   \n",
       "5                                Moran, Mr. James    male  27.330769      0   \n",
       "..                                            ...     ...        ...    ...   \n",
       "884                        Sutehall, Mr. Henry Jr    male  25.000000      0   \n",
       "886                         Montvila, Rev. Juozas    male  27.000000      0   \n",
       "887                  Graham, Miss. Margaret Edith  female  19.000000      0   \n",
       "889                         Behr, Mr. Karl Howell    male  26.000000      0   \n",
       "890                           Dooley, Mr. Patrick    male  32.000000      0   \n",
       "\n",
       "     Parch            Ticket     Fare Embarked Pclass_str  Sex_female  \\\n",
       "0        0         A/5 21171   7.2500        S          3           0   \n",
       "2        0  STON/O2. 3101282   7.9250        S          3           1   \n",
       "3        0            113803  53.1000        S          1           1   \n",
       "4        0            373450   8.0500        S          3           0   \n",
       "5        0            330877   8.4583        Q          3           0   \n",
       "..     ...               ...      ...      ...        ...         ...   \n",
       "884      0   SOTON/OQ 392076   7.0500        S          3           0   \n",
       "886      0            211536  13.0000        S          2           0   \n",
       "887      0            112053  30.0000        S          1           1   \n",
       "889      0            111369  30.0000        C          1           0   \n",
       "890      0            370376   7.7500        Q          3           0   \n",
       "\n",
       "     Sex_male  Pclass_str_1  Pclass_str_2  Pclass_str_3  Embarked_C  \\\n",
       "0           1             0             0             1           0   \n",
       "2           0             0             0             1           0   \n",
       "3           0             1             0             0           0   \n",
       "4           1             0             0             1           0   \n",
       "5           1             0             0             1           0   \n",
       "..        ...           ...           ...           ...         ...   \n",
       "884         1             0             0             1           0   \n",
       "886         1             0             1             0           0   \n",
       "887         0             1             0             0           0   \n",
       "889         1             1             0             0           1   \n",
       "890         1             0             0             1           0   \n",
       "\n",
       "     Embarked_Q  Embarked_S  \n",
       "0             0           1  \n",
       "2             0           1  \n",
       "3             0           1  \n",
       "4             0           1  \n",
       "5             1           0  \n",
       "..          ...         ...  \n",
       "884           0           1  \n",
       "886           0           1  \n",
       "887           0           1  \n",
       "889           0           0  \n",
       "890           1           0  \n",
       "\n",
       "[598 rows x 20 columns]"
      ]
     },
     "execution_count": 12,
     "metadata": {},
     "output_type": "execute_result"
    }
   ],
   "source": [
    "# g. Apply encoding to the categorical values\n",
    "\n",
    "for _c in [\"Sex\", \"Embarked\", \"Pclass\"]:\n",
    "    print(f\"{_c}\\n{t_df[_c].unique()}\\n\\n\")\n",
    "\n",
    "t_df['Pclass_str']= t_df['Pclass'].astype('str')\n",
    "s_d = pd.get_dummies(t_df[['Sex', 'Pclass_str', \"Embarked\"]])\n",
    "s_d\n",
    "t_df = pd.concat([t_df, s_d], axis=1)\n",
    "t_df\n",
    "\n",
    "\n",
    "\n",
    "\n",
    "\n",
    "# from sklearn.preprocessing import LabelBinarizer\n",
    "################\n",
    "# Perhaps this should be done with only one LabelBinarizer?\n",
    "################\n",
    "# encoder_sex = LabelBinarizer()\n",
    "# encoder_embarked = LabelBinarizer()\n",
    "# encoder_pclass = LabelBinarizer()\n",
    "# t_df['Sex_coded'] = pd.Series(list(encoder_sex.fit_transform(t_df['Sex'])))\n",
    "# t_df['Embarked_coded'] = pd.Series(list(encoder_embarked.fit_transform(t_df['Embarked'])))\n",
    "# t_df['Pclass_coded'] = pd.Series(list(encoder_pclass.fit_transform(t_df['Pclass'])))\n",
    "# encoder_pclass.classes_"
   ]
  },
  {
   "cell_type": "code",
   "execution_count": 13,
   "metadata": {},
   "outputs": [
    {
     "data": {
      "text/plain": [
       "0    420\n",
       "1    178\n",
       "Name: Survived, dtype: int64"
      ]
     },
     "metadata": {},
     "output_type": "display_data"
    },
    {
     "data": {
      "text/plain": [
       "<matplotlib.legend.Legend at 0x20b361ba3d0>"
      ]
     },
     "execution_count": 13,
     "metadata": {},
     "output_type": "execute_result"
    },
    {
     "data": {
      "image/png": "[encoded data removed]",
      "text/plain": [
       "<Figure size 1152x720 with 1 Axes>"
      ]
     },
     "metadata": {},
     "output_type": "display_data"
    }
   ],
   "source": [
    "# h. Count total number of survived and not survived and create a Pie Chart displaying % of survived and not survived.\n",
    "surv_pc_vals=t_df['Survived'].value_counts()\n",
    "display(surv_pc_vals)\n",
    "ax0 = t_df['Survived'].value_counts().plot.pie(labels=[f'Did not survive: {surv_pc_vals[0]}', f'Survived: {surv_pc_vals[1]}'], autopct='%1.2f%%', explode=[0, .2], cmap='Spectral', figsize=(16,10))\n",
    "ax0.legend()"
   ]
  },
  {
   "cell_type": "code",
   "execution_count": 14,
   "metadata": {},
   "outputs": [
    {
     "data": {
      "text/plain": [
       "Sex     Survived\n",
       "female  1           106\n",
       "        0            41\n",
       "male    0           379\n",
       "        1            72\n",
       "Name: Survived, dtype: int64"
      ]
     },
     "metadata": {},
     "output_type": "display_data"
    }
   ],
   "source": [
    "# i. Count total number of Male and Female survived and Not Survived from Titanic Dataset.\n",
    "display(t_df.groupby('Sex')['Survived'].value_counts())\n",
    "\n",
    "\n",
    "\n"
   ]
  },
  {
   "cell_type": "code",
   "execution_count": 15,
   "metadata": {},
   "outputs": [
    {
     "data": {
      "text/plain": [
       "Pclass  Survived\n",
       "1       0            49\n",
       "        1            46\n",
       "2       0            79\n",
       "        1            47\n",
       "3       0           292\n",
       "        1            85\n",
       "Name: Survived, dtype: int64"
      ]
     },
     "metadata": {},
     "output_type": "display_data"
    }
   ],
   "source": [
    "# j. Count total number of people survived from each Pclass (Passenger Class).\n",
    "display(t_df.groupby('Pclass')['Survived'].value_counts())"
   ]
  },
  {
   "cell_type": "code",
   "execution_count": 16,
   "metadata": {},
   "outputs": [
    {
     "data": {
      "text/plain": [
       "<AxesSubplot:ylabel='Pclass'>"
      ]
     },
     "execution_count": 16,
     "metadata": {},
     "output_type": "execute_result"
    },
    {
     "data": {
      "image/png": "[encoded data removed]",
      "text/plain": [
       "<Figure size 1152x720 with 1 Axes>"
      ]
     },
     "metadata": {},
     "output_type": "display_data"
    }
   ],
   "source": [
    "# k. Create a Pie Chart showing % of passengers travelling in each Class. \n",
    "\n",
    "pc_vals = t_df['Pclass'].value_counts()\n",
    "\n",
    "pc_vals.plot.pie(autopct='%1.2f%%', cmap='Spectral', figsize=(16,10))"
   ]
  },
  {
   "cell_type": "code",
   "execution_count": 17,
   "metadata": {
    "scrolled": true
   },
   "outputs": [],
   "source": [
    "# print(clean_namespace(early_namespace, dir()))"
   ]
  },
  {
   "cell_type": "code",
   "execution_count": null,
   "metadata": {},
   "outputs": [],
   "source": []
  },
  {
   "cell_type": "code",
   "execution_count": 18,
   "metadata": {},
   "outputs": [
    {
     "name": "stderr",
     "output_type": "stream",
     "text": [
      "C:\\Users\\emmam\\anaconda3\\lib\\site-packages\\IPython\\core\\interactiveshell.py:3146: DtypeWarning: Columns (22,32) have mixed types.Specify dtype option on import or set low_memory=False.\n",
      "  has_raised = await self.run_ast_nodes(code_ast.body, cell_name,\n"
     ]
    },
    {
     "name": "stdout",
     "output_type": "stream",
     "text": [
      "<class 'pandas.core.frame.DataFrame'>\n",
      "RangeIndex: 198900 entries, 0 to 198899\n",
      "Data columns (total 43 columns):\n",
      " #   Column                                  Non-Null Count   Dtype  \n",
      "---  ------                                  --------------   -----  \n",
      " 0   Permit Number                           198900 non-null  object \n",
      " 1   Permit Type                             198900 non-null  int64  \n",
      " 2   Permit Type Definition                  198900 non-null  object \n",
      " 3   Permit Creation Date                    198900 non-null  object \n",
      " 4   Block                                   198900 non-null  object \n",
      " 5   Lot                                     198900 non-null  object \n",
      " 6   Street Number                           198900 non-null  int64  \n",
      " 7   Street Number Suffix                    2216 non-null    object \n",
      " 8   Street Name                             198900 non-null  object \n",
      " 9   Street Suffix                           196132 non-null  object \n",
      " 10  Unit                                    29479 non-null   float64\n",
      " 11  Unit Suffix                             1961 non-null    object \n",
      " 12  Description                             198610 non-null  object \n",
      " 13  Current Status                          198900 non-null  object \n",
      " 14  Current Status Date                     198900 non-null  object \n",
      " 15  Filed Date                              198900 non-null  object \n",
      " 16  Issued Date                             183960 non-null  object \n",
      " 17  Completed Date                          97191 non-null   object \n",
      " 18  First Construction Document Date        183954 non-null  object \n",
      " 19  Structural Notification                 6922 non-null    object \n",
      " 20  Number of Existing Stories              156116 non-null  float64\n",
      " 21  Number of Proposed Stories              156032 non-null  float64\n",
      " 22  Voluntary Soft-Story Retrofit           35 non-null      object \n",
      " 23  Fire Only Permit                        18827 non-null   object \n",
      " 24  Permit Expiration Date                  147020 non-null  object \n",
      " 25  Estimated Cost                          160834 non-null  float64\n",
      " 26  Revised Cost                            192834 non-null  float64\n",
      " 27  Existing Use                            157786 non-null  object \n",
      " 28  Existing Units                          147362 non-null  float64\n",
      " 29  Proposed Use                            156461 non-null  object \n",
      " 30  Proposed Units                          147989 non-null  float64\n",
      " 31  Plansets                                161591 non-null  float64\n",
      " 32  TIDF Compliance                         2 non-null       object \n",
      " 33  Existing Construction Type              155534 non-null  float64\n",
      " 34  Existing Construction Type Description  155534 non-null  object \n",
      " 35  Proposed Construction Type              155738 non-null  float64\n",
      " 36  Proposed Construction Type Description  155738 non-null  object \n",
      " 37  Site Permit                             5359 non-null    object \n",
      " 38  Supervisor District                     197183 non-null  float64\n",
      " 39  Neighborhoods - Analysis Boundaries     197175 non-null  object \n",
      " 40  Zipcode                                 197184 non-null  float64\n",
      " 41  Location                                197200 non-null  object \n",
      " 42  Record ID                               198900 non-null  int64  \n",
      "dtypes: float64(12), int64(3), object(28)\n",
      "memory usage: 65.3+ MB\n"
     ]
    }
   ],
   "source": [
    "# 2. BUILDING PERMITS\n",
    "# Perform the Data Cleaning for using Building Permits dataset.\n",
    "# a. Load the Dataset using Pandas\n",
    "permits_data_path = r'C:\\Users\\emmam\\Documents\\nlb\\data\\Building_Permits.csv'\n",
    "\n",
    "bp_df = pd.read_csv(permits_data_path)\n",
    "bp_df.info()\n"
   ]
  },
  {
   "cell_type": "code",
   "execution_count": 19,
   "metadata": {},
   "outputs": [
    {
     "data": {
      "text/plain": [
       "'df shape:(198900, 43)'"
      ]
     },
     "metadata": {},
     "output_type": "display_data"
    },
    {
     "name": "stdout",
     "output_type": "stream",
     "text": [
      "dropping columns:\n",
      "[('Street Number Suffix', 0.98885872297637),\n",
      " ('Unit', 0.8517898441427854),\n",
      " ('Unit Suffix', 0.9901407742584213),\n",
      " ('Completed Date', 0.5113574660633484),\n",
      " ('Structural Notification', 0.9651985922574158),\n",
      " ('Voluntary Soft-Story Retrofit', 0.9998240321769734),\n",
      " ('Fire Only Permit', 0.9053443941679236),\n",
      " ('TIDF Compliance', 0.999989944695827),\n",
      " ('Site Permit', 0.9730568124685772)]\n",
      "...\n"
     ]
    },
    {
     "data": {
      "text/plain": [
       "'df shape:(198900, 34)'"
      ]
     },
     "metadata": {},
     "output_type": "display_data"
    }
   ],
   "source": [
    "# b. Remove the column with more than 50% missing values. (if there)\n",
    "# help(filter)\n",
    "\n",
    "display(f\"df shape:{ bp_df.shape}\")\n",
    "gt50_nan_cols=list()\n",
    "\n",
    "for _c in bp_df.columns:\n",
    "    _sum = bp_df[_c].isna().sum()/len(bp_df)\n",
    "\n",
    "    if _sum > .5:\n",
    "            gt50_nan_cols.append((_c, _sum))\n",
    "\n",
    "print(\"dropping columns:\")            \n",
    "pprint(gt50_nan_cols)\n",
    "print(\"...\")\n",
    "bp_df.drop([c[0] for c in gt50_nan_cols], axis=1, inplace=True)\n",
    "\n",
    "display(f\"df shape:{ bp_df.shape}\")\n"
   ]
  },
  {
   "cell_type": "code",
   "execution_count": 20,
   "metadata": {},
   "outputs": [
    {
     "data": {
      "text/plain": [
       "'*column name*, *nan vals in column*, *% nan vals*'"
      ]
     },
     "metadata": {},
     "output_type": "display_data"
    },
    {
     "data": {
      "text/plain": [
       "[('Permit Number', 0, 0.0),\n",
       " ('Permit Type', 0, 0.0),\n",
       " ('Permit Type Definition', 0, 0.0),\n",
       " ('Permit Creation Date', 0, 0.0),\n",
       " ('Block', 0, 0.0),\n",
       " ('Lot', 0, 0.0),\n",
       " ('Street Number', 0, 0.0),\n",
       " ('Street Name', 0, 0.0),\n",
       " ('Street Suffix', 2768, 0.01),\n",
       " ('Description', 290, 0.0),\n",
       " ('Current Status', 0, 0.0),\n",
       " ('Current Status Date', 0, 0.0),\n",
       " ('Filed Date', 0, 0.0),\n",
       " ('Issued Date', 14940, 0.08),\n",
       " ('First Construction Document Date', 14946, 0.08),\n",
       " ('Number of Existing Stories', 42784, 0.22),\n",
       " ('Number of Proposed Stories', 42868, 0.22),\n",
       " ('Permit Expiration Date', 51880, 0.26),\n",
       " ('Estimated Cost', 38066, 0.19),\n",
       " ('Revised Cost', 6066, 0.03),\n",
       " ('Existing Use', 41114, 0.21),\n",
       " ('Existing Units', 51538, 0.26),\n",
       " ('Proposed Use', 42439, 0.21),\n",
       " ('Proposed Units', 50911, 0.26),\n",
       " ('Plansets', 37309, 0.19),\n",
       " ('Existing Construction Type', 43366, 0.22),\n",
       " ('Existing Construction Type Description', 43366, 0.22),\n",
       " ('Proposed Construction Type', 43162, 0.22),\n",
       " ('Proposed Construction Type Description', 43162, 0.22),\n",
       " ('Supervisor District', 1717, 0.01),\n",
       " ('Neighborhoods - Analysis Boundaries', 1725, 0.01),\n",
       " ('Zipcode', 1716, 0.01),\n",
       " ('Location', 1700, 0.01),\n",
       " ('Record ID', 0, 0.0)]"
      ]
     },
     "metadata": {},
     "output_type": "display_data"
    },
    {
     "data": {
      "text/plain": [
       "'*********'"
      ]
     },
     "metadata": {},
     "output_type": "display_data"
    },
    {
     "data": {
      "text/plain": [
       "'69433 rows with nan values, 0.349 of total'"
      ]
     },
     "metadata": {},
     "output_type": "display_data"
    }
   ],
   "source": [
    "# c. Compute the number of missing data points missing per column\n",
    "missing_data_per_col=list()\n",
    "\n",
    "for _c in bp_df.columns:\n",
    "    \n",
    "    _sum = bp_df[_c].isna().sum()\n",
    "    _pct= round(_sum/len(bp_df) ,2)\n",
    "    missing_data_per_col.append((_c, _sum, _pct))\n",
    "\n",
    "\n",
    "# d. Calculate total percent of data missing.\n",
    "display(\"*column name*, *nan vals in column*, *% nan vals*\")\n",
    "display(missing_data_per_col)\n",
    "i0 = len(bp_df) - len(bp_df.dropna())\n",
    "\n",
    "display(\"*********\")\n",
    "display(f\"{i0} rows with nan values, {round(i0/len(bp_df),3)} of total\")\n"
   ]
  },
  {
   "cell_type": "code",
   "execution_count": 21,
   "metadata": {
    "scrolled": true
   },
   "outputs": [
    {
     "data": {
      "text/plain": [
       "count           198900\n",
       "unique          181495\n",
       "top       201602179765\n",
       "freq               101\n",
       "Name: Permit Number, dtype: object"
      ]
     },
     "metadata": {},
     "output_type": "display_data"
    },
    {
     "data": {
      "text/plain": [
       "count           129467\n",
       "unique          117633\n",
       "top       201602179758\n",
       "freq                66\n",
       "Name: Permit Number, dtype: object"
      ]
     },
     "metadata": {},
     "output_type": "display_data"
    },
    {
     "data": {
      "text/plain": [
       "'****************************************'"
      ]
     },
     "metadata": {},
     "output_type": "display_data"
    },
    {
     "data": {
      "text/plain": [
       "count    198900.000000\n",
       "mean          7.522323\n",
       "std           1.457451\n",
       "min           1.000000\n",
       "25%           8.000000\n",
       "50%           8.000000\n",
       "75%           8.000000\n",
       "max           8.000000\n",
       "Name: Permit Type, dtype: float64"
      ]
     },
     "metadata": {},
     "output_type": "display_data"
    },
    {
     "data": {
      "text/plain": [
       "count    129467.000000\n",
       "mean          7.695050\n",
       "std           1.196584\n",
       "min           2.000000\n",
       "25%           8.000000\n",
       "50%           8.000000\n",
       "75%           8.000000\n",
       "max           8.000000\n",
       "Name: Permit Type, dtype: float64"
      ]
     },
     "metadata": {},
     "output_type": "display_data"
    },
    {
     "data": {
      "text/plain": [
       "'****************************************'"
      ]
     },
     "metadata": {},
     "output_type": "display_data"
    },
    {
     "data": {
      "text/plain": [
       "count                     198900\n",
       "unique                         8\n",
       "top       otc alterations permit\n",
       "freq                      178844\n",
       "Name: Permit Type Definition, dtype: object"
      ]
     },
     "metadata": {},
     "output_type": "display_data"
    },
    {
     "data": {
      "text/plain": [
       "count                     129467\n",
       "unique                         3\n",
       "top       otc alterations permit\n",
       "freq                      121571\n",
       "Name: Permit Type Definition, dtype: object"
      ]
     },
     "metadata": {},
     "output_type": "display_data"
    },
    {
     "data": {
      "text/plain": [
       "'****************************************'"
      ]
     },
     "metadata": {},
     "output_type": "display_data"
    },
    {
     "data": {
      "text/plain": [
       "count         198900\n",
       "unique          1291\n",
       "top       09/15/2017\n",
       "freq             413\n",
       "Name: Permit Creation Date, dtype: object"
      ]
     },
     "metadata": {},
     "output_type": "display_data"
    },
    {
     "data": {
      "text/plain": [
       "count         129467\n",
       "unique          1289\n",
       "top       11/03/2015\n",
       "freq             332\n",
       "Name: Permit Creation Date, dtype: object"
      ]
     },
     "metadata": {},
     "output_type": "display_data"
    },
    {
     "data": {
      "text/plain": [
       "'****************************************'"
      ]
     },
     "metadata": {},
     "output_type": "display_data"
    },
    {
     "data": {
      "text/plain": [
       "count     198900\n",
       "unique      4896\n",
       "top         3708\n",
       "freq        1195\n",
       "Name: Block, dtype: object"
      ]
     },
     "metadata": {},
     "output_type": "display_data"
    },
    {
     "data": {
      "text/plain": [
       "count     129467\n",
       "unique      4755\n",
       "top         3708\n",
       "freq         848\n",
       "Name: Block, dtype: object"
      ]
     },
     "metadata": {},
     "output_type": "display_data"
    },
    {
     "data": {
      "text/plain": [
       "'****************************************'"
      ]
     },
     "metadata": {},
     "output_type": "display_data"
    },
    {
     "data": {
      "text/plain": [
       "count     198900\n",
       "unique      1055\n",
       "top          001\n",
       "freq       10114\n",
       "Name: Lot, dtype: object"
      ]
     },
     "metadata": {},
     "output_type": "display_data"
    },
    {
     "data": {
      "text/plain": [
       "count     129467\n",
       "unique       992\n",
       "top          001\n",
       "freq        5800\n",
       "Name: Lot, dtype: object"
      ]
     },
     "metadata": {},
     "output_type": "display_data"
    },
    {
     "data": {
      "text/plain": [
       "'****************************************'"
      ]
     },
     "metadata": {},
     "output_type": "display_data"
    },
    {
     "data": {
      "text/plain": [
       "count    198900.000000\n",
       "mean       1121.728944\n",
       "std        1135.768948\n",
       "min           0.000000\n",
       "25%         235.000000\n",
       "50%         710.000000\n",
       "75%        1700.000000\n",
       "max        8400.000000\n",
       "Name: Street Number, dtype: float64"
      ]
     },
     "metadata": {},
     "output_type": "display_data"
    },
    {
     "data": {
      "text/plain": [
       "count    129467.000000\n",
       "mean       1107.775580\n",
       "std        1134.983883\n",
       "min           1.000000\n",
       "25%         230.000000\n",
       "50%         686.000000\n",
       "75%        1661.000000\n",
       "max        8400.000000\n",
       "Name: Street Number, dtype: float64"
      ]
     },
     "metadata": {},
     "output_type": "display_data"
    },
    {
     "data": {
      "text/plain": [
       "'****************************************'"
      ]
     },
     "metadata": {},
     "output_type": "display_data"
    },
    {
     "data": {
      "text/plain": [
       "count     198900\n",
       "unique      1704\n",
       "top       Market\n",
       "freq        5443\n",
       "Name: Street Name, dtype: object"
      ]
     },
     "metadata": {},
     "output_type": "display_data"
    },
    {
     "data": {
      "text/plain": [
       "count     129467\n",
       "unique      1618\n",
       "top       Market\n",
       "freq        3500\n",
       "Name: Street Name, dtype: object"
      ]
     },
     "metadata": {},
     "output_type": "display_data"
    },
    {
     "data": {
      "text/plain": [
       "'****************************************'"
      ]
     },
     "metadata": {},
     "output_type": "display_data"
    },
    {
     "data": {
      "text/plain": [
       "count     196132\n",
       "unique        21\n",
       "top           St\n",
       "freq      138358\n",
       "Name: Street Suffix, dtype: object"
      ]
     },
     "metadata": {},
     "output_type": "display_data"
    },
    {
     "data": {
      "text/plain": [
       "count     129467\n",
       "unique        21\n",
       "top           St\n",
       "freq       88367\n",
       "Name: Street Suffix, dtype: object"
      ]
     },
     "metadata": {},
     "output_type": "display_data"
    },
    {
     "data": {
      "text/plain": [
       "'****************************************'"
      ]
     },
     "metadata": {},
     "output_type": "display_data"
    },
    {
     "data": {
      "text/plain": [
       "count           198610\n",
       "unique          134272\n",
       "top       street space\n",
       "freq             22163\n",
       "Name: Description, dtype: object"
      ]
     },
     "metadata": {},
     "output_type": "display_data"
    },
    {
     "data": {
      "text/plain": [
       "count        129467\n",
       "unique       104924\n",
       "top       reroofing\n",
       "freq           8890\n",
       "Name: Description, dtype: object"
      ]
     },
     "metadata": {},
     "output_type": "display_data"
    },
    {
     "data": {
      "text/plain": [
       "'****************************************'"
      ]
     },
     "metadata": {},
     "output_type": "display_data"
    },
    {
     "data": {
      "text/plain": [
       "count       198900\n",
       "unique          14\n",
       "top       complete\n",
       "freq         97077\n",
       "Name: Current Status, dtype: object"
      ]
     },
     "metadata": {},
     "output_type": "display_data"
    },
    {
     "data": {
      "text/plain": [
       "count       129467\n",
       "unique          10\n",
       "top       complete\n",
       "freq         86713\n",
       "Name: Current Status, dtype: object"
      ]
     },
     "metadata": {},
     "output_type": "display_data"
    },
    {
     "data": {
      "text/plain": [
       "'****************************************'"
      ]
     },
     "metadata": {},
     "output_type": "display_data"
    },
    {
     "data": {
      "text/plain": [
       "count         198900\n",
       "unique          1307\n",
       "top       09/15/2017\n",
       "freq             474\n",
       "Name: Current Status Date, dtype: object"
      ]
     },
     "metadata": {},
     "output_type": "display_data"
    },
    {
     "data": {
      "text/plain": [
       "count         129467\n",
       "unique          1306\n",
       "top       06/15/2016\n",
       "freq             315\n",
       "Name: Current Status Date, dtype: object"
      ]
     },
     "metadata": {},
     "output_type": "display_data"
    },
    {
     "data": {
      "text/plain": [
       "'****************************************'"
      ]
     },
     "metadata": {},
     "output_type": "display_data"
    },
    {
     "data": {
      "text/plain": [
       "count         198900\n",
       "unique          1288\n",
       "top       09/15/2017\n",
       "freq             412\n",
       "Name: Filed Date, dtype: object"
      ]
     },
     "metadata": {},
     "output_type": "display_data"
    },
    {
     "data": {
      "text/plain": [
       "count         129467\n",
       "unique          1288\n",
       "top       11/03/2015\n",
       "freq             302\n",
       "Name: Filed Date, dtype: object"
      ]
     },
     "metadata": {},
     "output_type": "display_data"
    },
    {
     "data": {
      "text/plain": [
       "'****************************************'"
      ]
     },
     "metadata": {},
     "output_type": "display_data"
    },
    {
     "data": {
      "text/plain": [
       "count         183960\n",
       "unique          1289\n",
       "top       06/15/2016\n",
       "freq             341\n",
       "Name: Issued Date, dtype: object"
      ]
     },
     "metadata": {},
     "output_type": "display_data"
    },
    {
     "data": {
      "text/plain": [
       "count         129467\n",
       "unique          1289\n",
       "top       06/15/2016\n",
       "freq             296\n",
       "Name: Issued Date, dtype: object"
      ]
     },
     "metadata": {},
     "output_type": "display_data"
    },
    {
     "data": {
      "text/plain": [
       "'****************************************'"
      ]
     },
     "metadata": {},
     "output_type": "display_data"
    },
    {
     "data": {
      "text/plain": [
       "count         183954\n",
       "unique          1288\n",
       "top       11/07/2016\n",
       "freq             339\n",
       "Name: First Construction Document Date, dtype: object"
      ]
     },
     "metadata": {},
     "output_type": "display_data"
    },
    {
     "data": {
      "text/plain": [
       "count         129467\n",
       "unique          1288\n",
       "top       11/07/2016\n",
       "freq             286\n",
       "Name: First Construction Document Date, dtype: object"
      ]
     },
     "metadata": {},
     "output_type": "display_data"
    },
    {
     "data": {
      "text/plain": [
       "'****************************************'"
      ]
     },
     "metadata": {},
     "output_type": "display_data"
    },
    {
     "data": {
      "text/plain": [
       "count    156116.000000\n",
       "mean          5.705773\n",
       "std           8.613455\n",
       "min           0.000000\n",
       "25%           2.000000\n",
       "50%           3.000000\n",
       "75%           4.000000\n",
       "max          78.000000\n",
       "Name: Number of Existing Stories, dtype: float64"
      ]
     },
     "metadata": {},
     "output_type": "display_data"
    },
    {
     "data": {
      "text/plain": [
       "count    129467.000000\n",
       "mean          5.293484\n",
       "std           8.023540\n",
       "min           0.000000\n",
       "25%           2.000000\n",
       "50%           3.000000\n",
       "75%           4.000000\n",
       "max          63.000000\n",
       "Name: Number of Existing Stories, dtype: float64"
      ]
     },
     "metadata": {},
     "output_type": "display_data"
    },
    {
     "data": {
      "text/plain": [
       "'****************************************'"
      ]
     },
     "metadata": {},
     "output_type": "display_data"
    },
    {
     "data": {
      "text/plain": [
       "count    156032.000000\n",
       "mean          5.745043\n",
       "std           8.613284\n",
       "min           0.000000\n",
       "25%           2.000000\n",
       "50%           3.000000\n",
       "75%           4.000000\n",
       "max          78.000000\n",
       "Name: Number of Proposed Stories, dtype: float64"
      ]
     },
     "metadata": {},
     "output_type": "display_data"
    },
    {
     "data": {
      "text/plain": [
       "count    129467.000000\n",
       "mean          5.310747\n",
       "std           8.023431\n",
       "min           0.000000\n",
       "25%           2.000000\n",
       "50%           3.000000\n",
       "75%           4.000000\n",
       "max          63.000000\n",
       "Name: Number of Proposed Stories, dtype: float64"
      ]
     },
     "metadata": {},
     "output_type": "display_data"
    },
    {
     "data": {
      "text/plain": [
       "'****************************************'"
      ]
     },
     "metadata": {},
     "output_type": "display_data"
    },
    {
     "data": {
      "text/plain": [
       "count         147020\n",
       "unique          2232\n",
       "top       02/28/2018\n",
       "freq             302\n",
       "Name: Permit Expiration Date, dtype: object"
      ]
     },
     "metadata": {},
     "output_type": "display_data"
    },
    {
     "data": {
      "text/plain": [
       "count         129467\n",
       "unique          1983\n",
       "top       02/28/2018\n",
       "freq             275\n",
       "Name: Permit Expiration Date, dtype: object"
      ]
     },
     "metadata": {},
     "output_type": "display_data"
    },
    {
     "data": {
      "text/plain": [
       "'****************************************'"
      ]
     },
     "metadata": {},
     "output_type": "display_data"
    },
    {
     "data": {
      "text/plain": [
       "count    1.608340e+05\n",
       "mean     1.689554e+05\n",
       "std      3.630386e+06\n",
       "min      1.000000e+00\n",
       "25%      3.300000e+03\n",
       "50%      1.100000e+04\n",
       "75%      3.500000e+04\n",
       "max      5.379586e+08\n",
       "Name: Estimated Cost, dtype: float64"
      ]
     },
     "metadata": {},
     "output_type": "display_data"
    },
    {
     "data": {
      "text/plain": [
       "count    1.294670e+05\n",
       "mean     6.392003e+04\n",
       "std      7.244466e+05\n",
       "min      1.000000e+00\n",
       "25%      3.500000e+03\n",
       "50%      1.000000e+04\n",
       "75%      3.000000e+04\n",
       "max      2.100000e+08\n",
       "Name: Estimated Cost, dtype: float64"
      ]
     },
     "metadata": {},
     "output_type": "display_data"
    },
    {
     "data": {
      "text/plain": [
       "'****************************************'"
      ]
     },
     "metadata": {},
     "output_type": "display_data"
    },
    {
     "data": {
      "text/plain": [
       "count    1.928340e+05\n",
       "mean     1.328562e+05\n",
       "std      3.584903e+06\n",
       "min      0.000000e+00\n",
       "25%      1.000000e+00\n",
       "50%      7.000000e+03\n",
       "75%      2.870750e+04\n",
       "max      7.805000e+08\n",
       "Name: Revised Cost, dtype: float64"
      ]
     },
     "metadata": {},
     "output_type": "display_data"
    },
    {
     "data": {
      "text/plain": [
       "count    1.294670e+05\n",
       "mean     7.405395e+04\n",
       "std      7.282236e+05\n",
       "min      0.000000e+00\n",
       "25%      4.000000e+03\n",
       "50%      1.250000e+04\n",
       "75%      3.900000e+04\n",
       "max      2.100000e+08\n",
       "Name: Revised Cost, dtype: float64"
      ]
     },
     "metadata": {},
     "output_type": "display_data"
    },
    {
     "data": {
      "text/plain": [
       "'****************************************'"
      ]
     },
     "metadata": {},
     "output_type": "display_data"
    },
    {
     "data": {
      "text/plain": [
       "count                157786\n",
       "unique                   93\n",
       "top       1 family dwelling\n",
       "freq                  46766\n",
       "Name: Existing Use, dtype: object"
      ]
     },
     "metadata": {},
     "output_type": "display_data"
    },
    {
     "data": {
      "text/plain": [
       "count                129467\n",
       "unique                   92\n",
       "top       1 family dwelling\n",
       "freq                  42827\n",
       "Name: Existing Use, dtype: object"
      ]
     },
     "metadata": {},
     "output_type": "display_data"
    },
    {
     "data": {
      "text/plain": [
       "'****************************************'"
      ]
     },
     "metadata": {},
     "output_type": "display_data"
    },
    {
     "data": {
      "text/plain": [
       "count    147362.000000\n",
       "mean         15.666164\n",
       "std          74.476321\n",
       "min           0.000000\n",
       "25%           1.000000\n",
       "50%           1.000000\n",
       "75%           4.000000\n",
       "max        1907.000000\n",
       "Name: Existing Units, dtype: float64"
      ]
     },
     "metadata": {},
     "output_type": "display_data"
    },
    {
     "data": {
      "text/plain": [
       "count    129467.000000\n",
       "mean         15.398405\n",
       "std          72.724217\n",
       "min           0.000000\n",
       "25%           1.000000\n",
       "50%           1.000000\n",
       "75%           4.000000\n",
       "max        1907.000000\n",
       "Name: Existing Units, dtype: float64"
      ]
     },
     "metadata": {},
     "output_type": "display_data"
    },
    {
     "data": {
      "text/plain": [
       "'****************************************'"
      ]
     },
     "metadata": {},
     "output_type": "display_data"
    },
    {
     "data": {
      "text/plain": [
       "count                156461\n",
       "unique                   94\n",
       "top       1 family dwelling\n",
       "freq                  46346\n",
       "Name: Proposed Use, dtype: object"
      ]
     },
     "metadata": {},
     "output_type": "display_data"
    },
    {
     "data": {
      "text/plain": [
       "count                129467\n",
       "unique                   92\n",
       "top       1 family dwelling\n",
       "freq                  42223\n",
       "Name: Proposed Use, dtype: object"
      ]
     },
     "metadata": {},
     "output_type": "display_data"
    },
    {
     "data": {
      "text/plain": [
       "'****************************************'"
      ]
     },
     "metadata": {},
     "output_type": "display_data"
    },
    {
     "data": {
      "text/plain": [
       "count    147989.000000\n",
       "mean         16.510950\n",
       "std          75.220444\n",
       "min           0.000000\n",
       "25%           1.000000\n",
       "50%           2.000000\n",
       "75%           4.000000\n",
       "max        1911.000000\n",
       "Name: Proposed Units, dtype: float64"
      ]
     },
     "metadata": {},
     "output_type": "display_data"
    },
    {
     "data": {
      "text/plain": [
       "count    129467.000000\n",
       "mean         15.467053\n",
       "std          72.782494\n",
       "min           0.000000\n",
       "25%           1.000000\n",
       "50%           1.000000\n",
       "75%           4.000000\n",
       "max        1911.000000\n",
       "Name: Proposed Units, dtype: float64"
      ]
     },
     "metadata": {},
     "output_type": "display_data"
    },
    {
     "data": {
      "text/plain": [
       "'****************************************'"
      ]
     },
     "metadata": {},
     "output_type": "display_data"
    },
    {
     "data": {
      "text/plain": [
       "count    161591.000000\n",
       "mean          1.274650\n",
       "std          22.407345\n",
       "min           0.000000\n",
       "25%           0.000000\n",
       "50%           2.000000\n",
       "75%           2.000000\n",
       "max        9000.000000\n",
       "Name: Plansets, dtype: float64"
      ]
     },
     "metadata": {},
     "output_type": "display_data"
    },
    {
     "data": {
      "text/plain": [
       "count    129467.000000\n",
       "mean          1.150795\n",
       "std          25.029797\n",
       "min           0.000000\n",
       "25%           0.000000\n",
       "50%           2.000000\n",
       "75%           2.000000\n",
       "max        9000.000000\n",
       "Name: Plansets, dtype: float64"
      ]
     },
     "metadata": {},
     "output_type": "display_data"
    },
    {
     "data": {
      "text/plain": [
       "'****************************************'"
      ]
     },
     "metadata": {},
     "output_type": "display_data"
    },
    {
     "data": {
      "text/plain": [
       "count    155534.000000\n",
       "mean          4.072878\n",
       "std           1.585756\n",
       "min           1.000000\n",
       "25%           3.000000\n",
       "50%           5.000000\n",
       "75%           5.000000\n",
       "max           5.000000\n",
       "Name: Existing Construction Type, dtype: float64"
      ]
     },
     "metadata": {},
     "output_type": "display_data"
    },
    {
     "data": {
      "text/plain": [
       "count    129467.000000\n",
       "mean          4.212996\n",
       "std           1.497191\n",
       "min           1.000000\n",
       "25%           5.000000\n",
       "50%           5.000000\n",
       "75%           5.000000\n",
       "max           5.000000\n",
       "Name: Existing Construction Type, dtype: float64"
      ]
     },
     "metadata": {},
     "output_type": "display_data"
    },
    {
     "data": {
      "text/plain": [
       "'****************************************'"
      ]
     },
     "metadata": {},
     "output_type": "display_data"
    },
    {
     "data": {
      "text/plain": [
       "count             155534\n",
       "unique                 5\n",
       "top       wood frame (5)\n",
       "freq              113350\n",
       "Name: Existing Construction Type Description, dtype: object"
      ]
     },
     "metadata": {},
     "output_type": "display_data"
    },
    {
     "data": {
      "text/plain": [
       "count             129467\n",
       "unique                 5\n",
       "top       wood frame (5)\n",
       "freq               99582\n",
       "Name: Existing Construction Type Description, dtype: object"
      ]
     },
     "metadata": {},
     "output_type": "display_data"
    },
    {
     "data": {
      "text/plain": [
       "'****************************************'"
      ]
     },
     "metadata": {},
     "output_type": "display_data"
    },
    {
     "data": {
      "text/plain": [
       "count    155738.000000\n",
       "mean          4.089529\n",
       "std           1.578766\n",
       "min           1.000000\n",
       "25%           3.000000\n",
       "50%           5.000000\n",
       "75%           5.000000\n",
       "max           5.000000\n",
       "Name: Proposed Construction Type, dtype: float64"
      ]
     },
     "metadata": {},
     "output_type": "display_data"
    },
    {
     "data": {
      "text/plain": [
       "count    129467.000000\n",
       "mean          4.212633\n",
       "std           1.497374\n",
       "min           1.000000\n",
       "25%           5.000000\n",
       "50%           5.000000\n",
       "75%           5.000000\n",
       "max           5.000000\n",
       "Name: Proposed Construction Type, dtype: float64"
      ]
     },
     "metadata": {},
     "output_type": "display_data"
    },
    {
     "data": {
      "text/plain": [
       "'****************************************'"
      ]
     },
     "metadata": {},
     "output_type": "display_data"
    },
    {
     "data": {
      "text/plain": [
       "count             155738\n",
       "unique                 5\n",
       "top       wood frame (5)\n",
       "freq              114382\n",
       "Name: Proposed Construction Type Description, dtype: object"
      ]
     },
     "metadata": {},
     "output_type": "display_data"
    },
    {
     "data": {
      "text/plain": [
       "count             129467\n",
       "unique                 5\n",
       "top       wood frame (5)\n",
       "freq               99563\n",
       "Name: Proposed Construction Type Description, dtype: object"
      ]
     },
     "metadata": {},
     "output_type": "display_data"
    },
    {
     "data": {
      "text/plain": [
       "'****************************************'"
      ]
     },
     "metadata": {},
     "output_type": "display_data"
    },
    {
     "data": {
      "text/plain": [
       "count    197183.000000\n",
       "mean          5.538403\n",
       "std           2.887041\n",
       "min           1.000000\n",
       "25%           3.000000\n",
       "50%           6.000000\n",
       "75%           8.000000\n",
       "max          11.000000\n",
       "Name: Supervisor District, dtype: float64"
      ]
     },
     "metadata": {},
     "output_type": "display_data"
    },
    {
     "data": {
      "text/plain": [
       "count    129467.000000\n",
       "mean          5.633613\n",
       "std           2.898954\n",
       "min           1.000000\n",
       "25%           3.000000\n",
       "50%           6.000000\n",
       "75%           8.000000\n",
       "max          11.000000\n",
       "Name: Supervisor District, dtype: float64"
      ]
     },
     "metadata": {},
     "output_type": "display_data"
    },
    {
     "data": {
      "text/plain": [
       "'****************************************'"
      ]
     },
     "metadata": {},
     "output_type": "display_data"
    },
    {
     "data": {
      "text/plain": [
       "count                             197175\n",
       "unique                                41\n",
       "top       Financial District/South Beach\n",
       "freq                               21816\n",
       "Name: Neighborhoods - Analysis Boundaries, dtype: object"
      ]
     },
     "metadata": {},
     "output_type": "display_data"
    },
    {
     "data": {
      "text/plain": [
       "count                             129467\n",
       "unique                                41\n",
       "top       Financial District/South Beach\n",
       "freq                               13638\n",
       "Name: Neighborhoods - Analysis Boundaries, dtype: object"
      ]
     },
     "metadata": {},
     "output_type": "display_data"
    },
    {
     "data": {
      "text/plain": [
       "'****************************************'"
      ]
     },
     "metadata": {},
     "output_type": "display_data"
    },
    {
     "data": {
      "text/plain": [
       "count    197184.000000\n",
       "mean      94115.500558\n",
       "std           9.270131\n",
       "min       94102.000000\n",
       "25%       94109.000000\n",
       "50%       94114.000000\n",
       "75%       94122.000000\n",
       "max       94158.000000\n",
       "Name: Zipcode, dtype: float64"
      ]
     },
     "metadata": {},
     "output_type": "display_data"
    },
    {
     "data": {
      "text/plain": [
       "count    129467.000000\n",
       "mean      94115.693011\n",
       "std           9.047734\n",
       "min       94102.000000\n",
       "25%       94109.000000\n",
       "50%       94115.000000\n",
       "75%       94122.000000\n",
       "max       94158.000000\n",
       "Name: Zipcode, dtype: float64"
      ]
     },
     "metadata": {},
     "output_type": "display_data"
    },
    {
     "data": {
      "text/plain": [
       "'****************************************'"
      ]
     },
     "metadata": {},
     "output_type": "display_data"
    },
    {
     "data": {
      "text/plain": [
       "count                                      197200\n",
       "unique                                      57604\n",
       "top       (37.79226164705184, -122.4034859571375)\n",
       "freq                                          554\n",
       "Name: Location, dtype: object"
      ]
     },
     "metadata": {},
     "output_type": "display_data"
    },
    {
     "data": {
      "text/plain": [
       "count                                      129467\n",
       "unique                                      47701\n",
       "top       (37.79226164705184, -122.4034859571375)\n",
       "freq                                          403\n",
       "Name: Location, dtype: object"
      ]
     },
     "metadata": {},
     "output_type": "display_data"
    },
    {
     "data": {
      "text/plain": [
       "'****************************************'"
      ]
     },
     "metadata": {},
     "output_type": "display_data"
    },
    {
     "data": {
      "text/plain": [
       "count    1.989000e+05\n",
       "mean     1.162048e+12\n",
       "std      4.918215e+11\n",
       "min      1.293532e+10\n",
       "25%      1.308567e+12\n",
       "50%      1.371840e+12\n",
       "75%      1.435000e+12\n",
       "max      1.498342e+12\n",
       "Name: Record ID, dtype: float64"
      ]
     },
     "metadata": {},
     "output_type": "display_data"
    },
    {
     "data": {
      "text/plain": [
       "count    1.294670e+05\n",
       "mean     1.175948e+12\n",
       "std      4.758527e+11\n",
       "min      1.293532e+10\n",
       "25%      1.310438e+12\n",
       "50%      1.368692e+12\n",
       "75%      1.430051e+12\n",
       "max      1.498339e+12\n",
       "Name: Record ID, dtype: float64"
      ]
     },
     "metadata": {},
     "output_type": "display_data"
    },
    {
     "data": {
      "text/plain": [
       "'****************************************'"
      ]
     },
     "metadata": {},
     "output_type": "display_data"
    }
   ],
   "source": [
    "# e. Remove all the rows that contain a missing value. Compare original columns and columns dropped after this step.\n",
    "bp_df_dropdna= bp_df.dropna(axis=0)\n",
    "\n",
    "\n",
    "for _c in bp_df.columns:\n",
    "    display(bp_df[_c].describe(), bp_df_dropdna[_c].describe(), \"*\"*40)\n",
    "\n",
    "\n"
   ]
  },
  {
   "cell_type": "code",
   "execution_count": 22,
   "metadata": {},
   "outputs": [
    {
     "data": {
      "text/plain": [
       "Permit Number                             0\n",
       "Permit Type                               0\n",
       "Permit Type Definition                    0\n",
       "Permit Creation Date                      0\n",
       "Block                                     0\n",
       "Lot                                       0\n",
       "Street Number                             0\n",
       "Street Name                               0\n",
       "Street Suffix                             0\n",
       "Description                               0\n",
       "Current Status                            0\n",
       "Current Status Date                       0\n",
       "Filed Date                                0\n",
       "Issued Date                               0\n",
       "First Construction Document Date          0\n",
       "Number of Existing Stories                0\n",
       "Number of Proposed Stories                0\n",
       "Permit Expiration Date                    0\n",
       "Estimated Cost                            0\n",
       "Revised Cost                              0\n",
       "Existing Use                              0\n",
       "Existing Units                            0\n",
       "Proposed Use                              0\n",
       "Proposed Units                            0\n",
       "Plansets                                  0\n",
       "Existing Construction Type                0\n",
       "Existing Construction Type Description    0\n",
       "Proposed Construction Type                0\n",
       "Proposed Construction Type Description    0\n",
       "Supervisor District                       0\n",
       "Neighborhoods - Analysis Boundaries       0\n",
       "Zipcode                                   0\n",
       "Location                                  0\n",
       "Record ID                                 0\n",
       "dtype: int64"
      ]
     },
     "execution_count": 22,
     "metadata": {},
     "output_type": "execute_result"
    }
   ],
   "source": [
    "# f. Replace missing values automatically using fillna(), ffill, bfill as required.\n",
    "\n",
    "# lazy LOSSY implementation\n",
    "for _c in bp_df.columns:\n",
    "    bp_df[_c] = bp_df[_c].fillna(method='ffill').fillna(method='bfill')\n",
    "\n",
    "bp_df.isna().sum()\n"
   ]
  },
  {
   "cell_type": "code",
   "execution_count": 23,
   "metadata": {},
   "outputs": [
    {
     "name": "stdout",
     "output_type": "stream",
     "text": [
      "<class 'pandas.core.frame.DataFrame'>\n",
      "RangeIndex: 198900 entries, 0 to 198899\n",
      "Data columns (total 6 columns):\n",
      " #   Column                            Non-Null Count   Dtype \n",
      "---  ------                            --------------   ----- \n",
      " 0   Permit Creation Date              198900 non-null  object\n",
      " 1   Current Status Date               198900 non-null  object\n",
      " 2   Filed Date                        198900 non-null  object\n",
      " 3   Issued Date                       198900 non-null  object\n",
      " 4   First Construction Document Date  198900 non-null  object\n",
      " 5   Permit Expiration Date            198900 non-null  object\n",
      "dtypes: object(6)\n",
      "memory usage: 9.1+ MB\n",
      "<class 'pandas.core.frame.DataFrame'>\n",
      "RangeIndex: 198900 entries, 0 to 198899\n",
      "Data columns (total 6 columns):\n",
      " #   Column                            Non-Null Count   Dtype         \n",
      "---  ------                            --------------   -----         \n",
      " 0   Permit Creation Date              198900 non-null  datetime64[ns]\n",
      " 1   Current Status Date               198900 non-null  datetime64[ns]\n",
      " 2   Filed Date                        198900 non-null  datetime64[ns]\n",
      " 3   Issued Date                       198900 non-null  datetime64[ns]\n",
      " 4   First Construction Document Date  198900 non-null  datetime64[ns]\n",
      " 5   Permit Expiration Date            198900 non-null  datetime64[ns]\n",
      "dtypes: datetime64[ns](6)\n",
      "memory usage: 9.1 MB\n"
     ]
    }
   ],
   "source": [
    "# g. Apply Datetime format to all columns with Date Name. e.g. Current Status Date, Permit Creation Date etc. Apply to all.\n",
    "\n",
    "datecols=[s for s in bp_df.columns if 'date' in s.lower()]\n",
    "bp_df[datecols].info()\n",
    "\n",
    "for _c in datecols:\n",
    "    bp_df[_c] = pd.to_datetime(bp_df[_c])\n",
    "    \n",
    "bp_df[datecols].info()"
   ]
  },
  {
   "cell_type": "code",
   "execution_count": 24,
   "metadata": {},
   "outputs": [],
   "source": [
    "# print(clean_namespace(early_namespace, dir()))"
   ]
  },
  {
   "cell_type": "code",
   "execution_count": 25,
   "metadata": {},
   "outputs": [
    {
     "data": {
      "text/plain": [
       "(32561, 15)"
      ]
     },
     "metadata": {},
     "output_type": "display_data"
    }
   ],
   "source": [
    "# 3. ADULT.CSV\n",
    "# Perform the Data Cleaning, Data Preparation using the adult dataset:\n",
    "# a. Read the adult.csv data\n",
    "adults_data_path = r'C:\\Users\\emmam\\Documents\\nlb\\data\\adult.csv'\n",
    "\n",
    "ad_df = pd.read_csv(adults_data_path)\n",
    "\n",
    "ad_df.sample(10)\n",
    "\n",
    "display(ad_df.shape)\n",
    "\n"
   ]
  },
  {
   "cell_type": "code",
   "execution_count": 26,
   "metadata": {},
   "outputs": [
    {
     "data": {
      "text/plain": [
       "'********************'"
      ]
     },
     "metadata": {},
     "output_type": "display_data"
    },
    {
     "data": {
      "text/plain": [
       "\"Total '?' cells in dataset: 4262\""
      ]
     },
     "metadata": {},
     "output_type": "display_data"
    },
    {
     "data": {
      "text/plain": [
       "'********************'"
      ]
     },
     "metadata": {},
     "output_type": "display_data"
    }
   ],
   "source": [
    "\n",
    "# b. Count the number ‘?’ values in the entire dataset use str.contains()\n",
    "\n",
    "questionmark_map = ad_df.applymap(lambda s : str(s).__contains__(\"?\"))#.sum().sum()\n",
    "\n",
    "questionmark_map_ttl_sum = questionmark_map.sum().sum()\n",
    "\n",
    "display(\"*\"*20,f\"Total '?' cells in dataset: {questionmark_map_ttl_sum}\",\"*\"*20)\n"
   ]
  },
  {
   "cell_type": "code",
   "execution_count": 27,
   "metadata": {},
   "outputs": [
    {
     "data": {
      "text/plain": [
       "\"nans before '?' replacement\""
      ]
     },
     "metadata": {},
     "output_type": "display_data"
    },
    {
     "data": {
      "text/plain": [
       "age               0\n",
       "workclass         0\n",
       "fnlwgt            0\n",
       "education         0\n",
       "education.num     0\n",
       "marital.status    0\n",
       "occupation        0\n",
       "relationship      0\n",
       "race              0\n",
       "sex               0\n",
       "capital.gain      0\n",
       "capital.loss      0\n",
       "hours.per.week    0\n",
       "native.country    0\n",
       "income            0\n",
       "dtype: int64"
      ]
     },
     "metadata": {},
     "output_type": "display_data"
    },
    {
     "data": {
      "text/plain": [
       "\"nans after '?' replacement\""
      ]
     },
     "metadata": {},
     "output_type": "display_data"
    },
    {
     "data": {
      "text/plain": [
       "age                  0\n",
       "workclass         1836\n",
       "fnlwgt               0\n",
       "education            0\n",
       "education.num        0\n",
       "marital.status       0\n",
       "occupation        1843\n",
       "relationship         0\n",
       "race                 0\n",
       "sex                  0\n",
       "capital.gain         0\n",
       "capital.loss         0\n",
       "hours.per.week       0\n",
       "native.country     583\n",
       "income               0\n",
       "dtype: int64"
      ]
     },
     "metadata": {},
     "output_type": "display_data"
    }
   ],
   "source": [
    "\n",
    "# c. Replace all ‘?’ with null values. Check the total number of null values in each column\n",
    "\n",
    "display(f\"nans before '?' replacement\", ad_df.isna().sum())\n",
    "\n",
    "ad_df[questionmark_map]=np.nan\n",
    "\n",
    "display(f\"nans after '?' replacement\", ad_df.isna().sum())\n"
   ]
  },
  {
   "cell_type": "code",
   "execution_count": 28,
   "metadata": {},
   "outputs": [
    {
     "data": {
      "text/plain": [
       "'nans after fillna'"
      ]
     },
     "metadata": {},
     "output_type": "display_data"
    },
    {
     "data": {
      "text/plain": [
       "age               0\n",
       "workclass         0\n",
       "fnlwgt            0\n",
       "education         0\n",
       "education.num     0\n",
       "marital.status    0\n",
       "occupation        0\n",
       "relationship      0\n",
       "race              0\n",
       "sex               0\n",
       "capital.gain      0\n",
       "capital.loss      0\n",
       "hours.per.week    0\n",
       "native.country    0\n",
       "income            0\n",
       "dtype: int64"
      ]
     },
     "metadata": {},
     "output_type": "display_data"
    }
   ],
   "source": [
    "# d. Replace missing values automatically using fillna(), ffill, bfill, replace by using mean, median.\n",
    "\n",
    "categorical_cols = ['workclass','occupation', 'native.country']\n",
    "\n",
    "for _c in categorical_cols:\n",
    "    ad_df[_c].fillna(mode(ad_df[_c]).mode[0], inplace=True)\n",
    "\n",
    "display(f\"nans after fillna\", ad_df.isna().sum())\n"
   ]
  },
  {
   "cell_type": "code",
   "execution_count": 29,
   "metadata": {},
   "outputs": [
    {
     "data": {
      "text/plain": [
       "age                  0\n",
       "workclass         1836\n",
       "fnlwgt               0\n",
       "education            0\n",
       "education.num        0\n",
       "marital.status       0\n",
       "occupation        1843\n",
       "relationship         0\n",
       "race                 0\n",
       "sex                  0\n",
       "capital.gain         0\n",
       "capital.loss         0\n",
       "hours.per.week       0\n",
       "native.country     583\n",
       "income               0\n",
       "dtype: int64"
      ]
     },
     "metadata": {},
     "output_type": "display_data"
    },
    {
     "data": {
      "text/plain": [
       "count       32561\n",
       "unique          8\n",
       "top       Private\n",
       "freq        24532\n",
       "Name: workclass, dtype: object"
      ]
     },
     "metadata": {},
     "output_type": "display_data"
    },
    {
     "data": {
      "text/plain": [
       "count       30162\n",
       "unique          7\n",
       "top       Private\n",
       "freq        22286\n",
       "Name: workclass, dtype: object"
      ]
     },
     "metadata": {},
     "output_type": "display_data"
    },
    {
     "data": {
      "text/plain": [
       "'****************************************'"
      ]
     },
     "metadata": {},
     "output_type": "display_data"
    },
    {
     "data": {
      "text/plain": [
       "count              32561\n",
       "unique                14\n",
       "top       Prof-specialty\n",
       "freq                5983\n",
       "Name: occupation, dtype: object"
      ]
     },
     "metadata": {},
     "output_type": "display_data"
    },
    {
     "data": {
      "text/plain": [
       "count              30162\n",
       "unique                14\n",
       "top       Prof-specialty\n",
       "freq                4038\n",
       "Name: occupation, dtype: object"
      ]
     },
     "metadata": {},
     "output_type": "display_data"
    },
    {
     "data": {
      "text/plain": [
       "'****************************************'"
      ]
     },
     "metadata": {},
     "output_type": "display_data"
    },
    {
     "data": {
      "text/plain": [
       "count             32561\n",
       "unique               41\n",
       "top       United-States\n",
       "freq              29753\n",
       "Name: native.country, dtype: object"
      ]
     },
     "metadata": {},
     "output_type": "display_data"
    },
    {
     "data": {
      "text/plain": [
       "count             30162\n",
       "unique               41\n",
       "top       United-States\n",
       "freq              27504\n",
       "Name: native.country, dtype: object"
      ]
     },
     "metadata": {},
     "output_type": "display_data"
    },
    {
     "data": {
      "text/plain": [
       "'****************************************'"
      ]
     },
     "metadata": {},
     "output_type": "display_data"
    }
   ],
   "source": [
    "# e. Remove all the rows that contain a missing value. Compare original columns and columns dropped after this step. \n",
    "\n",
    "o_ad_df = pd.read_csv(adults_data_path)\n",
    "o_ad_df[questionmark_map]=np.nan\n",
    "display(o_ad_df.isna().sum())\n",
    "o_ad_df.dropna(axis=0, inplace=True)\n",
    "               \n",
    "\n",
    "for _c in ['workclass', 'occupation', 'native.country']:\n",
    "    display(ad_df[_c].describe(), o_ad_df[_c].describe(), \"*\"*40)\n",
    "\n"
   ]
  },
  {
   "cell_type": "code",
   "execution_count": 86,
   "metadata": {},
   "outputs": [
    {
     "data": {
      "text/html": [
       "<div>\n",
       "<style scoped>\n",
       "    .dataframe tbody tr th:only-of-type {\n",
       "        vertical-align: middle;\n",
       "    }\n",
       "\n",
       "    .dataframe tbody tr th {\n",
       "        vertical-align: top;\n",
       "    }\n",
       "\n",
       "    .dataframe thead th {\n",
       "        text-align: right;\n",
       "    }\n",
       "</style>\n",
       "<table border=\"1\" class=\"dataframe\">\n",
       "  <thead>\n",
       "    <tr style=\"text-align: right;\">\n",
       "      <th></th>\n",
       "      <th>CRIM</th>\n",
       "      <th>ZN</th>\n",
       "      <th>INDUS</th>\n",
       "      <th>NOX</th>\n",
       "      <th>RM</th>\n",
       "      <th>AGE</th>\n",
       "      <th>DIS</th>\n",
       "      <th>TAX</th>\n",
       "      <th>PTRATIO</th>\n",
       "      <th>MEDV</th>\n",
       "    </tr>\n",
       "  </thead>\n",
       "  <tbody>\n",
       "    <tr>\n",
       "      <th>10</th>\n",
       "      <td>0.06076</td>\n",
       "      <td>0.0</td>\n",
       "      <td>11.93</td>\n",
       "      <td>0.573</td>\n",
       "      <td>6.976</td>\n",
       "      <td>91.0</td>\n",
       "      <td>2.1675</td>\n",
       "      <td>273</td>\n",
       "      <td>21.0</td>\n",
       "      <td>23.9</td>\n",
       "    </tr>\n",
       "    <tr>\n",
       "      <th>277</th>\n",
       "      <td>0.07978</td>\n",
       "      <td>40.0</td>\n",
       "      <td>6.41</td>\n",
       "      <td>0.447</td>\n",
       "      <td>6.482</td>\n",
       "      <td>32.1</td>\n",
       "      <td>4.1403</td>\n",
       "      <td>254</td>\n",
       "      <td>17.6</td>\n",
       "      <td>29.1</td>\n",
       "    </tr>\n",
       "    <tr>\n",
       "      <th>8</th>\n",
       "      <td>0.06905</td>\n",
       "      <td>0.0</td>\n",
       "      <td>2.18</td>\n",
       "      <td>0.458</td>\n",
       "      <td>7.147</td>\n",
       "      <td>54.2</td>\n",
       "      <td>6.0622</td>\n",
       "      <td>222</td>\n",
       "      <td>18.7</td>\n",
       "      <td>36.2</td>\n",
       "    </tr>\n",
       "    <tr>\n",
       "      <th>130</th>\n",
       "      <td>0.49298</td>\n",
       "      <td>0.0</td>\n",
       "      <td>9.90</td>\n",
       "      <td>0.544</td>\n",
       "      <td>6.635</td>\n",
       "      <td>82.5</td>\n",
       "      <td>3.3175</td>\n",
       "      <td>304</td>\n",
       "      <td>18.4</td>\n",
       "      <td>22.8</td>\n",
       "    </tr>\n",
       "    <tr>\n",
       "      <th>80</th>\n",
       "      <td>0.29090</td>\n",
       "      <td>0.0</td>\n",
       "      <td>21.89</td>\n",
       "      <td>0.624</td>\n",
       "      <td>6.174</td>\n",
       "      <td>93.6</td>\n",
       "      <td>1.6119</td>\n",
       "      <td>437</td>\n",
       "      <td>21.2</td>\n",
       "      <td>14.0</td>\n",
       "    </tr>\n",
       "    <tr>\n",
       "      <th>392</th>\n",
       "      <td>18.49820</td>\n",
       "      <td>0.0</td>\n",
       "      <td>18.10</td>\n",
       "      <td>0.668</td>\n",
       "      <td>4.138</td>\n",
       "      <td>100.0</td>\n",
       "      <td>1.1370</td>\n",
       "      <td>666</td>\n",
       "      <td>20.2</td>\n",
       "      <td>13.8</td>\n",
       "    </tr>\n",
       "    <tr>\n",
       "      <th>174</th>\n",
       "      <td>6.44405</td>\n",
       "      <td>0.0</td>\n",
       "      <td>18.10</td>\n",
       "      <td>0.584</td>\n",
       "      <td>6.425</td>\n",
       "      <td>74.8</td>\n",
       "      <td>2.2004</td>\n",
       "      <td>666</td>\n",
       "      <td>20.2</td>\n",
       "      <td>16.1</td>\n",
       "    </tr>\n",
       "    <tr>\n",
       "      <th>56</th>\n",
       "      <td>12.24720</td>\n",
       "      <td>0.0</td>\n",
       "      <td>18.10</td>\n",
       "      <td>0.584</td>\n",
       "      <td>5.837</td>\n",
       "      <td>59.7</td>\n",
       "      <td>1.9976</td>\n",
       "      <td>666</td>\n",
       "      <td>20.2</td>\n",
       "      <td>10.2</td>\n",
       "    </tr>\n",
       "    <tr>\n",
       "      <th>11</th>\n",
       "      <td>0.05479</td>\n",
       "      <td>33.0</td>\n",
       "      <td>2.18</td>\n",
       "      <td>0.472</td>\n",
       "      <td>6.616</td>\n",
       "      <td>58.1</td>\n",
       "      <td>3.3700</td>\n",
       "      <td>222</td>\n",
       "      <td>18.4</td>\n",
       "      <td>28.4</td>\n",
       "    </tr>\n",
       "    <tr>\n",
       "      <th>396</th>\n",
       "      <td>0.04560</td>\n",
       "      <td>0.0</td>\n",
       "      <td>13.89</td>\n",
       "      <td>0.550</td>\n",
       "      <td>5.888</td>\n",
       "      <td>56.0</td>\n",
       "      <td>3.1121</td>\n",
       "      <td>276</td>\n",
       "      <td>16.4</td>\n",
       "      <td>23.3</td>\n",
       "    </tr>\n",
       "  </tbody>\n",
       "</table>\n",
       "</div>"
      ],
      "text/plain": [
       "         CRIM    ZN  INDUS    NOX     RM    AGE     DIS  TAX  PTRATIO  MEDV\n",
       "10    0.06076   0.0  11.93  0.573  6.976   91.0  2.1675  273     21.0  23.9\n",
       "277   0.07978  40.0   6.41  0.447  6.482   32.1  4.1403  254     17.6  29.1\n",
       "8     0.06905   0.0   2.18  0.458  7.147   54.2  6.0622  222     18.7  36.2\n",
       "130   0.49298   0.0   9.90  0.544  6.635   82.5  3.3175  304     18.4  22.8\n",
       "80    0.29090   0.0  21.89  0.624  6.174   93.6  1.6119  437     21.2  14.0\n",
       "392  18.49820   0.0  18.10  0.668  4.138  100.0  1.1370  666     20.2  13.8\n",
       "174   6.44405   0.0  18.10  0.584  6.425   74.8  2.2004  666     20.2  16.1\n",
       "56   12.24720   0.0  18.10  0.584  5.837   59.7  1.9976  666     20.2  10.2\n",
       "11    0.05479  33.0   2.18  0.472  6.616   58.1  3.3700  222     18.4  28.4\n",
       "396   0.04560   0.0  13.89  0.550  5.888   56.0  3.1121  276     16.4  23.3"
      ]
     },
     "execution_count": 86,
     "metadata": {},
     "output_type": "execute_result"
    }
   ],
   "source": [
    "# Use Boston data and check for outliers:\n",
    "# https://raw.githubusercontent.com/ammishra08/MachineLearning/master/Datasets/boston_train.csv\n",
    "# https://raw.githubusercontent.com/ammishra08/MachineLearning/master/Datasets/boston_test.csv\n",
    "\n",
    "# a. Read both the dataset using pandas and merge both the datasets and combine them to create single new dataset.\n",
    "\n",
    "btr_df = pd.read_csv('https://raw.githubusercontent.com/ammishra08/MachineLearning/master/Datasets/boston_train.csv')\n",
    "bts_df = pd.read_csv('https://raw.githubusercontent.com/ammishra08/MachineLearning/master/Datasets/boston_test.csv')\n",
    "b_df = pd.concat([btr_df, bts_df], axis=0)\n",
    "b_df.sample(10)\n"
   ]
  },
  {
   "cell_type": "code",
   "execution_count": 40,
   "metadata": {},
   "outputs": [
    {
     "data": {
      "image/png": "[encoded data removed]",
      "text/plain": [
       "<Figure size 1080x576 with 1 Axes>"
      ]
     },
     "metadata": {
      "needs_background": "light"
     },
     "output_type": "display_data"
    }
   ],
   "source": [
    "# b. Discover outliers with visualization boxplot using DIS, MEDV, AGE, TAX.\n",
    "\n",
    "# ax00= b_df[['DIS','MEDV','AGE','TAX']].plot.box()\n",
    "\n",
    "ax0 = b_df['DIS'].plot.box(figsize=(15,8))\n"
   ]
  },
  {
   "cell_type": "code",
   "execution_count": 41,
   "metadata": {},
   "outputs": [
    {
     "data": {
      "image/png": "[encoded data removed]",
      "text/plain": [
       "<Figure size 1080x576 with 1 Axes>"
      ]
     },
     "metadata": {
      "needs_background": "light"
     },
     "output_type": "display_data"
    }
   ],
   "source": [
    "\n",
    "ax1 = b_df['MEDV'].plot.box(figsize=(15,8))\n"
   ]
  },
  {
   "cell_type": "code",
   "execution_count": 42,
   "metadata": {},
   "outputs": [
    {
     "data": {
      "image/png": "[encoded data removed]",
      "text/plain": [
       "<Figure size 1080x576 with 1 Axes>"
      ]
     },
     "metadata": {
      "needs_background": "light"
     },
     "output_type": "display_data"
    }
   ],
   "source": [
    "\n",
    "ax2 = b_df['AGE'].plot.box(figsize=(15,8))\n"
   ]
  },
  {
   "cell_type": "code",
   "execution_count": 43,
   "metadata": {},
   "outputs": [
    {
     "data": {
      "image/png": "[encoded data removed]",
      "text/plain": [
       "<Figure size 1080x576 with 1 Axes>"
      ]
     },
     "metadata": {
      "needs_background": "light"
     },
     "output_type": "display_data"
    }
   ],
   "source": [
    "ax3 = b_df['TAX'].plot.box(figsize=(15,8))\n"
   ]
  },
  {
   "cell_type": "code",
   "execution_count": 57,
   "metadata": {},
   "outputs": [
    {
     "name": "stdout",
     "output_type": "stream",
     "text": [
      "no LSTAT column\n"
     ]
    },
    {
     "data": {
      "image/png": "[encoded data removed]",
      "text/plain": [
       "<Figure size 1080x576 with 1 Axes>"
      ]
     },
     "metadata": {
      "needs_background": "light"
     },
     "output_type": "display_data"
    },
    {
     "data": {
      "image/png": "[encoded data removed]",
      "text/plain": [
       "<Figure size 1080x576 with 1 Axes>"
      ]
     },
     "metadata": {
      "needs_background": "light"
     },
     "output_type": "display_data"
    },
    {
     "data": {
      "image/png": "[encoded data removed]",
      "text/plain": [
       "<Figure size 1080x576 with 1 Axes>"
      ]
     },
     "metadata": {
      "needs_background": "light"
     },
     "output_type": "display_data"
    }
   ],
   "source": [
    "# c. Discover outliers with visualization scatterplot INDUS vs TAX, LSTAT vs MEDV, RM vs MEDV.\n",
    "\n",
    "ax0 = b_df.plot.scatter(x='INDUS', y='TAX' , figsize=(15,8))\n",
    "\n",
    "print(\"no LSTAT column\")\n",
    "\n",
    "ax1 = b_df.plot.scatter(x='PTRATIO', y='MEDV', figsize=(15,8))\n",
    "\n",
    "ax2 = b_df.plot.scatter(x='RM', y='MEDV', figsize=(15,8))"
   ]
  },
  {
   "cell_type": "code",
   "execution_count": 78,
   "metadata": {},
   "outputs": [
    {
     "data": {
      "text/plain": [
       "[('CRIM',\n",
       "  array([  1,  10,  35,  38,  41,  47,  48,  52,  68,  70,  71,  75,  87,\n",
       "          91,  94, 107, 109, 122, 133, 136, 144, 159, 162, 171, 175, 179,\n",
       "         185, 190, 193, 209, 215, 218, 221, 223, 234, 240, 254, 258, 269,\n",
       "         280, 282, 284, 299, 302, 315, 333, 351, 353, 360, 385, 386, 387,\n",
       "         392,  14,  20,  23,  44,  50,  56,  65,  75,  77,  81,  94,  97,\n",
       "          98])),\n",
       " ('ZN',\n",
       "  array([  4,   6,   7,  11,  58,  69,  83,  84,  97, 111, 116, 117, 120,\n",
       "         129, 138, 140, 145, 148, 149, 150, 164, 165, 168, 172, 187, 210,\n",
       "         214, 230, 273, 277, 289, 291, 293, 298, 310, 311, 319, 320, 328,\n",
       "         340, 342, 346, 350, 363, 368, 369, 370, 371, 378, 379, 381, 383,\n",
       "           1,   7,  18,  27,  32,  33,  52,  58,  63,  66,  69,  74,  76,\n",
       "          90])),\n",
       " ('INDUS', array([], dtype=float64)),\n",
       " ('NOX', array([], dtype=float64)),\n",
       " ('RM',\n",
       "  array([ 18,  45, 103, 104, 108, 109, 111, 131, 139, 143, 153, 164, 211,\n",
       "         234, 240, 260, 293, 297, 320, 325, 331, 333, 334, 384, 385, 386,\n",
       "         389, 392,  13,  34])),\n",
       " ('AGE', array([], dtype=float64)),\n",
       " ('DIS', array([  6,  58, 210, 346,   7])),\n",
       " ('TAX', array([], dtype=float64)),\n",
       " ('PTRATIO', array([  4, 363,  27])),\n",
       " ('MEDV',\n",
       "  array([ 10,  15,  23,  36,  37,  45,  66,  70,  83,  89,  92, 103, 104,\n",
       "         108, 111, 131, 139, 143, 150, 153, 164, 170, 196, 211, 260, 265,\n",
       "         293, 297, 320, 331, 334, 337, 353, 378, 384, 389,  13,  32,  34,\n",
       "          37]))]"
      ]
     },
     "metadata": {},
     "output_type": "display_data"
    },
    {
     "data": {
      "text/plain": [
       "[('CRIM',\n",
       "  (array([ 10,  41,  52,  75, 133, 144, 190, 209, 215, 234, 240, 258, 280,\n",
       "          315, 353, 450], dtype=int64),)),\n",
       " ('ZN',\n",
       "  (array([  4,   6,  58,  83,  84, 111, 116, 148, 150, 164, 165, 168, 187,\n",
       "          210, 214, 291, 293, 310, 311, 319, 320, 328, 340, 346, 350, 363,\n",
       "          369, 378, 379, 381, 383, 407, 418, 427, 452, 463, 469, 474],\n",
       "         dtype=int64),)),\n",
       " ('INDUS',\n",
       "  (array([  9,  53,  62,  95,  98, 167, 194, 228, 246, 295, 366, 412],\n",
       "         dtype=int64),)),\n",
       " ('NOX',\n",
       "  (array([ 14,  51,  60,  81, 125, 216, 220, 248, 316, 317, 344, 374, 393,\n",
       "          417, 443, 479], dtype=int64),)),\n",
       " ('RM',\n",
       "  (array([ 18,  45, 103, 104, 108, 109, 111, 131, 139, 143, 153, 164, 211,\n",
       "          234, 240, 260, 287, 293, 297, 320, 325, 331, 333, 334, 384, 385,\n",
       "          386, 389, 392, 413, 434], dtype=int64),)),\n",
       " ('AGE',\n",
       "  (array([  2,  16, 106, 165, 239, 252, 259, 271, 330, 379, 388, 399, 434,\n",
       "          462], dtype=int64),)),\n",
       " ('DIS',\n",
       "  (array([  6,  58, 147, 148, 149, 187, 210, 214, 226, 289, 291, 311, 330,\n",
       "          335, 346, 359, 369, 407, 434, 452, 474, 486], dtype=int64),)),\n",
       " ('TAX', (array([], dtype=int64),)),\n",
       " ('PTRATIO',\n",
       "  (array([  4,  13, 101, 104, 111, 153, 178, 196, 207, 297, 326, 363, 427,\n",
       "          437, 439, 488], dtype=int64),)),\n",
       " ('MEDV',\n",
       "  (array([ 15,  23,  36,  37,  70,  89,  92, 103, 104, 108, 111, 131, 143,\n",
       "          150, 153, 164, 196, 211, 260, 265, 293, 297, 320, 331, 337, 378,\n",
       "          384, 389, 413, 434, 437], dtype=int64),))]"
      ]
     },
     "metadata": {},
     "output_type": "display_data"
    }
   ],
   "source": [
    "# d. Use IQR and Z score and Remove all the Outliers.\n",
    "def find_outlier(df):\n",
    "    q1=df.quantile(.25)\n",
    "    q3=df.quantile(.75)\n",
    "    \n",
    "    iqr=q3-q1\n",
    "    min_range = q1 - 1.5*iqr\n",
    "    max_range = q3 + 1.5*iqr\n",
    "    outliers_ixs = list(df.index[ (df < min_range) | (df > max_range) ])\n",
    "    #outliers_ixs = list(df.loc[ (df < min_range) | (df > max_range) ])\n",
    "    outliers_vals = list(df[outliers_ixs])\n",
    "    \n",
    "    return outliers_ixs, outliers_vals\n",
    "\n",
    "outliers_iqr = list()\n",
    "outliers_z=list()\n",
    "threshold= 2\n",
    "\n",
    "for _c in b_df.columns:\n",
    "    outliers_iqr.append((_c,np.array(find_outlier(b_df[_c])[0])))\n",
    "\n",
    "    z= np.abs(zscore(b_df[_c]))\n",
    "    outliers_ix_z = np.where(z>threshold)\n",
    "    outliers_z.append((_c, outliers_ix_z))\n",
    "\n",
    "\n",
    "display(outliers_iqr, outliers_z)\n",
    "\n",
    "\n"
   ]
  },
  {
   "cell_type": "code",
   "execution_count": 100,
   "metadata": {},
   "outputs": [
    {
     "data": {
      "text/plain": [
       "CRIM       65\n",
       "ZN         70\n",
       "INDUS      12\n",
       "NOX        16\n",
       "RM         33\n",
       "AGE        14\n",
       "DIS        23\n",
       "TAX         0\n",
       "PTRATIO    17\n",
       "MEDV       42\n",
       "dtype: int64"
      ]
     },
     "metadata": {},
     "output_type": "display_data"
    },
    {
     "data": {
      "text/plain": [
       "CRIM       65\n",
       "ZN         70\n",
       "INDUS      12\n",
       "NOX        16\n",
       "RM         33\n",
       "AGE        14\n",
       "DIS        23\n",
       "TAX         0\n",
       "PTRATIO    17\n",
       "MEDV       42\n",
       "dtype: int64"
      ]
     },
     "metadata": {},
     "output_type": "display_data"
    },
    {
     "name": "stdout",
     "output_type": "stream",
     "text": [
      "0.18337\n",
      "0.0\n",
      "8.56\n",
      "0.532\n",
      "6.176\n",
      "79.2\n",
      "3.0334\n",
      "330.0\n",
      "19.1\n",
      "20.6\n"
     ]
    },
    {
     "data": {
      "text/plain": [
       "CRIM       0\n",
       "ZN         0\n",
       "INDUS      0\n",
       "NOX        0\n",
       "RM         0\n",
       "AGE        0\n",
       "DIS        0\n",
       "TAX        0\n",
       "PTRATIO    0\n",
       "MEDV       0\n",
       "dtype: int64"
      ]
     },
     "metadata": {},
     "output_type": "display_data"
    }
   ],
   "source": [
    "# e. Replace Outliers with Null values. Replacing outliers by Mean, Median.\n",
    "for _c, _ixs in outliers_iqr:\n",
    "    b_df[_c].iloc[_ixs]=np.nan\n",
    "    \n",
    "display(b_df.isna().sum())\n",
    "\n",
    "for _c, _ixs in outliers_z:\n",
    "    b_df[_c].iloc[_ixs]=np.nan\n",
    "    \n",
    "display(b_df.isna().sum())\n",
    "\n",
    "for _c in b_df.columns:\n",
    "    _m = np.nanmedian(b_df[_c])\n",
    "    b_df[_c] = b_df[_c].fillna(_m)\n",
    "    \n",
    "    \n",
    "display(b_df.isna().sum())"
   ]
  },
  {
   "cell_type": "code",
   "execution_count": null,
   "metadata": {},
   "outputs": [],
   "source": []
  }
 ],
 "metadata": {
  "kernelspec": {
   "display_name": "Python 3",
   "language": "python",
   "name": "python3"
  },
  "language_info": {
   "codemirror_mode": {
    "name": "ipython",
    "version": 3
   },
   "file_extension": ".py",
   "mimetype": "text/x-python",
   "name": "python",
   "nbconvert_exporter": "python",
   "pygments_lexer": "ipython3",
   "version": "3.8.5"
  }
 },
 "nbformat": 4,
 "nbformat_minor": 4
}
